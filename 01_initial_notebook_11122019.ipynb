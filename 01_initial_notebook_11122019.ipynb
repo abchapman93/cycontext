{
 "cells": [
  {
   "cell_type": "code",
   "execution_count": 18,
   "metadata": {},
   "outputs": [],
   "source": [
    "import spacy\n",
    "\n",
    "from spacy.matcher import Matcher, PhraseMatcher\n",
    "from spacy.pipeline import EntityRuler"
   ]
  },
  {
   "cell_type": "code",
   "execution_count": 73,
   "metadata": {},
   "outputs": [
    {
     "data": {
      "text/plain": [
       "('ner', <spacy.pipeline.pipes.EntityRecognizer at 0x170ca702e88>)"
      ]
     },
     "execution_count": 73,
     "metadata": {},
     "output_type": "execute_result"
    }
   ],
   "source": [
    "nlp = spacy.load(\"en_core_web_sm\")\n",
    "nlp.remove_pipe(\"ner\")"
   ]
  },
  {
   "cell_type": "code",
   "execution_count": 396,
   "metadata": {},
   "outputs": [],
   "source": [
    "example_text = \"There is no evidence of pneumonia or asthma but there is angina. There is CHF. PE is ruled out. There is pneumonia but pe is ruled out.\""
   ]
  },
  {
   "cell_type": "code",
   "execution_count": 60,
   "metadata": {},
   "outputs": [],
   "source": [
    "from spacy.tokens import Doc, Span"
   ]
  },
  {
   "cell_type": "code",
   "execution_count": 5,
   "metadata": {},
   "outputs": [],
   "source": [
    "Doc.set_extension(\"context_graph\", default=(), force=True)"
   ]
  },
  {
   "cell_type": "code",
   "execution_count": 6,
   "metadata": {},
   "outputs": [],
   "source": [
    "Span.set_extension(\"is_negated\", default=False, force=True)"
   ]
  },
  {
   "cell_type": "code",
   "execution_count": 61,
   "metadata": {},
   "outputs": [],
   "source": [
    "doc = nlp(example_text)"
   ]
  },
  {
   "cell_type": "code",
   "execution_count": 62,
   "metadata": {},
   "outputs": [],
   "source": [
    "sents = list(doc.sents)"
   ]
  },
  {
   "cell_type": "code",
   "execution_count": 63,
   "metadata": {},
   "outputs": [
    {
     "data": {
      "text/plain": [
       "[There is no evidence of pneumonia or  but there is angina.,\n",
       " There is CHF.,\n",
       " PE is ruled out.]"
      ]
     },
     "execution_count": 63,
     "metadata": {},
     "output_type": "execute_result"
    }
   ],
   "source": [
    "sents"
   ]
  },
  {
   "cell_type": "code",
   "execution_count": 295,
   "metadata": {},
   "outputs": [],
   "source": [
    "class ConTextComponent:\n",
    "    name = \"context\"\n",
    "    \n",
    "    def __init__(self, modifier_rules, nlp, doc_attr=\"ents\", text_attr=\"ORTH\"):\n",
    "        self.modifier_rules = modifier_rules\n",
    "        self.nlp = nlp\n",
    "        self.doc_attr = doc_attr\n",
    "        self._modifier_rule_hash = dict() # A mapping of unique identifiers to ModifierRules\n",
    "        self.phrase_matcher = PhraseMatcher(nlp.vocab, attr=text_attr)\n",
    "        self._i = 0\n",
    "        \n",
    "        self.set_phrase_matching_rules()\n",
    "        \n",
    "    def set_phrase_matching_rules(self):\n",
    "        for rule in self.modifier_rules:\n",
    "            uid = self.nlp.vocab.strings[str(self._i)]\n",
    "            self.phrase_matcher.add(str(self._i), \n",
    "                           None, \n",
    "                           self.nlp(rule.literal))\n",
    "            self._modifier_rule_hash[uid] = rule\n",
    "            self._i += 1\n",
    "            \n",
    "    def __call__(self, doc):\n",
    "        if self.doc_attr == \"ents\":\n",
    "            targets = doc.ents\n",
    "        else:\n",
    "            targets = getattr(doc._, self.doc_attr)\n",
    "        print(\"asdf\")\n",
    "        context_graph = ConTextGraph(targets=targets)\n",
    "        doc._.context_graph = context_graph\n",
    "        # Call the phrase matcher to get the modifiers in the sentence\n",
    "        # TODO: will need to prune here\n",
    "        matches = self.phrase_matcher(doc)\n",
    "        for (match_id, start, end) in matches:\n",
    "            modifier = Modifier(doc[start:end], self._modifier_rule_hash[match_id])\n",
    "            context_graph.add_modifier(modifier)\n",
    "        context_graph.build_graph()\n",
    "        \n",
    "        "
   ]
  },
  {
   "cell_type": "code",
   "execution_count": 296,
   "metadata": {},
   "outputs": [],
   "source": [
    "class ModifierRule:\n",
    "    def __init__(self, literal, category, regex=None, directionality=\"bidirectional\"):\n",
    "        self.literal = literal\n",
    "        self.category = category\n",
    "        self.regex = regex\n",
    "        self.directionality = directionality"
   ]
  },
  {
   "cell_type": "code",
   "execution_count": 315,
   "metadata": {},
   "outputs": [],
   "source": [
    "class ConTextGraph:\n",
    "    def __init__(self, targets=(), modifiers=()):    \n",
    "        self.targets = targets\n",
    "        self.modifiers = ()\n",
    "        self.edges = []\n",
    "        self.add_modifiers(modifiers)\n",
    "        \n",
    "    def add_modifiers(self, modifiers):\n",
    "        for modifier in modifiers:\n",
    "            print(modifier)\n",
    "            self.add_modifier(modifier)\n",
    "        for modifier in modifiers:\n",
    "            modifier.update_scope()\n",
    "        \n",
    "    def add_modifier(self, modifier):\n",
    "        \"\"\"Add a TagObject modifier and create any edges between them.\n",
    "        # TODO: move edge-building to its own method \n",
    "        \"\"\"\n",
    "        self.modifiers += (modifier,)\n",
    "        modifier.set_scope()\n",
    "        \n",
    "            \n",
    "    def build_graph(self):\n",
    "        # Update scopes of modifiers\n",
    "        self.update_scopes()\n",
    "        # Build edges\n",
    "        for modifier in self.modifiers:\n",
    "            for target in self.targets:\n",
    "                if modifier.modifies(target):\n",
    "                    self.edges.append((target, modifier))\n",
    "    \n",
    "    def update_scopes(self):\n",
    "        print(\"Here\")\n",
    "        for i in range(len(self.modifiers) - 1):\n",
    "            print(i)\n",
    "            modifier = self.modifiers[i]\n",
    "            for j in range(i+1, len(self.modifiers)):\n",
    "                modifier2 = self.modifiers[j]\n",
    "                if modifier.limit_scope(modifier2):\n",
    "                    print(True)\n",
    "#     def build_edges(self):\n",
    "        \n",
    "                \n",
    "    def __repr__(self):\n",
    "        return f\"ConTextGraph with {len(self.targets)} targets and {len(self.modifiers)} modifiers\""
   ]
  },
  {
   "cell_type": "code",
   "execution_count": 397,
   "metadata": {},
   "outputs": [],
   "source": [
    "class Modifier:\n",
    "    def __init__(self, span, modifier):\n",
    "        self.span = span\n",
    "        self.modifier = modifier\n",
    "        self._scope_start = None\n",
    "        self._scope_end = None\n",
    "        \n",
    "        self.set_scope()\n",
    "    \n",
    "    @property\n",
    "    def category(self):\n",
    "        return self.modifier.category\n",
    "    \n",
    "    @property\n",
    "    def directionality(self):\n",
    "        return self.modifier.directionality\n",
    "    \n",
    "    def set_scope(self):\n",
    "        \"\"\"Based on the directionality of `modifier`, \n",
    "        set the scope of this tag object within the sentence.\n",
    "        \n",
    "        \"\"\"\n",
    "        \n",
    "        sent = self.span.sent\n",
    "        \n",
    "        if self.modifier.directionality in (\"bidirectional\", \"backward\"):\n",
    "            self._scope_start = self.span.start\n",
    "            self._scope_end = self.span.start\n",
    "            \n",
    "            while True:    \n",
    "                if self._scope_start == sent.start:\n",
    "                    break\n",
    "                self._scope_start -= 1\n",
    "            \n",
    "        \n",
    "        elif self.modifier.directionality in (\"bidirectional\", \"forward\"):\n",
    "            self._scope_start = self.span.end\n",
    "            self._scope_end = self.span.end\n",
    "            \n",
    "            while True:\n",
    "                if self._scope_end == sent.end:\n",
    "                    break\n",
    "                self._scope_end += 1\n",
    "        elif self.modifier.directionality == \"terminate\":\n",
    "            self._scope_start = self.span.end\n",
    "            self._scope_end = self.span.end\n",
    "        else:\n",
    "            raise ValueError(f\"Modifier direction {self.modifier.directionality} is not known\")\n",
    "            \n",
    "    def update_scope(self):\n",
    "         # Set the span to be the entire sentence either forward or backward\n",
    "        if self.modifier.directionality in (\"bidirectional\", \"backward\"):\n",
    "            pass\n",
    "        \n",
    "        elif self.modifier.directionality in (\"bidirectional\", \"forward\"):\n",
    "            pass\n",
    "                \n",
    "        else:\n",
    "            raise ValueError(f\"Modifier direction {self.modifier.directionality} is not known\")\n",
    "            \n",
    "    def limit_scope(self, other):\n",
    "        \"\"\"If self and obj have the same category or if obj has a directionality of 'terminate',\n",
    "        use the span of obj to update the scope of self.\n",
    "        Returns True if obj modfified the scope of self\n",
    "        \"\"\"\n",
    "        if self.span.sent != other.span.sent:\n",
    "            return False\n",
    "        # TODO: Start here\n",
    "        if self.directionality.lower() == \"terminate\":\n",
    "            return False\n",
    "        if other.directionality.lower() not in (\"terminate\", self.directionality.lower()):\n",
    "            return False\n",
    "        \n",
    "        orig_scope = self.scope\n",
    "        \n",
    "        print(self, other)\n",
    "        if (self.directionality.lower() in (\"forward\", \"bidirectional\")):\n",
    "            if other > self:\n",
    "                self._scope_end = min(self._scope_end, other._scope_start)\n",
    "        elif (self.directionality.lower() in (\"backward\", \"bidirectional\")):\n",
    "            if other < self:\n",
    "                self._scope_start = max(self._scope_start, other._scope_end)\n",
    "        print(orig_scope, self.scope)\n",
    "        if orig_scope != self.scope:\n",
    "            return True\n",
    "        else:\n",
    "            return False\n",
    "\n",
    "    @property\n",
    "    def scope(self):\n",
    "        return (self._scope_start, self._scope_end)\n",
    "        \n",
    "    def get_scope(self):\n",
    "        return self.scope\n",
    "        \n",
    "    def modifies(self, other):\n",
    "        \"\"\"Return True if self.span overlaps with another span.\"\"\"\n",
    "        other_start, other_end = other.start, other.end\n",
    "        if self.scope[0] <= other_start < self.scope[1]:\n",
    "            return True\n",
    "        return False\n",
    "    \n",
    "    def __gt__(self, other): return self._scope_start > other._scope_start\n",
    "    def __ge__(self, other): return self._scope_start >= other._scope_start\n",
    "    def __lt(self, other): return self._scope_start < other._scope_start\n",
    "    def __lt(self, other): return self._scope_start <= other._scope_start\n",
    "    \n",
    "    def __repr__(self):\n",
    "        return f\"[{self.span} [{self.category}]]\""
   ]
  },
  {
   "cell_type": "code",
   "execution_count": 373,
   "metadata": {},
   "outputs": [],
   "source": [
    "ruler = EntityRuler(nlp, overwrite_ents=True)"
   ]
  },
  {
   "cell_type": "code",
   "execution_count": 374,
   "metadata": {},
   "outputs": [],
   "source": [
    "patterns = [\n",
    "    [{\"lower\": \"pneumonia\"}],\n",
    "    [{\"lower\": \"asthma\"}],\n",
    "    [{\"lower\": \"angina\"}],\n",
    "    [{\"lower\": \"chf\"}],\n",
    "    [{\"lower\": \"pe\"}],\n",
    "    \n",
    "]"
   ]
  },
  {
   "cell_type": "code",
   "execution_count": 375,
   "metadata": {},
   "outputs": [],
   "source": [
    "patterns = [{\"label\": \"CONDITION\", \"pattern\": pattern} for pattern in patterns]"
   ]
  },
  {
   "cell_type": "code",
   "execution_count": 376,
   "metadata": {},
   "outputs": [],
   "source": [
    "ruler.add_patterns(patterns)"
   ]
  },
  {
   "cell_type": "code",
   "execution_count": 255,
   "metadata": {},
   "outputs": [
    {
     "ename": "ValueError",
     "evalue": "[E007] 'entity_ruler' already exists in pipeline. Existing names: ['tagger', 'parser', 'entity_ruler']",
     "output_type": "error",
     "traceback": [
      "\u001b[1;31m---------------------------------------------------------------------------\u001b[0m",
      "\u001b[1;31mValueError\u001b[0m                                Traceback (most recent call last)",
      "\u001b[1;32m<ipython-input-255-68d67a20e4b8>\u001b[0m in \u001b[0;36m<module>\u001b[1;34m\u001b[0m\n\u001b[1;32m----> 1\u001b[1;33m \u001b[0mnlp\u001b[0m\u001b[1;33m.\u001b[0m\u001b[0madd_pipe\u001b[0m\u001b[1;33m(\u001b[0m\u001b[0mruler\u001b[0m\u001b[1;33m)\u001b[0m\u001b[1;33m\u001b[0m\u001b[1;33m\u001b[0m\u001b[0m\n\u001b[0m",
      "\u001b[1;32m~\\AppData\\Local\\Continuum\\anaconda3\\envs\\py37\\lib\\site-packages\\spacy\\language.py\u001b[0m in \u001b[0;36madd_pipe\u001b[1;34m(self, component, name, before, after, first, last)\u001b[0m\n\u001b[0;32m    339\u001b[0m                 \u001b[0mname\u001b[0m \u001b[1;33m=\u001b[0m \u001b[0mrepr\u001b[0m\u001b[1;33m(\u001b[0m\u001b[0mcomponent\u001b[0m\u001b[1;33m)\u001b[0m\u001b[1;33m\u001b[0m\u001b[1;33m\u001b[0m\u001b[0m\n\u001b[0;32m    340\u001b[0m         \u001b[1;32mif\u001b[0m \u001b[0mname\u001b[0m \u001b[1;32min\u001b[0m \u001b[0mself\u001b[0m\u001b[1;33m.\u001b[0m\u001b[0mpipe_names\u001b[0m\u001b[1;33m:\u001b[0m\u001b[1;33m\u001b[0m\u001b[1;33m\u001b[0m\u001b[0m\n\u001b[1;32m--> 341\u001b[1;33m             \u001b[1;32mraise\u001b[0m \u001b[0mValueError\u001b[0m\u001b[1;33m(\u001b[0m\u001b[0mErrors\u001b[0m\u001b[1;33m.\u001b[0m\u001b[0mE007\u001b[0m\u001b[1;33m.\u001b[0m\u001b[0mformat\u001b[0m\u001b[1;33m(\u001b[0m\u001b[0mname\u001b[0m\u001b[1;33m=\u001b[0m\u001b[0mname\u001b[0m\u001b[1;33m,\u001b[0m \u001b[0mopts\u001b[0m\u001b[1;33m=\u001b[0m\u001b[0mself\u001b[0m\u001b[1;33m.\u001b[0m\u001b[0mpipe_names\u001b[0m\u001b[1;33m)\u001b[0m\u001b[1;33m)\u001b[0m\u001b[1;33m\u001b[0m\u001b[1;33m\u001b[0m\u001b[0m\n\u001b[0m\u001b[0;32m    342\u001b[0m         \u001b[1;32mif\u001b[0m \u001b[0msum\u001b[0m\u001b[1;33m(\u001b[0m\u001b[1;33m[\u001b[0m\u001b[0mbool\u001b[0m\u001b[1;33m(\u001b[0m\u001b[0mbefore\u001b[0m\u001b[1;33m)\u001b[0m\u001b[1;33m,\u001b[0m \u001b[0mbool\u001b[0m\u001b[1;33m(\u001b[0m\u001b[0mafter\u001b[0m\u001b[1;33m)\u001b[0m\u001b[1;33m,\u001b[0m \u001b[0mbool\u001b[0m\u001b[1;33m(\u001b[0m\u001b[0mfirst\u001b[0m\u001b[1;33m)\u001b[0m\u001b[1;33m,\u001b[0m \u001b[0mbool\u001b[0m\u001b[1;33m(\u001b[0m\u001b[0mlast\u001b[0m\u001b[1;33m)\u001b[0m\u001b[1;33m]\u001b[0m\u001b[1;33m)\u001b[0m \u001b[1;33m>=\u001b[0m \u001b[1;36m2\u001b[0m\u001b[1;33m:\u001b[0m\u001b[1;33m\u001b[0m\u001b[1;33m\u001b[0m\u001b[0m\n\u001b[0;32m    343\u001b[0m             \u001b[1;32mraise\u001b[0m \u001b[0mValueError\u001b[0m\u001b[1;33m(\u001b[0m\u001b[0mErrors\u001b[0m\u001b[1;33m.\u001b[0m\u001b[0mE006\u001b[0m\u001b[1;33m)\u001b[0m\u001b[1;33m\u001b[0m\u001b[1;33m\u001b[0m\u001b[0m\n",
      "\u001b[1;31mValueError\u001b[0m: [E007] 'entity_ruler' already exists in pipeline. Existing names: ['tagger', 'parser', 'entity_ruler']"
     ]
    }
   ],
   "source": [
    "nlp.add_pipe(ruler)"
   ]
  },
  {
   "cell_type": "code",
   "execution_count": 388,
   "metadata": {},
   "outputs": [],
   "source": [
    "doc = nlp(example_text)"
   ]
  },
  {
   "cell_type": "code",
   "execution_count": 389,
   "metadata": {},
   "outputs": [
    {
     "data": {
      "text/plain": [
       "(pneumonia, asthma, angina, CHF, PE)"
      ]
     },
     "execution_count": 389,
     "metadata": {},
     "output_type": "execute_result"
    }
   ],
   "source": [
    "doc.ents"
   ]
  },
  {
   "cell_type": "code",
   "execution_count": 390,
   "metadata": {},
   "outputs": [],
   "source": [
    "modifier_rules = [ModifierRule(\"no evidence of\", category=\"DEFINITE_NEGATED_EXISTENCE\", directionality=\"forward\"),\n",
    "                  ModifierRule(\"but\", category=\"DEFINITE_NEGATED_EXISTENCE\", directionality=\"terminate\"),\n",
    "            ModifierRule(\"is ruled out\", category=\"DEFINITE_NEGATED_EXISTENCE\", directionality=\"backward\")]"
   ]
  },
  {
   "cell_type": "code",
   "execution_count": 391,
   "metadata": {
    "scrolled": true
   },
   "outputs": [
    {
     "name": "stdout",
     "output_type": "stream",
     "text": [
      "asdf\n",
      "Here\n",
      "0\n",
      "[no evidence of [DEFINITE_NEGATED_EXISTENCE]] [but [DEFINITE_NEGATED_EXISTENCE]]\n",
      "(5, 13) (5, 9)\n",
      "True\n",
      "1\n"
     ]
    }
   ],
   "source": [
    "context = ConTextComponent(modifier_rules, nlp, \"ents\")\n",
    "context(doc)"
   ]
  },
  {
   "cell_type": "code",
   "execution_count": 392,
   "metadata": {},
   "outputs": [
    {
     "data": {
      "text/plain": [
       "pneumonia or asthma but there is angina."
      ]
     },
     "execution_count": 392,
     "metadata": {},
     "output_type": "execute_result"
    }
   ],
   "source": [
    "doc[5:13]"
   ]
  },
  {
   "cell_type": "code",
   "execution_count": 393,
   "metadata": {},
   "outputs": [
    {
     "data": {
      "text/plain": [
       "pneumonia or asthma but"
      ]
     },
     "execution_count": 393,
     "metadata": {},
     "output_type": "execute_result"
    }
   ],
   "source": [
    "doc[5:9]"
   ]
  },
  {
   "cell_type": "code",
   "execution_count": 394,
   "metadata": {},
   "outputs": [
    {
     "data": {
      "text/plain": [
       "ConTextGraph with 5 targets and 3 modifiers"
      ]
     },
     "execution_count": 394,
     "metadata": {},
     "output_type": "execute_result"
    }
   ],
   "source": [
    "doc._.context_graph"
   ]
  },
  {
   "cell_type": "code",
   "execution_count": 395,
   "metadata": {},
   "outputs": [
    {
     "data": {
      "text/plain": [
       "ConTextGraph with 5 targets and 3 modifiers"
      ]
     },
     "execution_count": 395,
     "metadata": {},
     "output_type": "execute_result"
    }
   ],
   "source": [
    "doc._.context_graph"
   ]
  },
  {
   "cell_type": "code",
   "execution_count": 385,
   "metadata": {},
   "outputs": [],
   "source": [
    "for target, tag_object in doc._.context_graph.edges:\n",
    "    if tag_object.category in (\"DEFINITE_NEGATED_EXISTENCE\",):\n",
    "        target._.is_negated = True"
   ]
  },
  {
   "cell_type": "code",
   "execution_count": 386,
   "metadata": {},
   "outputs": [
    {
     "name": "stdout",
     "output_type": "stream",
     "text": [
      "angina\n",
      "CHF\n"
     ]
    }
   ],
   "source": [
    "for target in doc.ents:\n",
    "    if not target._.is_negated:\n",
    "        print(target)"
   ]
  },
  {
   "cell_type": "code",
   "execution_count": 345,
   "metadata": {},
   "outputs": [
    {
     "data": {
      "text/plain": [
       "(pneumonia, asthma, angina, CHF, PE)"
      ]
     },
     "execution_count": 345,
     "metadata": {},
     "output_type": "execute_result"
    }
   ],
   "source": [
    "doc.ents"
   ]
  },
  {
   "cell_type": "code",
   "execution_count": 313,
   "metadata": {},
   "outputs": [],
   "source": [
    "mods = doc._.context_graph.modifiers\n",
    "mod = mods[1]"
   ]
  },
  {
   "cell_type": "code",
   "execution_count": 314,
   "metadata": {},
   "outputs": [
    {
     "data": {
      "text/plain": [
       "([no evidence of [DEFINITE_NEGATED_EXISTENCE]],\n",
       " [no evidence of [DEFINITE_NEGATED_EXISTENCE]],\n",
       " [is ruled out [DEFINITE_NEGATED_EXISTENCE]])"
      ]
     },
     "execution_count": 314,
     "metadata": {},
     "output_type": "execute_result"
    }
   ],
   "source": [
    "mods"
   ]
  },
  {
   "cell_type": "code",
   "execution_count": 185,
   "metadata": {},
   "outputs": [
    {
     "data": {
      "text/plain": [
       "[is ruled out [DEFINITE_NEGATED_EXISTENCE]]"
      ]
     },
     "execution_count": 185,
     "metadata": {},
     "output_type": "execute_result"
    }
   ],
   "source": [
    "mod"
   ]
  },
  {
   "cell_type": "code",
   "execution_count": 186,
   "metadata": {},
   "outputs": [
    {
     "data": {
      "text/plain": [
       "PE"
      ]
     },
     "execution_count": 186,
     "metadata": {},
     "output_type": "execute_result"
    }
   ],
   "source": [
    "start, end = mod.get_scope()\n",
    "doc[start:end]"
   ]
  },
  {
   "cell_type": "code",
   "execution_count": 187,
   "metadata": {},
   "outputs": [
    {
     "data": {
      "text/plain": [
       "(17, 18)"
      ]
     },
     "execution_count": 187,
     "metadata": {},
     "output_type": "execute_result"
    }
   ],
   "source": [
    "mod.get_scope()"
   ]
  },
  {
   "cell_type": "code",
   "execution_count": null,
   "metadata": {},
   "outputs": [],
   "source": []
  }
 ],
 "metadata": {
  "kernelspec": {
   "display_name": "Python 3",
   "language": "python",
   "name": "python3"
  },
  "language_info": {
   "codemirror_mode": {
    "name": "ipython",
    "version": 3
   },
   "file_extension": ".py",
   "mimetype": "text/x-python",
   "name": "python",
   "nbconvert_exporter": "python",
   "pygments_lexer": "ipython3",
   "version": "3.7.4"
  }
 },
 "nbformat": 4,
 "nbformat_minor": 2
}

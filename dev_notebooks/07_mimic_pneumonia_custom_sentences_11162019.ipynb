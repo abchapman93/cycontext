{
 "cells": [
  {
   "cell_type": "code",
   "execution_count": 1,
   "metadata": {},
   "outputs": [],
   "source": [
    "import os, sys, glob\n",
    "import spacy\n",
    "import pandas as pd\n",
    "\n",
    "from spacy.pipeline import EntityRuler\n",
    "import json"
   ]
  },
  {
   "cell_type": "code",
   "execution_count": 2,
   "metadata": {},
   "outputs": [],
   "source": [
    "sys.path.append('..')"
   ]
  },
  {
   "cell_type": "code",
   "execution_count": 3,
   "metadata": {},
   "outputs": [],
   "source": [
    "from cycontext import item_data\n",
    "from cycontext.item_data import ItemData\n",
    "from cycontext.tag_object import TagObject\n",
    "from cycontext.context_component import ConTextComponent"
   ]
  },
  {
   "cell_type": "code",
   "execution_count": 4,
   "metadata": {},
   "outputs": [],
   "source": [
    "%load_ext autoreload\n",
    "%autoreload 2"
   ]
  },
  {
   "cell_type": "code",
   "execution_count": 5,
   "metadata": {},
   "outputs": [],
   "source": [
    "nlp = spacy.load(\"en_core_web_sm\")\n",
    "_ = nlp.remove_pipe(\"ner\")"
   ]
  },
  {
   "cell_type": "markdown",
   "metadata": {},
   "source": [
    "# Overview\n",
    "- Read in data\n",
    "- Read in modifiers"
   ]
  },
  {
   "cell_type": "markdown",
   "metadata": {},
   "source": [
    "# I. Read in Knowledge Base"
   ]
  },
  {
   "cell_type": "markdown",
   "metadata": {},
   "source": [
    "## I.I Targets"
   ]
  },
  {
   "cell_type": "code",
   "execution_count": 6,
   "metadata": {},
   "outputs": [],
   "source": [
    "targets_filepath = os.path.join(\".\", \"pneumonia\", \"kb\", \"pneumonia_targets.json\")"
   ]
  },
  {
   "cell_type": "code",
   "execution_count": 7,
   "metadata": {},
   "outputs": [],
   "source": [
    "with open(targets_filepath) as f:\n",
    "    target_patterns = json.loads(f.read())[\"patterns\"]"
   ]
  },
  {
   "cell_type": "code",
   "execution_count": 8,
   "metadata": {},
   "outputs": [
    {
     "data": {
      "text/plain": [
       "[{'label': 'EVIDENCE_OF_PNEUMONIA',\n",
       "  'pattern': [{'LOWER': {'REGEX': 'pneumonias?'}}]},\n",
       " {'label': 'EVIDENCE_OF_PNEUMONIA', 'pattern': [{'LOWER': {'REGEX': 'pna'}}]},\n",
       " {'label': 'EVIDENCE_OF_PNEUMONIA',\n",
       "  'pattern': [{'LOWER': {'REGEX': 'consolidations?'}}]},\n",
       " {'label': 'EVIDENCE_OF_PNEUMONIA',\n",
       "  'pattern': [{'LOWER': {'REGEX': 'infiltrat(e|es|ion)'}}]},\n",
       " {'label': 'EVIDENCE_OF_PNEUMONIA',\n",
       "  'pattern': [{'LOWER': {'REGEX': 'effusion'}}]},\n",
       " {'label': 'EVIDENCE_OF_PNEUMONIA',\n",
       "  'pattern': [{'LOWER': {'REGEX': 'opacit(y|ies)'}}]},\n",
       " {'label': 'CONDITION',\n",
       "  'pattern': [{'LOWER': 'congestive'},\n",
       "   {'LOWER': 'heart'},\n",
       "   {'LOWER': 'failure'}]},\n",
       " {'label': 'CONDITION', 'pattern': [{'LOWER': {'REGEX': 'chf'}}]},\n",
       " {'label': 'CONDITION', 'pattern': [{'LOWER': 'svt'}]},\n",
       " {'label': 'CONDITION',\n",
       "  'pattern': [{'LOWER': 'supraventricular'}, {'LOWER': 'tachycardia'}]},\n",
       " {'label': 'CONDITION',\n",
       "  'pattern': [{'LOWER': 'cardiac'}, {'LOWER': 'failure'}]}]"
      ]
     },
     "execution_count": 8,
     "metadata": {},
     "output_type": "execute_result"
    }
   ],
   "source": [
    "target_patterns"
   ]
  },
  {
   "cell_type": "code",
   "execution_count": 9,
   "metadata": {},
   "outputs": [],
   "source": [
    "# Use the EntityRuler class for rule-based NER\n",
    "ruler = EntityRuler(nlp, overwrite_ents=True)\n",
    "ruler.add_patterns(target_patterns)"
   ]
  },
  {
   "cell_type": "code",
   "execution_count": 10,
   "metadata": {},
   "outputs": [],
   "source": [
    "try:\n",
    "    _ = nlp.remove_pipe(\"entity_ruler\")\n",
    "except:\n",
    "    pass\n",
    "nlp.add_pipe(ruler)"
   ]
  },
  {
   "cell_type": "markdown",
   "metadata": {},
   "source": [
    "## I.II Modifiers"
   ]
  },
  {
   "cell_type": "code",
   "execution_count": 11,
   "metadata": {},
   "outputs": [],
   "source": [
    "filepath = os.path.join(\".\", \"pneumonia\", \"kb\", \"pneumonia_modifiers.json\")"
   ]
  },
  {
   "cell_type": "code",
   "execution_count": 12,
   "metadata": {},
   "outputs": [],
   "source": [
    "item_data = item_data.from_json(filepath)"
   ]
  },
  {
   "cell_type": "markdown",
   "metadata": {},
   "source": [
    "# II. Read Data"
   ]
  },
  {
   "cell_type": "code",
   "execution_count": 2,
   "metadata": {},
   "outputs": [],
   "source": [
    "txt_files = glob.glob(os.path.join(\".\", \"pneumonia\", \"training_v2\", \"*.txt\"))"
   ]
  },
  {
   "cell_type": "code",
   "execution_count": 3,
   "metadata": {},
   "outputs": [],
   "source": [
    "texts = []\n",
    "for file in txt_files:\n",
    "    texts.append(open(file).read())"
   ]
  },
  {
   "cell_type": "code",
   "execution_count": 34,
   "metadata": {},
   "outputs": [
    {
     "data": {
      "text/plain": [
       "'\\n\\n\\n     DATE: [**3106-8-10**] 11:46 AM\\n     CHEST (PORTABLE AP)                                             Clip # [**Clip Number (Radiology) 7189**]\\n     Reason: pneumonia                                                   \\n     ______________________________________________________________________________\\n     UNDERLYING MEDICAL CONDITION:\\n             70 year old woman S/P MVA                                                \\n             \\n     REASON FOR THIS EXAMINATION:\\n      pneumonia                                                                       \\n     ______________________________________________________________________________\\n                                     FINAL REPORT\\n     PORTABLE CHEST:\\n     \\n     Compared to 1 day earlier.\\n     \\n     INDICATION: Pneumonia. S/P motor vehicle accident.\\n     \\n     An ETT and NG tube remain in satisfactory position. There is widening of the\\n     mediastinum with increased soft tissue density noted lateral to the aortic\\n     knob calcifications. Review of report of CT torso dated [**3106-8-3**] described no\\n     evidence of aortic injury, and the observed appearance of the mediastinum\\n     remains stable compared to the earlier portable radiographs dating back to\\n     [**3106-8-3**]. The pulmonary vascularity is likely accentuated by low lung volumes\\n     and portable supine technique. There has been interval improvement in\\n     previously described basilar lung opacities with residual opacity more\\n     prominent at the left base on the right. There is a persistent small left\\n     pleural effusion.\\n     \\n     Also noted is a left subclavian vascular catheter terminating in the left\\n     brachiocephalic vein.\\n     \\n     IMPRESSION: 1) Stable widening of mediastinum. This is without change since\\n     recent studies and correlation with report of CT torso of [**3106-8-3**] describes no\\n     mediastinal hematoma. This is likely due to extensive mediastinal fat as shown\\n     on the recent CT torso.\\n     \\n     2) Improving basilar opacities which may reflect improving atelectasis,\\n     contusion or aspiration. Underlying infectious process in the left lower lobe\\n     is not fully excluded.\\n     \\n     3) Small left pleural effusion. Right pleural effusion cannot be assessed due\\n     to exclusion of costophrenic focus from the study.\\n\\n'"
      ]
     },
     "execution_count": 34,
     "metadata": {},
     "output_type": "execute_result"
    }
   ],
   "source": [
    "texts[2]"
   ]
  },
  {
   "cell_type": "code",
   "execution_count": 32,
   "metadata": {},
   "outputs": [
    {
     "name": "stdout",
     "output_type": "stream",
     "text": [
      "\n",
      "\n",
      "\n",
      "     DATE: [**3106-8-10**] 11:46 AM\n",
      "     CHEST (PORTABLE AP)                                             Clip # [**Clip Number (Radiology) 7189**]\n",
      "     Reason: pneumonia                                                   \n",
      "     ______________________________________________________________________________\n",
      "     UNDERLYING MEDICAL CONDITION:\n",
      "             70 year old woman S/P MVA                                                \n",
      "             \n",
      "     REASON FOR THIS EXAMINATION:\n",
      "      pneumonia                                                                       \n",
      "     ______________________________________________________________________________\n",
      "                                     FINAL REPORT\n",
      "     PORTABLE CHEST:\n",
      "     \n",
      "     Compared to 1 day earlier.\n",
      "     \n",
      "     INDICATION: Pneumonia. S/P motor vehicle accident.\n",
      "     \n",
      "     An ETT and NG tube remain in satisfactory position. There is widening of the\n",
      "     mediastinum with increased soft tissue density noted lateral to the aortic\n",
      "     knob calcifications. Review of report of CT torso dated [**3106-8-3**] described no\n",
      "     evidence of aortic injury, and the observed appearance of the mediastinum\n",
      "     remains stable compared to the earlier portable radiographs dating back to\n",
      "     [**3106-8-3**]. The pulmonary vascularity is likely accentuated by low lung volumes\n",
      "     and portable supine technique. There has been interval improvement in\n",
      "     previously described basilar lung opacities with residual opacity more\n",
      "     prominent at the left base on the right. There is a persistent small left\n",
      "     pleural effusion.\n",
      "     \n",
      "     Also noted is a left subclavian vascular catheter terminating in the left\n",
      "     brachiocephalic vein.\n",
      "     \n",
      "     IMPRESSION: 1) Stable widening of mediastinum. This is without change since\n",
      "     recent studies and correlation with report of CT torso of [**3106-8-3**] describes no\n",
      "     mediastinal hematoma. This is likely due to extensive mediastinal fat as shown\n",
      "     on the recent CT torso.\n",
      "     \n",
      "     2) Improving basilar opacities which may reflect improving atelectasis,\n",
      "     contusion or aspiration. Underlying infectious process in the left lower lobe\n",
      "     is not fully excluded.\n",
      "     \n",
      "     3) Small left pleural effusion. Right pleural effusion cannot be assessed due\n",
      "     to exclusion of costophrenic focus from the study.\n",
      "\n",
      "\n"
     ]
    }
   ],
   "source": [
    "print(texts[2])"
   ]
  },
  {
   "cell_type": "code",
   "execution_count": null,
   "metadata": {},
   "outputs": [],
   "source": [
    "t"
   ]
  },
  {
   "cell_type": "markdown",
   "metadata": {},
   "source": [
    "# III. Process with NLP"
   ]
  },
  {
   "cell_type": "markdown",
   "metadata": {},
   "source": [
    "## III.II Add ConText"
   ]
  },
  {
   "cell_type": "code",
   "execution_count": 15,
   "metadata": {},
   "outputs": [],
   "source": [
    "context = ConTextComponent(item_data, nlp)"
   ]
  },
  {
   "cell_type": "code",
   "execution_count": 16,
   "metadata": {},
   "outputs": [],
   "source": [
    "try:\n",
    "    nlp.add_pipe(context, last=True)\n",
    "except:\n",
    "    nlp.remove_pipe(\"context\")\n",
    "    nlp.add_pipe(context, last=True)"
   ]
  },
  {
   "cell_type": "markdown",
   "metadata": {},
   "source": [
    "### III.I Custom sentence segmentation\n",
    "The spaCy default works poorly with MIMIC data. Should eventually replace with PyRUSH."
   ]
  },
  {
   "cell_type": "code",
   "execution_count": 17,
   "metadata": {},
   "outputs": [],
   "source": [
    "from nltk.tokenize import PunktSentenceTokenizer"
   ]
  },
  {
   "cell_type": "code",
   "execution_count": 18,
   "metadata": {},
   "outputs": [],
   "source": [
    "class SentenceTokenizer:\n",
    "    \n",
    "    def __init__(self):\n",
    "        self.tokenizer = PunktSentenceTokenizer()\n",
    "        \n",
    "    def __call__(self, doc):\n",
    "        sent_spans = self.tokenizer.span_tokenize(doc.text)\n",
    "        for token in doc:\n",
    "            token.is_sent_start = False\n",
    "        for (start, end) in sent_spans:\n",
    "            sent = doc.char_span(start, end)\n",
    "            sent[0].is_sent_start = True\n",
    "        return doc"
   ]
  },
  {
   "cell_type": "code",
   "execution_count": 19,
   "metadata": {},
   "outputs": [],
   "source": [
    "sent_tokenizer = SentenceTokenizer()"
   ]
  },
  {
   "cell_type": "code",
   "execution_count": 20,
   "metadata": {},
   "outputs": [],
   "source": [
    "try:\n",
    "    nlp.remove_pipe('set_custom_boundaries')\n",
    "except:\n",
    "    pass\n",
    "nlp.add_pipe(sent_tokenizer, before=\"parser\")"
   ]
  },
  {
   "cell_type": "code",
   "execution_count": 21,
   "metadata": {
    "scrolled": true
   },
   "outputs": [],
   "source": [
    "doc = nlp(texts[12])"
   ]
  },
  {
   "cell_type": "markdown",
   "metadata": {},
   "source": [
    "## 3.3 Process documents"
   ]
  },
  {
   "cell_type": "code",
   "execution_count": 22,
   "metadata": {},
   "outputs": [
    {
     "data": {
      "text/plain": [
       "[('tagger', <spacy.pipeline.pipes.Tagger at 0x11be9cdd8>),\n",
       " ('SentenceTokenizer', <__main__.SentenceTokenizer at 0x11e1ae7f0>),\n",
       " ('parser', <spacy.pipeline.pipes.DependencyParser at 0x11c027a68>),\n",
       " ('entity_ruler', <spacy.pipeline.entityruler.EntityRuler at 0x11bdacba8>),\n",
       " ('context', <cycontext.context_component.ConTextComponent at 0x11e1cd160>)]"
      ]
     },
     "execution_count": 22,
     "metadata": {},
     "output_type": "execute_result"
    }
   ],
   "source": [
    "nlp.pipeline"
   ]
  },
  {
   "cell_type": "code",
   "execution_count": 23,
   "metadata": {},
   "outputs": [],
   "source": [
    "docs = list(nlp.pipe(texts))"
   ]
  },
  {
   "cell_type": "markdown",
   "metadata": {},
   "source": [
    "# Visualization"
   ]
  },
  {
   "cell_type": "code",
   "execution_count": 24,
   "metadata": {},
   "outputs": [],
   "source": [
    "from cycontext import viz"
   ]
  },
  {
   "cell_type": "code",
   "execution_count": 25,
   "metadata": {},
   "outputs": [],
   "source": [
    "from spacy import displacy"
   ]
  },
  {
   "cell_type": "code",
   "execution_count": 26,
   "metadata": {},
   "outputs": [],
   "source": [
    "doc = docs[45]"
   ]
  },
  {
   "cell_type": "code",
   "execution_count": 27,
   "metadata": {},
   "outputs": [
    {
     "data": {
      "text/plain": [
       "[(effusion, <TagObject> [r/o, indication]),\n",
       " (effusion, <TagObject> [r/o, indication]),\n",
       " (effusion, <TagObject> [R/O, indication]),\n",
       " (cardiac failure,\n",
       "  <TagObject> [No definite evidence of, definite_negated_existence])]"
      ]
     },
     "execution_count": 27,
     "metadata": {},
     "output_type": "execute_result"
    }
   ],
   "source": [
    "doc._.context_graph.edges"
   ]
  },
  {
   "cell_type": "code",
   "execution_count": 28,
   "metadata": {
    "scrolled": false
   },
   "outputs": [
    {
     "data": {
      "text/html": [
       "<div class=\"entities\" style=\"line-height: 2.5; direction: ltr\"></br></br></br>     DATE: [**2948-5-13**] 7:49 PM</br>     CHEST (PORTABLE AP)                                             Clip # [**Clip Number (Radiology) 12518**]</br>     Reason: \n",
       "<mark class=\"entity\" style=\"background: #ddd; padding: 0.45em 0.6em; margin: 0 0.25em; line-height: 1; border-radius: 0.35em;\">\n",
       "    r/o\n",
       "    <span style=\"font-size: 0.8em; font-weight: bold; line-height: 1; border-radius: 0.35em; text-transform: uppercase; vertical-align: middle; margin-left: 0.5rem\">indication</span>\n",
       "</mark>\n",
       " PTX/\n",
       "<mark class=\"entity\" style=\"background: orange; padding: 0.45em 0.6em; margin: 0 0.25em; line-height: 1; border-radius: 0.35em;\">\n",
       "    effusion\n",
       "    <span style=\"font-size: 0.8em; font-weight: bold; line-height: 1; border-radius: 0.35em; text-transform: uppercase; vertical-align: middle; margin-left: 0.5rem\">EVIDENCE_OF_PNEUMONIA</span>\n",
       "</mark>\n",
       "/tamponade.  Pt still in OR.  Please perform</br>     Admitting Diagnosis: CORONARY ARTERY DISEASE\\CORONARY ARTERY BYPASS GRAFT/SDA</br>     ______________________________________________________________________________</br>     UNDERLYING MEDICAL CONDITION:</br>      76 year old man with CAD s/p CABG.                                              </br>     REASON FOR THIS EXAMINATION:</br>      \n",
       "<mark class=\"entity\" style=\"background: #ddd; padding: 0.45em 0.6em; margin: 0 0.25em; line-height: 1; border-radius: 0.35em;\">\n",
       "    r/o\n",
       "    <span style=\"font-size: 0.8em; font-weight: bold; line-height: 1; border-radius: 0.35em; text-transform: uppercase; vertical-align: middle; margin-left: 0.5rem\">indication</span>\n",
       "</mark>\n",
       " PTX/\n",
       "<mark class=\"entity\" style=\"background: orange; padding: 0.45em 0.6em; margin: 0 0.25em; line-height: 1; border-radius: 0.35em;\">\n",
       "    effusion\n",
       "    <span style=\"font-size: 0.8em; font-weight: bold; line-height: 1; border-radius: 0.35em; text-transform: uppercase; vertical-align: middle; margin-left: 0.5rem\">EVIDENCE_OF_PNEUMONIA</span>\n",
       "</mark>\n",
       "/tamponade.  Pt still in OR.  Please perform CXR when pt </br>      arrives CSRU.</br>     ______________________________________________________________________________</br>                                     FINAL REPORT</br>     INDICATIONS: Coronary artery disease, status post CABG surgery.  The patient</br>     is still in OR.  \n",
       "<mark class=\"entity\" style=\"background: #ddd; padding: 0.45em 0.6em; margin: 0 0.25em; line-height: 1; border-radius: 0.35em;\">\n",
       "    R/O\n",
       "    <span style=\"font-size: 0.8em; font-weight: bold; line-height: 1; border-radius: 0.35em; text-transform: uppercase; vertical-align: middle; margin-left: 0.5rem\">indication</span>\n",
       "</mark>\n",
       " pneumothorax, \n",
       "<mark class=\"entity\" style=\"background: orange; padding: 0.45em 0.6em; margin: 0 0.25em; line-height: 1; border-radius: 0.35em;\">\n",
       "    effusion\n",
       "    <span style=\"font-size: 0.8em; font-weight: bold; line-height: 1; border-radius: 0.35em; text-transform: uppercase; vertical-align: middle; margin-left: 0.5rem\">EVIDENCE_OF_PNEUMONIA</span>\n",
       "</mark>\n",
       ", tamponade. </br>     </br>     PORTABLE AP CHEST:  Comparison is made to previous films from [**2948-5-8**]. The</br>     present image is under penetrated. Status post CABG surgery is noted with</br>     sternal sutures and cardiovascular clips in place. The endotracheal tube and</br>     the Swan-Ganz catheter appear satisfactorily positioned. The NG line is seen</br>     well into the lower esophagus and probably extends below the diaphragm but its</br>     distal end is not visualized. At least one mediastinal drain is noted. A left</br>     lateral lower zone chest tube is also noted. The heart shows fairly marked</br>     left ventricular enlargement. The aorta is unfolded. The pulmonary vessels are</br>     difficult to evaluate with the patient supine. Some atelectatic changes are</br>     noted in the left lower lobe behind the heart and in the lingula.</br>     </br>     IMPRESSION:  Status post CABG surgery appears satisfactory. The lower end of</br>     the NG line is not visualized. The other lines are in reasonable position.</br>     Atelectatic changes are noted at the left base. \n",
       "<mark class=\"entity\" style=\"background: blue; padding: 0.45em 0.6em; margin: 0 0.25em; line-height: 1; border-radius: 0.35em;\">\n",
       "    No definite evidence of\n",
       "    <span style=\"font-size: 0.8em; font-weight: bold; line-height: 1; border-radius: 0.35em; text-transform: uppercase; vertical-align: middle; margin-left: 0.5rem\">definite_negated_existence</span>\n",
       "</mark>\n",
       "</br>     \n",
       "<mark class=\"entity\" style=\"background: #ddd; padding: 0.45em 0.6em; margin: 0 0.25em; line-height: 1; border-radius: 0.35em;\">\n",
       "    cardiac failure\n",
       "    <span style=\"font-size: 0.8em; font-weight: bold; line-height: 1; border-radius: 0.35em; text-transform: uppercase; vertical-align: middle; margin-left: 0.5rem\">CONDITION</span>\n",
       "</mark>\n",
       " is demonstrated.\n",
       "\n",
       "</div>"
      ],
      "text/plain": [
       "<IPython.core.display.HTML object>"
      ]
     },
     "metadata": {},
     "output_type": "display_data"
    }
   ],
   "source": [
    "viz.visualize_ent(doc, colors ={\"EVIDENCE_OF_PNEUMONIA\": \"orange\",\n",
    "                                          \"DEFINITE_NEGATED_EXISTENCE\": \"blue\",\n",
    "                               \"indication\": \"yellow\"})"
   ]
  },
  {
   "cell_type": "code",
   "execution_count": 29,
   "metadata": {},
   "outputs": [],
   "source": [
    "doc = nlp(\"left lower lobe process suggesting pneumonia\")"
   ]
  },
  {
   "cell_type": "code",
   "execution_count": 33,
   "metadata": {},
   "outputs": [
    {
     "data": {
      "text/html": [
       "<svg xmlns=\"http://www.w3.org/2000/svg\" xmlns:xlink=\"http://www.w3.org/1999/xlink\" xml:lang=\"en\" id=\"b0c9a7b2a2524b249ca0ebf5f8af445e-0\" class=\"displacy\" width=\"1100\" height=\"312.0\" direction=\"ltr\" style=\"max-width: none; height: 312.0px; color: #000000; background: #ffffff; font-family: Arial; direction: ltr\">\n",
       "<text class=\"displacy-token\" fill=\"currentColor\" text-anchor=\"middle\" y=\"222.0\">\n",
       "    <tspan class=\"displacy-word\" fill=\"currentColor\" x=\"50\">left</tspan>\n",
       "    <tspan class=\"displacy-tag\" dy=\"2em\" fill=\"currentColor\" x=\"50\"></tspan>\n",
       "</text>\n",
       "\n",
       "<text class=\"displacy-token\" fill=\"currentColor\" text-anchor=\"middle\" y=\"222.0\">\n",
       "    <tspan class=\"displacy-word\" fill=\"currentColor\" x=\"225\">lower</tspan>\n",
       "    <tspan class=\"displacy-tag\" dy=\"2em\" fill=\"currentColor\" x=\"225\"></tspan>\n",
       "</text>\n",
       "\n",
       "<text class=\"displacy-token\" fill=\"currentColor\" text-anchor=\"middle\" y=\"222.0\">\n",
       "    <tspan class=\"displacy-word\" fill=\"currentColor\" x=\"400\">lobe</tspan>\n",
       "    <tspan class=\"displacy-tag\" dy=\"2em\" fill=\"currentColor\" x=\"400\"></tspan>\n",
       "</text>\n",
       "\n",
       "<text class=\"displacy-token\" fill=\"currentColor\" text-anchor=\"middle\" y=\"222.0\">\n",
       "    <tspan class=\"displacy-word\" fill=\"currentColor\" x=\"575\">process</tspan>\n",
       "    <tspan class=\"displacy-tag\" dy=\"2em\" fill=\"currentColor\" x=\"575\"></tspan>\n",
       "</text>\n",
       "\n",
       "<text class=\"displacy-token\" fill=\"currentColor\" text-anchor=\"middle\" y=\"222.0\">\n",
       "    <tspan class=\"displacy-word\" fill=\"currentColor\" x=\"750\">suggesting</tspan>\n",
       "    <tspan class=\"displacy-tag\" dy=\"2em\" fill=\"currentColor\" x=\"750\"></tspan>\n",
       "</text>\n",
       "\n",
       "<text class=\"displacy-token\" fill=\"currentColor\" text-anchor=\"middle\" y=\"222.0\">\n",
       "    <tspan class=\"displacy-word\" fill=\"currentColor\" x=\"925\">pneumonia</tspan>\n",
       "    <tspan class=\"displacy-tag\" dy=\"2em\" fill=\"currentColor\" x=\"925\">EVIDENCE_OF_PNEUMONIA</tspan>\n",
       "</text>\n",
       "\n",
       "<g class=\"displacy-arrow\">\n",
       "    <path class=\"displacy-arc\" id=\"arrow-b0c9a7b2a2524b249ca0ebf5f8af445e-0-0\" stroke-width=\"2px\" d=\"M70,177.0 C70,2.0 925.0,2.0 925.0,177.0\" fill=\"none\" stroke=\"currentColor\"/>\n",
       "    <text dy=\"1.25em\" style=\"font-size: 0.8em; letter-spacing: 1px\">\n",
       "        <textPath xlink:href=\"#arrow-b0c9a7b2a2524b249ca0ebf5f8af445e-0-0\" class=\"displacy-label\" startOffset=\"50%\" side=\"left\" fill=\"currentColor\" text-anchor=\"middle\">anatomical_site</textPath>\n",
       "    </text>\n",
       "    <path class=\"displacy-arrowhead\" d=\"M925.0,179.0 L933.0,167.0 917.0,167.0\" fill=\"currentColor\"/>\n",
       "</g>\n",
       "\n",
       "<g class=\"displacy-arrow\">\n",
       "    <path class=\"displacy-arc\" id=\"arrow-b0c9a7b2a2524b249ca0ebf5f8af445e-0-1\" stroke-width=\"2px\" d=\"M770,177.0 C770,89.5 920.0,89.5 920.0,177.0\" fill=\"none\" stroke=\"currentColor\"/>\n",
       "    <text dy=\"1.25em\" style=\"font-size: 0.8em; letter-spacing: 1px\">\n",
       "        <textPath xlink:href=\"#arrow-b0c9a7b2a2524b249ca0ebf5f8af445e-0-1\" class=\"displacy-label\" startOffset=\"50%\" side=\"left\" fill=\"currentColor\" text-anchor=\"middle\">probable_existence</textPath>\n",
       "    </text>\n",
       "    <path class=\"displacy-arrowhead\" d=\"M920.0,179.0 L928.0,167.0 912.0,167.0\" fill=\"currentColor\"/>\n",
       "</g>\n",
       "</svg>"
      ],
      "text/plain": [
       "<IPython.core.display.HTML object>"
      ]
     },
     "metadata": {},
     "output_type": "display_data"
    }
   ],
   "source": [
    "viz.visualize_dep(doc)"
   ]
  }
 ],
 "metadata": {
  "kernelspec": {
   "display_name": "Python 3",
   "language": "python",
   "name": "python3"
  },
  "language_info": {
   "codemirror_mode": {
    "name": "ipython",
    "version": 3
   },
   "file_extension": ".py",
   "mimetype": "text/x-python",
   "name": "python",
   "nbconvert_exporter": "python",
   "pygments_lexer": "ipython3",
   "version": "3.7.3"
  }
 },
 "nbformat": 4,
 "nbformat_minor": 2
}

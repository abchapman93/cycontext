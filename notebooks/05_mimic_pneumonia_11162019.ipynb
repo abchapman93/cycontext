{
 "cells": [
  {
   "cell_type": "code",
   "execution_count": 28,
   "metadata": {},
   "outputs": [],
   "source": [
    "import os, sys, glob\n",
    "import spacy\n",
    "import pandas as pd\n",
    "\n",
    "from spacy.pipeline import EntityRuler"
   ]
  },
  {
   "cell_type": "code",
   "execution_count": 10,
   "metadata": {},
   "outputs": [],
   "source": [
    "sys.path.append('..')"
   ]
  },
  {
   "cell_type": "code",
   "execution_count": 11,
   "metadata": {},
   "outputs": [],
   "source": [
    "from cycontext.item_data import ItemData\n",
    "from cycontext.tag_object import TagObject\n",
    "from cycontext.context_component import ConTextComponent"
   ]
  },
  {
   "cell_type": "code",
   "execution_count": 12,
   "metadata": {},
   "outputs": [
    {
     "name": "stdout",
     "output_type": "stream",
     "text": [
      "The autoreload extension is already loaded. To reload it, use:\n",
      "  %reload_ext autoreload\n"
     ]
    }
   ],
   "source": [
    "%load_ext autoreload\n",
    "%autoreload 2"
   ]
  },
  {
   "cell_type": "code",
   "execution_count": 13,
   "metadata": {},
   "outputs": [],
   "source": [
    "nlp = spacy.load(\"en_core_web_sm\")\n",
    "_ = nlp.remove_pipe(\"ner\")"
   ]
  },
  {
   "cell_type": "markdown",
   "metadata": {},
   "source": [
    "# Overview\n",
    "- Read in data\n",
    "- Read in modifiers"
   ]
  },
  {
   "cell_type": "markdown",
   "metadata": {},
   "source": [
    "# I. Read in Knowledge Base"
   ]
  },
  {
   "cell_type": "markdown",
   "metadata": {},
   "source": [
    "## I.I Targets"
   ]
  },
  {
   "cell_type": "code",
   "execution_count": 15,
   "metadata": {},
   "outputs": [],
   "source": [
    "targets_filepath = os.path.join(\".\", \"pneumonia\", \"kb\", \"pneumonia_targets.tsv\")\n",
    "targets_df = pd.read_csv(targets_filepath, sep=\"\\t\")"
   ]
  },
  {
   "cell_type": "code",
   "execution_count": 16,
   "metadata": {},
   "outputs": [
    {
     "data": {
      "text/html": [
       "<div>\n",
       "<style scoped>\n",
       "    .dataframe tbody tr th:only-of-type {\n",
       "        vertical-align: middle;\n",
       "    }\n",
       "\n",
       "    .dataframe tbody tr th {\n",
       "        vertical-align: top;\n",
       "    }\n",
       "\n",
       "    .dataframe thead th {\n",
       "        text-align: right;\n",
       "    }\n",
       "</style>\n",
       "<table border=\"1\" class=\"dataframe\">\n",
       "  <thead>\n",
       "    <tr style=\"text-align: right;\">\n",
       "      <th></th>\n",
       "      <th>Lex</th>\n",
       "      <th>Type</th>\n",
       "      <th>Regex</th>\n",
       "      <th>Direction</th>\n",
       "      <th>Codes</th>\n",
       "    </tr>\n",
       "  </thead>\n",
       "  <tbody>\n",
       "    <tr>\n",
       "      <th>0</th>\n",
       "      <td>pneumonia</td>\n",
       "      <td>EVIDENCE_OF_PNEUMONIA</td>\n",
       "      <td>pneumonias?</td>\n",
       "      <td>NaN</td>\n",
       "      <td>NaN</td>\n",
       "    </tr>\n",
       "    <tr>\n",
       "      <th>1</th>\n",
       "      <td>consolidation</td>\n",
       "      <td>EVIDENCE_OF_PNEUMONIA</td>\n",
       "      <td>NaN</td>\n",
       "      <td>NaN</td>\n",
       "      <td>NaN</td>\n",
       "    </tr>\n",
       "    <tr>\n",
       "      <th>2</th>\n",
       "      <td>infiltrate</td>\n",
       "      <td>EVIDENCE_OF_PNEUMONIA</td>\n",
       "      <td>infiltrat(e|es|ion)</td>\n",
       "      <td>NaN</td>\n",
       "      <td>NaN</td>\n",
       "    </tr>\n",
       "  </tbody>\n",
       "</table>\n",
       "</div>"
      ],
      "text/plain": [
       "             Lex                   Type                Regex  Direction  Codes\n",
       "0      pneumonia  EVIDENCE_OF_PNEUMONIA          pneumonias?        NaN    NaN\n",
       "1  consolidation  EVIDENCE_OF_PNEUMONIA                  NaN        NaN    NaN\n",
       "2     infiltrate  EVIDENCE_OF_PNEUMONIA  infiltrat(e|es|ion)        NaN    NaN"
      ]
     },
     "execution_count": 16,
     "metadata": {},
     "output_type": "execute_result"
    }
   ],
   "source": [
    "targets_df.head()"
   ]
  },
  {
   "cell_type": "code",
   "execution_count": null,
   "metadata": {},
   "outputs": [],
   "source": []
  },
  {
   "cell_type": "code",
   "execution_count": 25,
   "metadata": {},
   "outputs": [],
   "source": [
    "target_patterns = []\n",
    "for i, row in targets_df.fillna('').iterrows():\n",
    "    literal = row[\"Lex\"]\n",
    "    category = row[\"Type\"]\n",
    "    regex = row[\"Regex\"]\n",
    "    \n",
    "    if regex == '':\n",
    "        pattern = [{\"LOWER\": literal}]\n",
    "    else:\n",
    "        pattern = [{\"LOWER\": {\"REGEX\": regex}}]\n",
    "    target_patterns.append({\"label\": category, \"pattern\": pattern})\n",
    "        "
   ]
  },
  {
   "cell_type": "code",
   "execution_count": 26,
   "metadata": {},
   "outputs": [],
   "source": [
    "# Use the EntityRuler class for rule-based NER\n",
    "ruler = EntityRuler(nlp, overwrite_ents=True)\n",
    "ruler.add_patterns(target_patterns)"
   ]
  },
  {
   "cell_type": "code",
   "execution_count": 27,
   "metadata": {},
   "outputs": [],
   "source": [
    "try:\n",
    "    _ = nlp.remove_pipe(\"entity_ruler\")\n",
    "except:\n",
    "    pass\n",
    "nlp.add_pipe(ruler)"
   ]
  },
  {
   "cell_type": "markdown",
   "metadata": {},
   "source": [
    "## I.II Modifiers"
   ]
  },
  {
   "cell_type": "code",
   "execution_count": 164,
   "metadata": {},
   "outputs": [],
   "source": [
    "tsv_mods = pd.read_csv(os.path.join('.', \"pneumonia\", \"kb\", \"pneumonia_modifiers.tsv\"), sep=\"\\t\")"
   ]
  },
  {
   "cell_type": "code",
   "execution_count": 169,
   "metadata": {},
   "outputs": [],
   "source": [
    "mod_patterns = []\n",
    "for i, row in tsv_mods.fillna(\"\").iterrows():\n",
    "    d = {\"literal\": row[\"Lex\"],\n",
    "        \"category\": row[\"Type\"],\n",
    "        \"pattern\": row[\"Regex\"],\n",
    "        \"rule\": row[\"Direction\"]}\n",
    "    if d[\"pattern\"] == \"\":\n",
    "        d[\"pattern\"] = None\n",
    "    else:\n",
    "        d[\"pattern\"] = [d[\"pattern\"]]\n",
    "    mod_patterns.append(d)"
   ]
  },
  {
   "cell_type": "code",
   "execution_count": 170,
   "metadata": {},
   "outputs": [],
   "source": [
    "import json"
   ]
  },
  {
   "cell_type": "code",
   "execution_count": 171,
   "metadata": {},
   "outputs": [],
   "source": [
    "data = {\"patterns\": mod_patterns}"
   ]
  },
  {
   "cell_type": "code",
   "execution_count": 172,
   "metadata": {},
   "outputs": [],
   "source": [
    "# outpath = os.path.join(\".\", \"pneumonia\", \"kb\", \"pneumonia_modifiers.json\")\n",
    "# with open(outpath, \"w\") as f:\n",
    "#     json.dump(data, f, indent=4)"
   ]
  },
  {
   "cell_type": "code",
   "execution_count": 199,
   "metadata": {},
   "outputs": [
    {
     "ename": "JSONDecodeError",
     "evalue": "Expecting ',' delimiter: line 1334 column 10 (char 38831)",
     "output_type": "error",
     "traceback": [
      "\u001b[0;31m---------------------------------------------------------------------------\u001b[0m",
      "\u001b[0;31mJSONDecodeError\u001b[0m                           Traceback (most recent call last)",
      "\u001b[0;32m<ipython-input-199-250f16f11af2>\u001b[0m in \u001b[0;36m<module>\u001b[0;34m\u001b[0m\n\u001b[1;32m      1\u001b[0m \u001b[0;32mwith\u001b[0m \u001b[0mopen\u001b[0m\u001b[0;34m(\u001b[0m\u001b[0moutpath\u001b[0m\u001b[0;34m)\u001b[0m \u001b[0;32mas\u001b[0m \u001b[0mf\u001b[0m\u001b[0;34m:\u001b[0m\u001b[0;34m\u001b[0m\u001b[0;34m\u001b[0m\u001b[0m\n\u001b[0;32m----> 2\u001b[0;31m     \u001b[0mmodifier_data\u001b[0m \u001b[0;34m=\u001b[0m \u001b[0mjson\u001b[0m\u001b[0;34m.\u001b[0m\u001b[0mload\u001b[0m\u001b[0;34m(\u001b[0m\u001b[0mf\u001b[0m\u001b[0;34m)\u001b[0m\u001b[0;34m\u001b[0m\u001b[0;34m\u001b[0m\u001b[0m\n\u001b[0m",
      "\u001b[0;32m~/anaconda/envs/cycontext/lib/python3.7/json/__init__.py\u001b[0m in \u001b[0;36mload\u001b[0;34m(fp, cls, object_hook, parse_float, parse_int, parse_constant, object_pairs_hook, **kw)\u001b[0m\n\u001b[1;32m    294\u001b[0m         \u001b[0mcls\u001b[0m\u001b[0;34m=\u001b[0m\u001b[0mcls\u001b[0m\u001b[0;34m,\u001b[0m \u001b[0mobject_hook\u001b[0m\u001b[0;34m=\u001b[0m\u001b[0mobject_hook\u001b[0m\u001b[0;34m,\u001b[0m\u001b[0;34m\u001b[0m\u001b[0;34m\u001b[0m\u001b[0m\n\u001b[1;32m    295\u001b[0m         \u001b[0mparse_float\u001b[0m\u001b[0;34m=\u001b[0m\u001b[0mparse_float\u001b[0m\u001b[0;34m,\u001b[0m \u001b[0mparse_int\u001b[0m\u001b[0;34m=\u001b[0m\u001b[0mparse_int\u001b[0m\u001b[0;34m,\u001b[0m\u001b[0;34m\u001b[0m\u001b[0;34m\u001b[0m\u001b[0m\n\u001b[0;32m--> 296\u001b[0;31m         parse_constant=parse_constant, object_pairs_hook=object_pairs_hook, **kw)\n\u001b[0m\u001b[1;32m    297\u001b[0m \u001b[0;34m\u001b[0m\u001b[0m\n\u001b[1;32m    298\u001b[0m \u001b[0;34m\u001b[0m\u001b[0m\n",
      "\u001b[0;32m~/anaconda/envs/cycontext/lib/python3.7/json/__init__.py\u001b[0m in \u001b[0;36mloads\u001b[0;34m(s, encoding, cls, object_hook, parse_float, parse_int, parse_constant, object_pairs_hook, **kw)\u001b[0m\n\u001b[1;32m    346\u001b[0m             \u001b[0mparse_int\u001b[0m \u001b[0;32mis\u001b[0m \u001b[0;32mNone\u001b[0m \u001b[0;32mand\u001b[0m \u001b[0mparse_float\u001b[0m \u001b[0;32mis\u001b[0m \u001b[0;32mNone\u001b[0m \u001b[0;32mand\u001b[0m\u001b[0;34m\u001b[0m\u001b[0;34m\u001b[0m\u001b[0m\n\u001b[1;32m    347\u001b[0m             parse_constant is None and object_pairs_hook is None and not kw):\n\u001b[0;32m--> 348\u001b[0;31m         \u001b[0;32mreturn\u001b[0m \u001b[0m_default_decoder\u001b[0m\u001b[0;34m.\u001b[0m\u001b[0mdecode\u001b[0m\u001b[0;34m(\u001b[0m\u001b[0ms\u001b[0m\u001b[0;34m)\u001b[0m\u001b[0;34m\u001b[0m\u001b[0;34m\u001b[0m\u001b[0m\n\u001b[0m\u001b[1;32m    349\u001b[0m     \u001b[0;32mif\u001b[0m \u001b[0mcls\u001b[0m \u001b[0;32mis\u001b[0m \u001b[0;32mNone\u001b[0m\u001b[0;34m:\u001b[0m\u001b[0;34m\u001b[0m\u001b[0;34m\u001b[0m\u001b[0m\n\u001b[1;32m    350\u001b[0m         \u001b[0mcls\u001b[0m \u001b[0;34m=\u001b[0m \u001b[0mJSONDecoder\u001b[0m\u001b[0;34m\u001b[0m\u001b[0;34m\u001b[0m\u001b[0m\n",
      "\u001b[0;32m~/anaconda/envs/cycontext/lib/python3.7/json/decoder.py\u001b[0m in \u001b[0;36mdecode\u001b[0;34m(self, s, _w)\u001b[0m\n\u001b[1;32m    335\u001b[0m \u001b[0;34m\u001b[0m\u001b[0m\n\u001b[1;32m    336\u001b[0m         \"\"\"\n\u001b[0;32m--> 337\u001b[0;31m         \u001b[0mobj\u001b[0m\u001b[0;34m,\u001b[0m \u001b[0mend\u001b[0m \u001b[0;34m=\u001b[0m \u001b[0mself\u001b[0m\u001b[0;34m.\u001b[0m\u001b[0mraw_decode\u001b[0m\u001b[0;34m(\u001b[0m\u001b[0ms\u001b[0m\u001b[0;34m,\u001b[0m \u001b[0midx\u001b[0m\u001b[0;34m=\u001b[0m\u001b[0m_w\u001b[0m\u001b[0;34m(\u001b[0m\u001b[0ms\u001b[0m\u001b[0;34m,\u001b[0m \u001b[0;36m0\u001b[0m\u001b[0;34m)\u001b[0m\u001b[0;34m.\u001b[0m\u001b[0mend\u001b[0m\u001b[0;34m(\u001b[0m\u001b[0;34m)\u001b[0m\u001b[0;34m)\u001b[0m\u001b[0;34m\u001b[0m\u001b[0;34m\u001b[0m\u001b[0m\n\u001b[0m\u001b[1;32m    338\u001b[0m         \u001b[0mend\u001b[0m \u001b[0;34m=\u001b[0m \u001b[0m_w\u001b[0m\u001b[0;34m(\u001b[0m\u001b[0ms\u001b[0m\u001b[0;34m,\u001b[0m \u001b[0mend\u001b[0m\u001b[0;34m)\u001b[0m\u001b[0;34m.\u001b[0m\u001b[0mend\u001b[0m\u001b[0;34m(\u001b[0m\u001b[0;34m)\u001b[0m\u001b[0;34m\u001b[0m\u001b[0;34m\u001b[0m\u001b[0m\n\u001b[1;32m    339\u001b[0m         \u001b[0;32mif\u001b[0m \u001b[0mend\u001b[0m \u001b[0;34m!=\u001b[0m \u001b[0mlen\u001b[0m\u001b[0;34m(\u001b[0m\u001b[0ms\u001b[0m\u001b[0;34m)\u001b[0m\u001b[0;34m:\u001b[0m\u001b[0;34m\u001b[0m\u001b[0;34m\u001b[0m\u001b[0m\n",
      "\u001b[0;32m~/anaconda/envs/cycontext/lib/python3.7/json/decoder.py\u001b[0m in \u001b[0;36mraw_decode\u001b[0;34m(self, s, idx)\u001b[0m\n\u001b[1;32m    351\u001b[0m         \"\"\"\n\u001b[1;32m    352\u001b[0m         \u001b[0;32mtry\u001b[0m\u001b[0;34m:\u001b[0m\u001b[0;34m\u001b[0m\u001b[0;34m\u001b[0m\u001b[0m\n\u001b[0;32m--> 353\u001b[0;31m             \u001b[0mobj\u001b[0m\u001b[0;34m,\u001b[0m \u001b[0mend\u001b[0m \u001b[0;34m=\u001b[0m \u001b[0mself\u001b[0m\u001b[0;34m.\u001b[0m\u001b[0mscan_once\u001b[0m\u001b[0;34m(\u001b[0m\u001b[0ms\u001b[0m\u001b[0;34m,\u001b[0m \u001b[0midx\u001b[0m\u001b[0;34m)\u001b[0m\u001b[0;34m\u001b[0m\u001b[0;34m\u001b[0m\u001b[0m\n\u001b[0m\u001b[1;32m    354\u001b[0m         \u001b[0;32mexcept\u001b[0m \u001b[0mStopIteration\u001b[0m \u001b[0;32mas\u001b[0m \u001b[0merr\u001b[0m\u001b[0;34m:\u001b[0m\u001b[0;34m\u001b[0m\u001b[0;34m\u001b[0m\u001b[0m\n\u001b[1;32m    355\u001b[0m             \u001b[0;32mraise\u001b[0m \u001b[0mJSONDecodeError\u001b[0m\u001b[0;34m(\u001b[0m\u001b[0;34m\"Expecting value\"\u001b[0m\u001b[0;34m,\u001b[0m \u001b[0ms\u001b[0m\u001b[0;34m,\u001b[0m \u001b[0merr\u001b[0m\u001b[0;34m.\u001b[0m\u001b[0mvalue\u001b[0m\u001b[0;34m)\u001b[0m \u001b[0;32mfrom\u001b[0m \u001b[0;32mNone\u001b[0m\u001b[0;34m\u001b[0m\u001b[0;34m\u001b[0m\u001b[0m\n",
      "\u001b[0;31mJSONDecodeError\u001b[0m: Expecting ',' delimiter: line 1334 column 10 (char 38831)"
     ]
    }
   ],
   "source": [
    "with open(outpath) as f:\n",
    "    modifier_data = json.load(f)"
   ]
  },
  {
   "cell_type": "code",
   "execution_count": 176,
   "metadata": {},
   "outputs": [
    {
     "data": {
      "text/plain": [
       "{'patterns': [{'literal': 'are ruled out',\n",
       "   'category': 'DEFINITE_NEGATED_EXISTENCE',\n",
       "   'pattern': None,\n",
       "   'rule': 'backward'},\n",
       "  {'literal': 'be ruled out',\n",
       "   'category': 'INDICATION',\n",
       "   'pattern': None,\n",
       "   'rule': 'backward'},\n",
       "  {'literal': 'being ruled out',\n",
       "   'category': 'INDICATION',\n",
       "   'pattern': None,\n",
       "   'rule': 'backward'},\n",
       "  {'literal': 'can be ruled out',\n",
       "   'category': 'DEFINITE_NEGATED_EXISTENCE',\n",
       "   'pattern': None,\n",
       "   'rule': 'backward'},\n",
       "  {'literal': 'cannot be excluded',\n",
       "   'category': 'AMBIVALENT_EXISTENCE',\n",
       "   'pattern': None,\n",
       "   'rule': 'backward'},\n",
       "  {'literal': 'cannot totally be excluded',\n",
       "   'category': 'PROBABLE_NEGATED_EXISTENCE',\n",
       "   'pattern': None,\n",
       "   'rule': 'backward'},\n",
       "  {'literal': 'could be ruled out',\n",
       "   'category': 'DEFINITE_NEGATED_EXISTENCE',\n",
       "   'pattern': None,\n",
       "   'rule': 'backward'},\n",
       "  {'literal': 'examination',\n",
       "   'category': 'INDICATION',\n",
       "   'pattern': [{'LOWER': {'REGEX': '(examination|exam|study)'}}],\n",
       "   'rule': 'backward'}]}"
      ]
     },
     "execution_count": 176,
     "metadata": {},
     "output_type": "execute_result"
    }
   ],
   "source": [
    "modifier_data"
   ]
  },
  {
   "cell_type": "code",
   "execution_count": 177,
   "metadata": {},
   "outputs": [],
   "source": [
    "item_data = []\n",
    "for data in modifier_data[\"patterns\"]:\n",
    "    item = ItemData(**data)\n",
    "    item_data.append(item)"
   ]
  },
  {
   "cell_type": "code",
   "execution_count": 178,
   "metadata": {
    "scrolled": true
   },
   "outputs": [
    {
     "data": {
      "text/plain": [
       "[ItemData: [are ruled out, definite_negated_existence, None, backward],\n",
       " ItemData: [be ruled out, indication, None, backward],\n",
       " ItemData: [being ruled out, indication, None, backward],\n",
       " ItemData: [can be ruled out, definite_negated_existence, None, backward],\n",
       " ItemData: [cannot be excluded, ambivalent_existence, None, backward],\n",
       " ItemData: [cannot totally be excluded, probable_negated_existence, None, backward],\n",
       " ItemData: [could be ruled out, definite_negated_existence, None, backward],\n",
       " ItemData: [examination, indication, [{'LOWER': {'REGEX': '(examination|exam|study)'}}], backward]]"
      ]
     },
     "execution_count": 178,
     "metadata": {},
     "output_type": "execute_result"
    }
   ],
   "source": [
    "item_data"
   ]
  },
  {
   "cell_type": "code",
   "execution_count": 179,
   "metadata": {},
   "outputs": [
    {
     "data": {
      "text/plain": [
       "[(pneumonia, <TagObject> [REASON, indication])]"
      ]
     },
     "execution_count": 179,
     "metadata": {},
     "output_type": "execute_result"
    }
   ],
   "source": [
    "doc._.context_graph.edges"
   ]
  },
  {
   "cell_type": "code",
   "execution_count": 180,
   "metadata": {},
   "outputs": [],
   "source": [
    "context = ConTextComponent(item_data, nlp)"
   ]
  },
  {
   "cell_type": "code",
   "execution_count": 197,
   "metadata": {},
   "outputs": [],
   "source": [
    "doc = nlp(\"might represent\")"
   ]
  },
  {
   "cell_type": "code",
   "execution_count": 198,
   "metadata": {},
   "outputs": [
    {
     "name": "stdout",
     "output_type": "stream",
     "text": [
      "may\n",
      "represent\n"
     ]
    }
   ],
   "source": [
    "for token in doc:\n",
    "    print(token.lemma_)"
   ]
  },
  {
   "cell_type": "markdown",
   "metadata": {},
   "source": [
    "# II. Read Data"
   ]
  },
  {
   "cell_type": "code",
   "execution_count": 68,
   "metadata": {},
   "outputs": [],
   "source": [
    "txt_files = glob.glob(os.path.join(\".\", \"pneumonia\", \"training_v2\", \"*.txt\"))"
   ]
  },
  {
   "cell_type": "code",
   "execution_count": 69,
   "metadata": {},
   "outputs": [],
   "source": [
    "texts = []\n",
    "for file in txt_files:\n",
    "    texts.append(open(file).read())"
   ]
  },
  {
   "cell_type": "code",
   "execution_count": null,
   "metadata": {},
   "outputs": [],
   "source": []
  },
  {
   "cell_type": "markdown",
   "metadata": {},
   "source": [
    "# III. Process with NLP"
   ]
  },
  {
   "cell_type": "code",
   "execution_count": 70,
   "metadata": {},
   "outputs": [],
   "source": [
    "docs = list(nlp.pipe(texts))"
   ]
  },
  {
   "cell_type": "code",
   "execution_count": 90,
   "metadata": {},
   "outputs": [
    {
     "name": "stdout",
     "output_type": "stream",
     "text": [
      "()\n",
      "[<TagObject> [Reason, indication], <TagObject> [REASON, indication]]\n",
      "[]\n",
      "\n",
      "(consolidation, pneumonia)\n",
      "[<TagObject> [Reason, indication], <TagObject> [REASON, indication]]\n",
      "[]\n",
      "\n",
      "(pneumonia, pneumonia, Pneumonia)\n",
      "[<TagObject> [Reason, indication], <TagObject> [REASON, indication]]\n",
      "[(pneumonia, <TagObject> [REASON, indication])]\n",
      "\n",
      "()\n",
      "[<TagObject> [Reason, indication], <TagObject> [REASON, indication]]\n",
      "[]\n",
      "\n",
      "(infiltrate, infiltrate)\n",
      "[<TagObject> [Reason, indication], <TagObject> [REASON, indication]]\n",
      "[(infiltrate, <TagObject> [Reason, indication])]\n",
      "\n",
      "()\n",
      "[<TagObject> [Reason, indication], <TagObject> [but, terminate], <TagObject> [but, terminate], <TagObject> [REASON, indication], <TagObject> [but, terminate], <TagObject> [but, terminate]]\n",
      "[]\n",
      "\n",
      "()\n",
      "[<TagObject> [Reason, indication], <TagObject> [REASON, indication]]\n",
      "[]\n",
      "\n",
      "()\n",
      "[<TagObject> [Reason, indication], <TagObject> [REASON, indication], <TagObject> [REASON, indication]]\n",
      "[]\n",
      "\n",
      "(infiltrate, infiltrate, pneumonia, consolidation)\n",
      "[<TagObject> [Reason, indication], <TagObject> [REASON, indication], <TagObject> [but, terminate], <TagObject> [but, terminate]]\n",
      "[]\n",
      "\n",
      "(consolidation, pneumonia)\n",
      "[<TagObject> [Reason, indication], <TagObject> [REASON, indication]]\n",
      "[]\n",
      "\n",
      "(pneumonia, pneumonia, consolidation)\n",
      "[<TagObject> [Reason, indication], <TagObject> [REASON, indication]]\n",
      "[]\n",
      "\n",
      "(consolidation,)\n",
      "[<TagObject> [Reason, indication], <TagObject> [REASON, indication]]\n",
      "[]\n",
      "\n",
      "(infiltrate, infiltrate, bronchopneumonia)\n",
      "[<TagObject> [Reason, indication], <TagObject> [REASON, indication]]\n",
      "[(infiltrate, <TagObject> [Reason, indication])]\n",
      "\n",
      "(pneumonia, pneumonia)\n",
      "[<TagObject> [Reason, indication], <TagObject> [REASON, indication]]\n",
      "[(pneumonia, <TagObject> [Reason, indication])]\n",
      "\n",
      "(infiltrates, infiltrates, consolidation)\n",
      "[<TagObject> [Reason, indication], <TagObject> [REASON, indication], <TagObject> [but, terminate]]\n",
      "[]\n",
      "\n",
      "(pneumonia, infiltrate)\n",
      "[<TagObject> [Reason, indication], <TagObject> [REASON, indication]]\n",
      "[]\n",
      "\n",
      "(infiltrate, infiltrate)\n",
      "[<TagObject> [Reason, indication], <TagObject> [REASON, indication], <TagObject> [but, terminate]]\n",
      "[(infiltrate, <TagObject> [Reason, indication])]\n",
      "\n",
      "(infiltrates, infiltrates, pneumonia)\n",
      "[<TagObject> [Reason, indication], <TagObject> [REASON, indication]]\n",
      "[(infiltrates, <TagObject> [Reason, indication])]\n",
      "\n",
      "()\n",
      "[<TagObject> [Reason, indication], <TagObject> [REASON, indication]]\n",
      "[]\n",
      "\n",
      "(Consolidation, pneumonia)\n",
      "[<TagObject> [Reason, indication], <TagObject> [REASON, indication]]\n",
      "[]\n",
      "\n",
      "(consolidation, consolidation, consolidation)\n",
      "[<TagObject> [Reason, indication], <TagObject> [REASON, indication]]\n",
      "[]\n",
      "\n",
      "(infiltrates,)\n",
      "[<TagObject> [Reason, indication], <TagObject> [but, terminate], <TagObject> [REASON, indication], <TagObject> [but, terminate], <TagObject> [no evidence of, definite_negated_existence], <TagObject> [but, terminate], <TagObject> [no evidence of, definite_negated_existence]]\n",
      "[(infiltrates, <TagObject> [no evidence of, definite_negated_existence])]\n",
      "\n",
      "(consolidation, consolidation, pneumonia)\n",
      "[<TagObject> [Reason, indication], <TagObject> [REASON, indication]]\n",
      "[]\n",
      "\n",
      "()\n",
      "[<TagObject> [Reason, indication], <TagObject> [REASON, indication], <TagObject> [no evidence of, definite_negated_existence]]\n",
      "[]\n",
      "\n",
      "()\n",
      "[<TagObject> [Reason, indication], <TagObject> [REASON, indication]]\n",
      "[]\n",
      "\n",
      "(pneumonia, pneumonia)\n",
      "[<TagObject> [Reason, indication], <TagObject> [REASON, indication]]\n",
      "[]\n",
      "\n",
      "()\n",
      "[<TagObject> [Reason, indication], <TagObject> [REASON, indication]]\n",
      "[]\n",
      "\n",
      "(pneumonia, pneumonia, pneumonia, consolidation, pneumonia)\n",
      "[<TagObject> [Reason, indication], <TagObject> [REASON, indication]]\n",
      "[(pneumonia, <TagObject> [Reason, indication])]\n",
      "\n",
      "(consolidation, infiltrate)\n",
      "[<TagObject> [Reason, indication], <TagObject> [REASON, indication]]\n",
      "[]\n",
      "\n",
      "(infiltrates, infiltrate, consolidation)\n",
      "[<TagObject> [Reason, indication], <TagObject> [REASON, indication]]\n",
      "[]\n",
      "\n",
      "(pneumonia, pneumonias, pneumonia)\n",
      "[<TagObject> [Reason, indication], <TagObject> [REASON, indication]]\n",
      "[]\n",
      "\n",
      "()\n",
      "[<TagObject> [Reason, indication], <TagObject> [REASON, indication]]\n",
      "[]\n",
      "\n",
      "(consolidation, consolidation)\n",
      "[<TagObject> [Reason, indication], <TagObject> [REASON, indication]]\n",
      "[]\n",
      "\n",
      "(pneumonia, pneumonia, consolidation, Consolidation)\n",
      "[<TagObject> [Reason, indication], <TagObject> [REASON, indication], <TagObject> [No evidence of, definite_negated_existence]]\n",
      "[]\n",
      "\n",
      "(consolidation, pneumonia)\n",
      "[<TagObject> [Reason, indication], <TagObject> [REASON, indication]]\n",
      "[]\n",
      "\n",
      "(infiltrate, infiltrate, infiltrate)\n",
      "[<TagObject> [Reason, indication], <TagObject> [REASON, indication], <TagObject> [no evidence of, definite_negated_existence]]\n",
      "[]\n",
      "\n",
      "()\n",
      "[<TagObject> [Reason, indication], <TagObject> [REASON, indication]]\n",
      "[]\n",
      "\n",
      "()\n",
      "[<TagObject> [Reason, indication], <TagObject> [REASON, indication]]\n",
      "[]\n",
      "\n",
      "()\n",
      "[<TagObject> [Reason, indication], <TagObject> [REASON, indication]]\n",
      "[]\n",
      "\n",
      "(pneumonia, pneumonia, pneumonia)\n",
      "[<TagObject> [Reason, indication], <TagObject> [REASON, indication]]\n",
      "[]\n",
      "\n",
      "()\n",
      "[<TagObject> [Reason, indication], <TagObject> [REASON, indication]]\n",
      "[]\n",
      "\n",
      "(infiltrate, infiltrate, pneumonia)\n",
      "[<TagObject> [Reason, indication], <TagObject> [REASON, indication], <TagObject> [no evidence of, definite_negated_existence], <TagObject> [No evidence of, definite_negated_existence]]\n",
      "[(infiltrate, <TagObject> [Reason, indication]), (infiltrate, <TagObject> [REASON, indication])]\n",
      "\n",
      "(pneumonia, pneumonia, pneumonia, infiltrates, pneumonia)\n",
      "[<TagObject> [Reason, indication], <TagObject> [REASON, indication]]\n",
      "[(pneumonia, <TagObject> [Reason, indication])]\n",
      "\n",
      "()\n",
      "[<TagObject> [Reason, indication], <TagObject> [REASON, indication]]\n",
      "[]\n",
      "\n",
      "(consolidation, consolidation)\n",
      "[<TagObject> [Reason, indication], <TagObject> [REASON, indication]]\n",
      "[(consolidation, <TagObject> [Reason, indication])]\n",
      "\n",
      "()\n",
      "[<TagObject> [Reason, indication], <TagObject> [REASON, indication], <TagObject> [but, terminate]]\n",
      "[]\n",
      "\n",
      "(consolidation, pneumonia)\n",
      "[<TagObject> [Reason, indication], <TagObject> [REASON, indication]]\n",
      "[]\n",
      "\n",
      "(pneumonia,)\n",
      "[<TagObject> [Reason, indication], <TagObject> [REASON, indication]]\n",
      "[]\n",
      "\n",
      "()\n",
      "[<TagObject> [Reason, indication], <TagObject> [REASON, indication]]\n",
      "[]\n",
      "\n",
      "(pneumonia,)\n",
      "[<TagObject> [Reason, indication], <TagObject> [REASON, indication]]\n",
      "[]\n",
      "\n",
      "()\n",
      "[<TagObject> [Reason, indication], <TagObject> [REASON, indication]]\n",
      "[]\n",
      "\n",
      "(infiltrate, pneumonias)\n",
      "[<TagObject> [Reason, indication], <TagObject> [REASON, indication]]\n",
      "[]\n",
      "\n",
      "(pneumonia, pneumonia, pneumonia, pneumonia, consolidation, pneumonia, pneumonia)\n",
      "[<TagObject> [Reason, indication], <TagObject> [REASON, indication], <TagObject> [No evidence of, definite_negated_existence]]\n",
      "[(pneumonia, <TagObject> [Reason, indication]), (pneumonia, <TagObject> [REASON, indication])]\n",
      "\n",
      "()\n",
      "[<TagObject> [Reason, indication], <TagObject> [REASON, indication], <TagObject> [no evidence of, definite_negated_existence]]\n",
      "[]\n",
      "\n",
      "()\n",
      "[<TagObject> [Reason, indication], <TagObject> [REASON, indication], <TagObject> [REASON, indication]]\n",
      "[]\n",
      "\n",
      "(Pneumonia, Pneumonia, pneumonia, infiltrate, pneumonia, pneumonia)\n",
      "[<TagObject> [Reason, indication], <TagObject> [REASON, indication]]\n",
      "[(Pneumonia, <TagObject> [Reason, indication])]\n",
      "\n",
      "()\n",
      "[<TagObject> [Reason, indication], <TagObject> [REASON, indication]]\n",
      "[]\n",
      "\n",
      "(pneumonia, pneumonia, pneumonia, pneumonia, consolidation, pneumonia)\n",
      "[<TagObject> [Reason, indication], <TagObject> [REASON, indication]]\n",
      "[(pneumonia, <TagObject> [Reason, indication]), (pneumonia, <TagObject> [REASON, indication])]\n",
      "\n",
      "(infiltrate, infiltrate, infiltrate, Pneumonia)\n",
      "[<TagObject> [Reason, indication], <TagObject> [REASON, indication]]\n",
      "[(infiltrate, <TagObject> [Reason, indication])]\n",
      "\n",
      "()\n",
      "[<TagObject> [Reason, indication], <TagObject> [REASON, indication]]\n",
      "[]\n",
      "\n",
      "()\n",
      "[<TagObject> [Reason, indication], <TagObject> [REASON, indication]]\n",
      "[]\n",
      "\n",
      "(infiltrate, infiltrate, consolidation, consolidation, infiltrate, infiltrate, infiltrate)\n",
      "[<TagObject> [Reason, indication], <TagObject> [REASON, indication], <TagObject> [but, terminate]]\n",
      "[(infiltrate, <TagObject> [Reason, indication])]\n",
      "\n",
      "(pneumonia, pneumonia, pneumonia, pneumonia, pneumonia)\n",
      "[<TagObject> [Reason, indication], <TagObject> [REASON, indication], <TagObject> [no evidence of, definite_negated_existence]]\n",
      "[(pneumonia, <TagObject> [Reason, indication]), (pneumonia, <TagObject> [REASON, indication]), (pneumonia, <TagObject> [no evidence of, definite_negated_existence])]\n",
      "\n",
      "()\n",
      "[<TagObject> [Reason, indication], <TagObject> [REASON, indication]]\n",
      "[]\n",
      "\n",
      "(infiltrate, pneumonia)\n",
      "[<TagObject> [Reason, indication], <TagObject> [REASON, indication], <TagObject> [no evidence of, definite_negated_existence], <TagObject> [No evidence of, definite_negated_existence]]\n",
      "[(infiltrate, <TagObject> [no evidence of, definite_negated_existence]), (pneumonia, <TagObject> [No evidence of, definite_negated_existence])]\n",
      "\n",
      "(pneumonia, pneumonia)\n",
      "[<TagObject> [Reason, indication], <TagObject> [REASON, indication]]\n",
      "[]\n",
      "\n",
      "()\n",
      "[<TagObject> [Reason, indication], <TagObject> [REASON, indication]]\n",
      "[]\n",
      "\n",
      "()\n",
      "[<TagObject> [Reason, indication], <TagObject> [REASON, indication]]\n",
      "[]\n",
      "\n",
      "(infiltrates, consolidation, pneumonia)\n",
      "[<TagObject> [Reason, indication], <TagObject> [REASON, indication]]\n",
      "[]\n",
      "\n",
      "()\n",
      "[<TagObject> [Reason, indication], <TagObject> [REASON, indication]]\n",
      "[]\n",
      "\n"
     ]
    }
   ],
   "source": [
    "for doc in docs:\n",
    "    print(doc.ents)\n",
    "    print(doc._.context_graph.modifiers)\n",
    "    print(doc._.context_graph.edges)\n",
    "    print()"
   ]
  },
  {
   "cell_type": "code",
   "execution_count": 57,
   "metadata": {},
   "outputs": [],
   "source": [
    "pos_docs = [doc for doc in docs if len(doc.ents) > 0]"
   ]
  },
  {
   "cell_type": "code",
   "execution_count": null,
   "metadata": {},
   "outputs": [],
   "source": []
  },
  {
   "cell_type": "markdown",
   "metadata": {},
   "source": [
    "# Visualization"
   ]
  },
  {
   "cell_type": "code",
   "execution_count": 37,
   "metadata": {},
   "outputs": [],
   "source": [
    "from cycontext import viz"
   ]
  },
  {
   "cell_type": "code",
   "execution_count": 39,
   "metadata": {},
   "outputs": [],
   "source": [
    "from spacy import displacy"
   ]
  },
  {
   "cell_type": "code",
   "execution_count": 118,
   "metadata": {},
   "outputs": [],
   "source": [
    "doc = docs[2]"
   ]
  },
  {
   "cell_type": "code",
   "execution_count": 185,
   "metadata": {
    "scrolled": true
   },
   "outputs": [
    {
     "data": {
      "text/html": [
       "<div class=\"entities\" style=\"line-height: 2.5; direction: ltr\">\n",
       "<mark class=\"entity\" style=\"background: orange; padding: 0.45em 0.6em; margin: 0 0.25em; line-height: 1; border-radius: 0.35em;\">\n",
       "    pneumonia\n",
       "    <span style=\"font-size: 0.8em; font-weight: bold; line-height: 1; border-radius: 0.35em; text-transform: uppercase; vertical-align: middle; margin-left: 0.5rem\">EVIDENCE_OF_PNEUMONIA</span>\n",
       "</mark>\n",
       " examination</div>"
      ],
      "text/plain": [
       "<IPython.core.display.HTML object>"
      ]
     },
     "metadata": {},
     "output_type": "display_data"
    }
   ],
   "source": [
    "displacy.render(doc, \"ent\", options={\"colors\": {\"EVIDENCE_OF_PNEUMONIA\": \"orange\", \"REASON\": \"yellow\"}})"
   ]
  },
  {
   "cell_type": "code",
   "execution_count": 186,
   "metadata": {},
   "outputs": [
    {
     "data": {
      "text/plain": [
       "(pneumonia,)"
      ]
     },
     "execution_count": 186,
     "metadata": {},
     "output_type": "execute_result"
    }
   ],
   "source": [
    "doc.ents"
   ]
  },
  {
   "cell_type": "code",
   "execution_count": 187,
   "metadata": {},
   "outputs": [
    {
     "data": {
      "text/plain": [
       "[<TagObject> [examination, indication]]"
      ]
     },
     "execution_count": 187,
     "metadata": {},
     "output_type": "execute_result"
    }
   ],
   "source": [
    "doc._.context_graph.modifiers"
   ]
  },
  {
   "cell_type": "code",
   "execution_count": 188,
   "metadata": {},
   "outputs": [
    {
     "data": {
      "text/plain": [
       "[(pneumonia, <TagObject> [examination, indication])]"
      ]
     },
     "execution_count": 188,
     "metadata": {},
     "output_type": "execute_result"
    }
   ],
   "source": [
    "doc._.context_graph.edges"
   ]
  },
  {
   "cell_type": "code",
   "execution_count": 189,
   "metadata": {
    "scrolled": true
   },
   "outputs": [
    {
     "data": {
      "text/html": [
       "<div class=\"entities\" style=\"line-height: 2.5; direction: ltr\">\n",
       "<mark class=\"entity\" style=\"background: orange; padding: 0.45em 0.6em; margin: 0 0.25em; line-height: 1; border-radius: 0.35em;\">\n",
       "    pneumonia\n",
       "    <span style=\"font-size: 0.8em; font-weight: bold; line-height: 1; border-radius: 0.35em; text-transform: uppercase; vertical-align: middle; margin-left: 0.5rem\">EVIDENCE_OF_PNEUMONIA</span>\n",
       "</mark>\n",
       " \n",
       "<mark class=\"entity\" style=\"background: #ddd; padding: 0.45em 0.6em; margin: 0 0.25em; line-height: 1; border-radius: 0.35em;\">\n",
       "    examination\n",
       "    <span style=\"font-size: 0.8em; font-weight: bold; line-height: 1; border-radius: 0.35em; text-transform: uppercase; vertical-align: middle; margin-left: 0.5rem\">indication</span>\n",
       "</mark>\n",
       "</div>"
      ],
      "text/plain": [
       "<IPython.core.display.HTML object>"
      ]
     },
     "metadata": {},
     "output_type": "display_data"
    }
   ],
   "source": [
    "viz.visualize_targets(doc\n",
    "                     , colors ={\"EVIDENCE_OF_PNEUMONIA\": \"orange\",\n",
    "                                          \"DEFINITE_NEGATED_EXISTENCE\": \"blue\"})"
   ]
  },
  {
   "cell_type": "code",
   "execution_count": 190,
   "metadata": {},
   "outputs": [
    {
     "data": {
      "text/html": [
       "<svg xmlns=\"http://www.w3.org/2000/svg\" xmlns:xlink=\"http://www.w3.org/1999/xlink\" xml:lang=\"en\" id=\"0e17f77ac6994dcb90809fb271b4a2a4-0\" class=\"displacy\" width=\"400\" height=\"224.5\" direction=\"ltr\" style=\"max-width: none; height: 224.5px; color: #000000; background: #ffffff; font-family: Arial; direction: ltr\">\n",
       "<text class=\"displacy-token\" fill=\"currentColor\" text-anchor=\"middle\" y=\"134.5\">\n",
       "    <tspan class=\"displacy-word\" fill=\"currentColor\" x=\"50\">pneumonia</tspan>\n",
       "    <tspan class=\"displacy-tag\" dy=\"2em\" fill=\"currentColor\" x=\"50\">EVIDENCE_OF_PNEUMONIA</tspan>\n",
       "</text>\n",
       "\n",
       "<text class=\"displacy-token\" fill=\"currentColor\" text-anchor=\"middle\" y=\"134.5\">\n",
       "    <tspan class=\"displacy-word\" fill=\"currentColor\" x=\"225\">examination</tspan>\n",
       "    <tspan class=\"displacy-tag\" dy=\"2em\" fill=\"currentColor\" x=\"225\"></tspan>\n",
       "</text>\n",
       "\n",
       "<g class=\"displacy-arrow\">\n",
       "    <path class=\"displacy-arc\" id=\"arrow-0e17f77ac6994dcb90809fb271b4a2a4-0-0\" stroke-width=\"2px\" d=\"M70,89.5 C70,2.0 225.0,2.0 225.0,89.5\" fill=\"none\" stroke=\"currentColor\"/>\n",
       "    <text dy=\"1.25em\" style=\"font-size: 0.8em; letter-spacing: 1px\">\n",
       "        <textPath xlink:href=\"#arrow-0e17f77ac6994dcb90809fb271b4a2a4-0-0\" class=\"displacy-label\" startOffset=\"50%\" side=\"left\" fill=\"currentColor\" text-anchor=\"middle\">indication</textPath>\n",
       "    </text>\n",
       "    <path class=\"displacy-arrowhead\" d=\"M70,91.5 L62,79.5 78,79.5\" fill=\"currentColor\"/>\n",
       "</g>\n",
       "</svg>"
      ],
      "text/plain": [
       "<IPython.core.display.HTML object>"
      ]
     },
     "metadata": {},
     "output_type": "display_data"
    }
   ],
   "source": [
    "viz.visualize_modifiers(doc)"
   ]
  },
  {
   "cell_type": "code",
   "execution_count": null,
   "metadata": {},
   "outputs": [],
   "source": []
  }
 ],
 "metadata": {
  "kernelspec": {
   "display_name": "Python 3",
   "language": "python",
   "name": "python3"
  },
  "language_info": {
   "codemirror_mode": {
    "name": "ipython",
    "version": 3
   },
   "file_extension": ".py",
   "mimetype": "text/x-python",
   "name": "python",
   "nbconvert_exporter": "python",
   "pygments_lexer": "ipython3",
   "version": "3.7.3"
  }
 },
 "nbformat": 4,
 "nbformat_minor": 2
}

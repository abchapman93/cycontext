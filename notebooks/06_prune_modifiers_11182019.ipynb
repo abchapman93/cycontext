{
 "cells": [
  {
   "cell_type": "code",
   "execution_count": 1,
   "metadata": {},
   "outputs": [],
   "source": [
    "import os, sys, glob\n",
    "import spacy\n",
    "import pandas as pd\n",
    "\n",
    "from spacy.pipeline import EntityRuler"
   ]
  },
  {
   "cell_type": "code",
   "execution_count": 2,
   "metadata": {},
   "outputs": [],
   "source": [
    "sys.path.append('..')"
   ]
  },
  {
   "cell_type": "code",
   "execution_count": 3,
   "metadata": {},
   "outputs": [],
   "source": [
    "from cycontext.item_data import ItemData\n",
    "from cycontext.tag_object import TagObject\n",
    "from cycontext.context_component import ConTextComponent"
   ]
  },
  {
   "cell_type": "code",
   "execution_count": 4,
   "metadata": {},
   "outputs": [],
   "source": [
    "%load_ext autoreload\n",
    "%autoreload 2"
   ]
  },
  {
   "cell_type": "code",
   "execution_count": 5,
   "metadata": {},
   "outputs": [],
   "source": [
    "nlp = spacy.load(\"en_core_web_sm\")\n",
    "_ = nlp.remove_pipe(\"ner\")"
   ]
  },
  {
   "cell_type": "markdown",
   "metadata": {},
   "source": [
    "# Overview\n",
    "- Read in data\n",
    "- Read in modifiers"
   ]
  },
  {
   "cell_type": "markdown",
   "metadata": {},
   "source": [
    "# I. Read in Knowledge Base"
   ]
  },
  {
   "cell_type": "markdown",
   "metadata": {},
   "source": [
    "## I.I Targets"
   ]
  },
  {
   "cell_type": "code",
   "execution_count": 6,
   "metadata": {},
   "outputs": [],
   "source": [
    "targets_filepath = os.path.join(\".\", \"pneumonia\", \"kb\", \"pneumonia_targets.tsv\")\n",
    "targets_df = pd.read_csv(targets_filepath, sep=\"\\t\")"
   ]
  },
  {
   "cell_type": "code",
   "execution_count": 7,
   "metadata": {},
   "outputs": [
    {
     "data": {
      "text/html": [
       "<div>\n",
       "<style scoped>\n",
       "    .dataframe tbody tr th:only-of-type {\n",
       "        vertical-align: middle;\n",
       "    }\n",
       "\n",
       "    .dataframe tbody tr th {\n",
       "        vertical-align: top;\n",
       "    }\n",
       "\n",
       "    .dataframe thead th {\n",
       "        text-align: right;\n",
       "    }\n",
       "</style>\n",
       "<table border=\"1\" class=\"dataframe\">\n",
       "  <thead>\n",
       "    <tr style=\"text-align: right;\">\n",
       "      <th></th>\n",
       "      <th>Lex</th>\n",
       "      <th>Type</th>\n",
       "      <th>Regex</th>\n",
       "      <th>Direction</th>\n",
       "      <th>Codes</th>\n",
       "    </tr>\n",
       "  </thead>\n",
       "  <tbody>\n",
       "    <tr>\n",
       "      <th>0</th>\n",
       "      <td>pneumonia</td>\n",
       "      <td>EVIDENCE_OF_PNEUMONIA</td>\n",
       "      <td>pneumonias?</td>\n",
       "      <td>NaN</td>\n",
       "      <td>NaN</td>\n",
       "    </tr>\n",
       "    <tr>\n",
       "      <th>1</th>\n",
       "      <td>consolidation</td>\n",
       "      <td>EVIDENCE_OF_PNEUMONIA</td>\n",
       "      <td>NaN</td>\n",
       "      <td>NaN</td>\n",
       "      <td>NaN</td>\n",
       "    </tr>\n",
       "    <tr>\n",
       "      <th>2</th>\n",
       "      <td>infiltrate</td>\n",
       "      <td>EVIDENCE_OF_PNEUMONIA</td>\n",
       "      <td>infiltrat(e|es|ion)</td>\n",
       "      <td>NaN</td>\n",
       "      <td>NaN</td>\n",
       "    </tr>\n",
       "    <tr>\n",
       "      <th>3</th>\n",
       "      <td>effusion</td>\n",
       "      <td>EVIDENCE_OF_PNEUMONIA</td>\n",
       "      <td>effusion</td>\n",
       "      <td>NaN</td>\n",
       "      <td>NaN</td>\n",
       "    </tr>\n",
       "  </tbody>\n",
       "</table>\n",
       "</div>"
      ],
      "text/plain": [
       "             Lex                   Type                Regex  Direction  Codes\n",
       "0      pneumonia  EVIDENCE_OF_PNEUMONIA          pneumonias?        NaN    NaN\n",
       "1  consolidation  EVIDENCE_OF_PNEUMONIA                  NaN        NaN    NaN\n",
       "2     infiltrate  EVIDENCE_OF_PNEUMONIA  infiltrat(e|es|ion)        NaN    NaN\n",
       "3       effusion  EVIDENCE_OF_PNEUMONIA             effusion        NaN    NaN"
      ]
     },
     "execution_count": 7,
     "metadata": {},
     "output_type": "execute_result"
    }
   ],
   "source": [
    "targets_df.head()"
   ]
  },
  {
   "cell_type": "code",
   "execution_count": null,
   "metadata": {},
   "outputs": [],
   "source": []
  },
  {
   "cell_type": "code",
   "execution_count": 8,
   "metadata": {},
   "outputs": [],
   "source": [
    "target_patterns = []\n",
    "for i, row in targets_df.fillna('').iterrows():\n",
    "    literal = row[\"Lex\"]\n",
    "    category = row[\"Type\"]\n",
    "    regex = row[\"Regex\"]\n",
    "    \n",
    "    if regex == '':\n",
    "        pattern = [{\"LOWER\": literal}]\n",
    "    else:\n",
    "        pattern = [{\"LOWER\": {\"REGEX\": regex}}]\n",
    "    target_patterns.append({\"label\": category, \"pattern\": pattern})\n",
    "        "
   ]
  },
  {
   "cell_type": "code",
   "execution_count": 9,
   "metadata": {},
   "outputs": [],
   "source": [
    "# Use the EntityRuler class for rule-based NER\n",
    "ruler = EntityRuler(nlp, overwrite_ents=True)\n",
    "ruler.add_patterns(target_patterns)"
   ]
  },
  {
   "cell_type": "code",
   "execution_count": 10,
   "metadata": {},
   "outputs": [],
   "source": [
    "try:\n",
    "    _ = nlp.remove_pipe(\"entity_ruler\")\n",
    "except:\n",
    "    pass\n",
    "nlp.add_pipe(ruler)"
   ]
  },
  {
   "cell_type": "markdown",
   "metadata": {},
   "source": [
    "## I.II Modifiers"
   ]
  },
  {
   "cell_type": "code",
   "execution_count": 35,
   "metadata": {},
   "outputs": [],
   "source": [
    "item_data = [\n",
    "    ItemData(\"no\", \"DEFINITE_NEGATED_EXISTENCE\", rule=\"forward\"),\n",
    "    ItemData(\"no evidence of\", \"DEFINITE_NEGATED_EXISTENCE\", rule=\"forward\"),\n",
    "    ItemData(\"evidence of\", \"POSITIVE_EXISTENCE\", rule=\"forward\"),\n",
    "]\n"
   ]
  },
  {
   "cell_type": "code",
   "execution_count": 36,
   "metadata": {
    "scrolled": true
   },
   "outputs": [
    {
     "data": {
      "text/plain": [
       "[ItemData: [no, definite_negated_existence, None, forward],\n",
       " ItemData: [no evidence of, definite_negated_existence, None, forward],\n",
       " ItemData: [evidence of, positive_existence, None, forward]]"
      ]
     },
     "execution_count": 36,
     "metadata": {},
     "output_type": "execute_result"
    }
   ],
   "source": [
    "item_data"
   ]
  },
  {
   "cell_type": "code",
   "execution_count": 37,
   "metadata": {},
   "outputs": [],
   "source": [
    "context = ConTextComponent(item_data, nlp)"
   ]
  },
  {
   "cell_type": "markdown",
   "metadata": {},
   "source": [
    "# II. Read Data"
   ]
  },
  {
   "cell_type": "code",
   "execution_count": 16,
   "metadata": {},
   "outputs": [],
   "source": [
    "# txt_files = glob.glob(os.path.join(\".\", \"pneumonia\", \"training_v2\", \"*.txt\"))"
   ]
  },
  {
   "cell_type": "code",
   "execution_count": 19,
   "metadata": {},
   "outputs": [],
   "source": [
    "texts = [\"No evidence of pneumonia.\"]"
   ]
  },
  {
   "cell_type": "markdown",
   "metadata": {},
   "source": [
    "# III. Process with NLP"
   ]
  },
  {
   "cell_type": "code",
   "execution_count": 38,
   "metadata": {},
   "outputs": [],
   "source": [
    "try:\n",
    "    nlp.add_pipe(context)\n",
    "except:\n",
    "    nlp.remove_pipe(\"context\")\n",
    "    nlp.add_pipe(context)"
   ]
  },
  {
   "cell_type": "code",
   "execution_count": 39,
   "metadata": {},
   "outputs": [],
   "source": [
    "docs = list(nlp.pipe(texts))"
   ]
  },
  {
   "cell_type": "code",
   "execution_count": 40,
   "metadata": {},
   "outputs": [],
   "source": [
    "doc = docs[0]"
   ]
  },
  {
   "cell_type": "code",
   "execution_count": 41,
   "metadata": {},
   "outputs": [],
   "source": [
    "phrase_matcher = context.phrase_matcher\n",
    "matches = phrase_matcher(doc)"
   ]
  },
  {
   "cell_type": "code",
   "execution_count": 53,
   "metadata": {},
   "outputs": [
    {
     "data": {
      "text/plain": [
       "[<TagObject> [No, definite_negated_existence],\n",
       " <TagObject> [No evidence of, definite_negated_existence],\n",
       " <TagObject> [evidence of, positive_existence]]"
      ]
     },
     "execution_count": 53,
     "metadata": {},
     "output_type": "execute_result"
    }
   ],
   "source": [
    "modifiers"
   ]
  },
  {
   "cell_type": "code",
   "execution_count": 66,
   "metadata": {},
   "outputs": [],
   "source": [
    "modifiers = list(doc._.context_graph.modifiers)\n",
    "\n",
    "unpruned = sorted(modifiers, key=lambda x: (x.start, x.end))"
   ]
  },
  {
   "cell_type": "code",
   "execution_count": 67,
   "metadata": {},
   "outputs": [],
   "source": [
    "curr_mod = unpruned[0]\n",
    "next_mod = unpruned[1]"
   ]
  },
  {
   "cell_type": "code",
   "execution_count": 68,
   "metadata": {},
   "outputs": [
    {
     "data": {
      "text/plain": [
       "True"
      ]
     },
     "execution_count": 68,
     "metadata": {},
     "output_type": "execute_result"
    }
   ],
   "source": [
    "curr_mod.span[0] in next_mod.span"
   ]
  },
  {
   "cell_type": "code",
   "execution_count": 60,
   "metadata": {},
   "outputs": [
    {
     "data": {
      "text/plain": [
       "No evidence of"
      ]
     },
     "execution_count": 60,
     "metadata": {},
     "output_type": "execute_result"
    }
   ],
   "source": [
    "next_mod.span"
   ]
  },
  {
   "cell_type": "code",
   "execution_count": 79,
   "metadata": {},
   "outputs": [],
   "source": [
    "def overlaps(self, other):\n",
    "    if self.span[0] in other.span:\n",
    "        return True\n",
    "    if self.span[-1] in other.span:\n",
    "        return True\n",
    "    if other.span[0] in self.span:\n",
    "        return True\n",
    "    if other.span[-1] in self.span:\n",
    "        return True\n",
    "    return False"
   ]
  },
  {
   "cell_type": "code",
   "execution_count": 84,
   "metadata": {},
   "outputs": [
    {
     "data": {
      "text/plain": [
       "[]"
      ]
     },
     "execution_count": 84,
     "metadata": {},
     "output_type": "execute_result"
    }
   ],
   "source": [
    "unpruned"
   ]
  },
  {
   "cell_type": "code",
   "execution_count": 138,
   "metadata": {},
   "outputs": [],
   "source": [
    "modifiers = list(doc._.context_graph.modifiers)\n",
    "modifiers = sorted(modifiers, key=lambda x: (x.start, x.end))\n",
    "\n",
    "def prune_overlapping_modifiers(modifiers):\n",
    "    # Don't prune a single modifier\n",
    "    if len(modifiers) == 1:\n",
    "        return modifiers\n",
    "    \n",
    "    # Make a copy\n",
    "    unpruned = list(modifiers)\n",
    "    pruned = []\n",
    "    num_mods = len(unpruned)\n",
    "    curr_mod = unpruned.pop(0)\n",
    "    \n",
    "    \n",
    "    while True:\n",
    "        if len(unpruned) == 0:\n",
    "            pruned.append(curr_mod)\n",
    "            break\n",
    "        if len(unpruned) == 1:\n",
    "            pruned.append(unpruned.pop(0))\n",
    "            break\n",
    "        next_mod = unpruned.pop(0)\n",
    "        \n",
    "        # Check if they overlap\n",
    "        if curr_mod.overlaps(next_mod):\n",
    "            # Choose the larger\n",
    "            longer_span = max(curr_mod, next_mod, key=lambda x: (x.end - x.start))\n",
    "            pruned.append(longer_span)\n",
    "            curr_mod = next_mod\n",
    "        else:\n",
    "            pruned.append(curr_mod)\n",
    "            curr_mod = unpruned.pop(0)\n",
    "    \n",
    "    # Recursion base point\n",
    "    if len(pruned) == num_mods:\n",
    "        return pruned\n",
    "    else:\n",
    "        return prune_overlapping_modifiers(pruned)"
   ]
  },
  {
   "cell_type": "code",
   "execution_count": 139,
   "metadata": {},
   "outputs": [],
   "source": [
    "rslt = prune_overlapping_modifiers(modifiers)"
   ]
  },
  {
   "cell_type": "code",
   "execution_count": 140,
   "metadata": {},
   "outputs": [
    {
     "data": {
      "text/plain": [
       "[<TagObject> [evidence of, positive_existence]]"
      ]
     },
     "execution_count": 140,
     "metadata": {},
     "output_type": "execute_result"
    }
   ],
   "source": [
    "rslt"
   ]
  },
  {
   "cell_type": "code",
   "execution_count": 113,
   "metadata": {},
   "outputs": [
    {
     "data": {
      "text/plain": [
       "True"
      ]
     },
     "execution_count": 113,
     "metadata": {},
     "output_type": "execute_result"
    }
   ],
   "source": [
    "overlaps(rslt[0], rslt[1])"
   ]
  },
  {
   "cell_type": "code",
   "execution_count": 76,
   "metadata": {},
   "outputs": [
    {
     "data": {
      "text/plain": [
       "[<TagObject> [No evidence of, definite_negated_existence],\n",
       " <TagObject> [evidence of, positive_existence]]"
      ]
     },
     "execution_count": 76,
     "metadata": {},
     "output_type": "execute_result"
    }
   ],
   "source": [
    "pruned"
   ]
  },
  {
   "cell_type": "code",
   "execution_count": 44,
   "metadata": {},
   "outputs": [
    {
     "data": {
      "text/plain": [
       "[(746762829127501960, 0, 1),\n",
       " (5533571732986600803, 0, 3),\n",
       " (15180167692696242062, 1, 3)]"
      ]
     },
     "execution_count": 44,
     "metadata": {},
     "output_type": "execute_result"
    }
   ],
   "source": [
    "matches"
   ]
  },
  {
   "cell_type": "code",
   "execution_count": null,
   "metadata": {},
   "outputs": [],
   "source": []
  },
  {
   "cell_type": "code",
   "execution_count": null,
   "metadata": {},
   "outputs": [],
   "source": []
  },
  {
   "cell_type": "code",
   "execution_count": 32,
   "metadata": {},
   "outputs": [
    {
     "data": {
      "text/plain": [
       "[<TagObject> [No, definite_negated_existence],\n",
       " <TagObject> [No evidence of, definite_negated_existence]]"
      ]
     },
     "execution_count": 32,
     "metadata": {},
     "output_type": "execute_result"
    }
   ],
   "source": [
    "doc._.context_graph.modifiers"
   ]
  },
  {
   "cell_type": "code",
   "execution_count": 224,
   "metadata": {},
   "outputs": [
    {
     "name": "stdout",
     "output_type": "stream",
     "text": [
      "()\n",
      "[<TagObject> [Reason, indication], <TagObject> [REASON, indication]]\n",
      "[]\n",
      "\n",
      "(consolidation, pneumonia)\n",
      "[<TagObject> [Reason, indication], <TagObject> [REASON, indication]]\n",
      "[]\n",
      "\n",
      "(pneumonia, pneumonia, Pneumonia)\n",
      "[<TagObject> [Reason, indication], <TagObject> [REASON, indication]]\n",
      "[(pneumonia, <TagObject> [REASON, indication])]\n",
      "\n",
      "()\n",
      "[<TagObject> [Reason, indication], <TagObject> [REASON, indication]]\n",
      "[]\n",
      "\n",
      "(infiltrate, infiltrate)\n",
      "[<TagObject> [Reason, indication], <TagObject> [REASON, indication]]\n",
      "[(infiltrate, <TagObject> [Reason, indication])]\n",
      "\n",
      "()\n",
      "[<TagObject> [Reason, indication], <TagObject> [but, terminate], <TagObject> [but, terminate], <TagObject> [REASON, indication], <TagObject> [but, terminate], <TagObject> [but, terminate]]\n",
      "[]\n",
      "\n",
      "()\n",
      "[<TagObject> [Reason, indication], <TagObject> [REASON, indication]]\n",
      "[]\n",
      "\n",
      "()\n",
      "[<TagObject> [Reason, indication], <TagObject> [REASON, indication], <TagObject> [REASON, indication]]\n",
      "[]\n",
      "\n",
      "(infiltrate, infiltrate, pneumonia, consolidation)\n",
      "[<TagObject> [Reason, indication], <TagObject> [REASON, indication], <TagObject> [but, terminate], <TagObject> [but, terminate]]\n",
      "[]\n",
      "\n",
      "(consolidation, pneumonia)\n",
      "[<TagObject> [Reason, indication], <TagObject> [REASON, indication]]\n",
      "[]\n",
      "\n",
      "(pneumonia, pneumonia, consolidation)\n",
      "[<TagObject> [Reason, indication], <TagObject> [REASON, indication]]\n",
      "[]\n",
      "\n",
      "(consolidation,)\n",
      "[<TagObject> [Reason, indication], <TagObject> [REASON, indication]]\n",
      "[]\n",
      "\n",
      "(infiltrate, infiltrate, bronchopneumonia)\n",
      "[<TagObject> [Reason, indication], <TagObject> [REASON, indication]]\n",
      "[(infiltrate, <TagObject> [Reason, indication])]\n",
      "\n",
      "(pneumonia, pneumonia)\n",
      "[<TagObject> [Reason, indication], <TagObject> [REASON, indication]]\n",
      "[(pneumonia, <TagObject> [Reason, indication])]\n",
      "\n",
      "(infiltrates, infiltrates, consolidation)\n",
      "[<TagObject> [Reason, indication], <TagObject> [REASON, indication], <TagObject> [but, terminate]]\n",
      "[]\n",
      "\n",
      "(pneumonia, infiltrate)\n",
      "[<TagObject> [Reason, indication], <TagObject> [REASON, indication]]\n",
      "[]\n",
      "\n",
      "(infiltrate, infiltrate)\n",
      "[<TagObject> [Reason, indication], <TagObject> [REASON, indication], <TagObject> [but, terminate]]\n",
      "[(infiltrate, <TagObject> [Reason, indication])]\n",
      "\n",
      "(infiltrates, infiltrates, pneumonia)\n",
      "[<TagObject> [Reason, indication], <TagObject> [REASON, indication]]\n",
      "[(infiltrates, <TagObject> [Reason, indication])]\n",
      "\n",
      "()\n",
      "[<TagObject> [Reason, indication], <TagObject> [REASON, indication]]\n",
      "[]\n",
      "\n",
      "(Consolidation, pneumonia)\n",
      "[<TagObject> [Reason, indication], <TagObject> [REASON, indication]]\n",
      "[]\n",
      "\n",
      "(consolidation, consolidation, consolidation)\n",
      "[<TagObject> [Reason, indication], <TagObject> [REASON, indication]]\n",
      "[]\n",
      "\n",
      "(infiltrates,)\n",
      "[<TagObject> [Reason, indication], <TagObject> [but, terminate], <TagObject> [REASON, indication], <TagObject> [but, terminate], <TagObject> [no evidence of, definite_negated_existence], <TagObject> [but, terminate], <TagObject> [no evidence of, definite_negated_existence]]\n",
      "[(infiltrates, <TagObject> [no evidence of, definite_negated_existence])]\n",
      "\n",
      "(consolidation, consolidation, pneumonia)\n",
      "[<TagObject> [Reason, indication], <TagObject> [REASON, indication]]\n",
      "[]\n",
      "\n",
      "()\n",
      "[<TagObject> [Reason, indication], <TagObject> [REASON, indication], <TagObject> [no evidence of, definite_negated_existence]]\n",
      "[]\n",
      "\n",
      "()\n",
      "[<TagObject> [Reason, indication], <TagObject> [REASON, indication]]\n",
      "[]\n",
      "\n",
      "(pneumonia, pneumonia)\n",
      "[<TagObject> [Reason, indication], <TagObject> [REASON, indication]]\n",
      "[]\n",
      "\n",
      "()\n",
      "[<TagObject> [Reason, indication], <TagObject> [REASON, indication]]\n",
      "[]\n",
      "\n",
      "(pneumonia, pneumonia, pneumonia, consolidation, pneumonia)\n",
      "[<TagObject> [Reason, indication], <TagObject> [REASON, indication]]\n",
      "[(pneumonia, <TagObject> [Reason, indication])]\n",
      "\n",
      "(consolidation, infiltrate)\n",
      "[<TagObject> [Reason, indication], <TagObject> [REASON, indication]]\n",
      "[]\n",
      "\n",
      "(infiltrates, infiltrate, consolidation)\n",
      "[<TagObject> [Reason, indication], <TagObject> [REASON, indication]]\n",
      "[]\n",
      "\n",
      "(pneumonia, pneumonias, pneumonia)\n",
      "[<TagObject> [Reason, indication], <TagObject> [REASON, indication]]\n",
      "[]\n",
      "\n",
      "()\n",
      "[<TagObject> [Reason, indication], <TagObject> [REASON, indication]]\n",
      "[]\n",
      "\n",
      "(consolidation, consolidation)\n",
      "[<TagObject> [Reason, indication], <TagObject> [REASON, indication]]\n",
      "[]\n",
      "\n",
      "(pneumonia, pneumonia, consolidation, Consolidation)\n",
      "[<TagObject> [Reason, indication], <TagObject> [REASON, indication], <TagObject> [No evidence of, definite_negated_existence]]\n",
      "[]\n",
      "\n",
      "(consolidation, pneumonia)\n",
      "[<TagObject> [Reason, indication], <TagObject> [REASON, indication]]\n",
      "[]\n",
      "\n",
      "(infiltrate, infiltrate, infiltrate)\n",
      "[<TagObject> [Reason, indication], <TagObject> [REASON, indication], <TagObject> [no evidence of, definite_negated_existence]]\n",
      "[]\n",
      "\n",
      "()\n",
      "[<TagObject> [Reason, indication], <TagObject> [REASON, indication]]\n",
      "[]\n",
      "\n",
      "()\n",
      "[<TagObject> [Reason, indication], <TagObject> [REASON, indication]]\n",
      "[]\n",
      "\n",
      "()\n",
      "[<TagObject> [Reason, indication], <TagObject> [REASON, indication]]\n",
      "[]\n",
      "\n",
      "(pneumonia, pneumonia, pneumonia)\n",
      "[<TagObject> [Reason, indication], <TagObject> [REASON, indication]]\n",
      "[]\n",
      "\n",
      "()\n",
      "[<TagObject> [Reason, indication], <TagObject> [REASON, indication]]\n",
      "[]\n",
      "\n",
      "(infiltrate, infiltrate, pneumonia)\n",
      "[<TagObject> [Reason, indication], <TagObject> [REASON, indication], <TagObject> [no evidence of, definite_negated_existence], <TagObject> [No evidence of, definite_negated_existence]]\n",
      "[(infiltrate, <TagObject> [Reason, indication]), (infiltrate, <TagObject> [REASON, indication])]\n",
      "\n",
      "(pneumonia, pneumonia, pneumonia, infiltrates, pneumonia)\n",
      "[<TagObject> [Reason, indication], <TagObject> [REASON, indication]]\n",
      "[(pneumonia, <TagObject> [Reason, indication])]\n",
      "\n",
      "()\n",
      "[<TagObject> [Reason, indication], <TagObject> [REASON, indication]]\n",
      "[]\n",
      "\n",
      "(consolidation, consolidation)\n",
      "[<TagObject> [Reason, indication], <TagObject> [REASON, indication]]\n",
      "[(consolidation, <TagObject> [Reason, indication])]\n",
      "\n",
      "()\n",
      "[<TagObject> [Reason, indication], <TagObject> [REASON, indication], <TagObject> [but, terminate]]\n",
      "[]\n",
      "\n",
      "(consolidation, pneumonia)\n",
      "[<TagObject> [Reason, indication], <TagObject> [REASON, indication]]\n",
      "[]\n",
      "\n",
      "(pneumonia,)\n",
      "[<TagObject> [Reason, indication], <TagObject> [REASON, indication]]\n",
      "[]\n",
      "\n",
      "()\n",
      "[<TagObject> [Reason, indication], <TagObject> [REASON, indication]]\n",
      "[]\n",
      "\n",
      "(pneumonia,)\n",
      "[<TagObject> [Reason, indication], <TagObject> [REASON, indication]]\n",
      "[]\n",
      "\n",
      "()\n",
      "[<TagObject> [Reason, indication], <TagObject> [REASON, indication]]\n",
      "[]\n",
      "\n",
      "(infiltrate, pneumonias)\n",
      "[<TagObject> [Reason, indication], <TagObject> [REASON, indication]]\n",
      "[]\n",
      "\n",
      "(pneumonia, pneumonia, pneumonia, pneumonia, consolidation, pneumonia, pneumonia)\n",
      "[<TagObject> [Reason, indication], <TagObject> [REASON, indication], <TagObject> [No evidence of, definite_negated_existence]]\n",
      "[(pneumonia, <TagObject> [Reason, indication]), (pneumonia, <TagObject> [REASON, indication])]\n",
      "\n",
      "()\n",
      "[<TagObject> [Reason, indication], <TagObject> [REASON, indication], <TagObject> [no evidence of, definite_negated_existence]]\n",
      "[]\n",
      "\n",
      "()\n",
      "[<TagObject> [Reason, indication], <TagObject> [REASON, indication], <TagObject> [REASON, indication]]\n",
      "[]\n",
      "\n",
      "(Pneumonia, Pneumonia, pneumonia, infiltrate, pneumonia, pneumonia)\n",
      "[<TagObject> [Reason, indication], <TagObject> [REASON, indication]]\n",
      "[(Pneumonia, <TagObject> [Reason, indication])]\n",
      "\n",
      "()\n",
      "[<TagObject> [Reason, indication], <TagObject> [REASON, indication]]\n",
      "[]\n",
      "\n",
      "(pneumonia, pneumonia, pneumonia, pneumonia, consolidation, pneumonia)\n",
      "[<TagObject> [Reason, indication], <TagObject> [REASON, indication]]\n",
      "[(pneumonia, <TagObject> [Reason, indication]), (pneumonia, <TagObject> [REASON, indication])]\n",
      "\n",
      "(infiltrate, infiltrate, infiltrate, Pneumonia)\n",
      "[<TagObject> [Reason, indication], <TagObject> [REASON, indication]]\n",
      "[(infiltrate, <TagObject> [Reason, indication])]\n",
      "\n",
      "()\n",
      "[<TagObject> [Reason, indication], <TagObject> [REASON, indication]]\n",
      "[]\n",
      "\n",
      "()\n",
      "[<TagObject> [Reason, indication], <TagObject> [REASON, indication]]\n",
      "[]\n",
      "\n",
      "(infiltrate, infiltrate, consolidation, consolidation, infiltrate, infiltrate, infiltrate)\n",
      "[<TagObject> [Reason, indication], <TagObject> [REASON, indication], <TagObject> [but, terminate]]\n",
      "[(infiltrate, <TagObject> [Reason, indication])]\n",
      "\n",
      "(pneumonia, pneumonia, pneumonia, pneumonia, pneumonia)\n",
      "[<TagObject> [Reason, indication], <TagObject> [REASON, indication], <TagObject> [no evidence of, definite_negated_existence]]\n",
      "[(pneumonia, <TagObject> [Reason, indication]), (pneumonia, <TagObject> [REASON, indication]), (pneumonia, <TagObject> [no evidence of, definite_negated_existence])]\n",
      "\n",
      "()\n",
      "[<TagObject> [Reason, indication], <TagObject> [REASON, indication]]\n",
      "[]\n",
      "\n",
      "(infiltrate, pneumonia)\n",
      "[<TagObject> [Reason, indication], <TagObject> [REASON, indication], <TagObject> [no evidence of, definite_negated_existence], <TagObject> [No evidence of, definite_negated_existence]]\n",
      "[(infiltrate, <TagObject> [no evidence of, definite_negated_existence]), (pneumonia, <TagObject> [No evidence of, definite_negated_existence])]\n",
      "\n",
      "(pneumonia, pneumonia)\n",
      "[<TagObject> [Reason, indication], <TagObject> [REASON, indication]]\n",
      "[]\n",
      "\n",
      "()\n",
      "[<TagObject> [Reason, indication], <TagObject> [REASON, indication]]\n",
      "[]\n",
      "\n",
      "()\n",
      "[<TagObject> [Reason, indication], <TagObject> [REASON, indication]]\n",
      "[]\n",
      "\n",
      "(infiltrates, consolidation, pneumonia)\n",
      "[<TagObject> [Reason, indication], <TagObject> [REASON, indication]]\n",
      "[]\n",
      "\n",
      "()\n",
      "[<TagObject> [Reason, indication], <TagObject> [REASON, indication]]\n",
      "[]\n",
      "\n"
     ]
    }
   ],
   "source": [
    "for doc in docs:\n",
    "    print(doc.ents)\n",
    "    print(doc._.context_graph.modifiers)\n",
    "    print(doc._.context_graph.edges)\n",
    "    print()"
   ]
  },
  {
   "cell_type": "code",
   "execution_count": 57,
   "metadata": {},
   "outputs": [],
   "source": [
    "pos_docs = [doc for doc in docs if len(doc.ents) > 0]"
   ]
  },
  {
   "cell_type": "code",
   "execution_count": null,
   "metadata": {},
   "outputs": [],
   "source": []
  },
  {
   "cell_type": "markdown",
   "metadata": {},
   "source": [
    "# Visualization"
   ]
  },
  {
   "cell_type": "code",
   "execution_count": 225,
   "metadata": {},
   "outputs": [],
   "source": [
    "from cycontext import viz"
   ]
  },
  {
   "cell_type": "code",
   "execution_count": 226,
   "metadata": {},
   "outputs": [],
   "source": [
    "from spacy import displacy"
   ]
  },
  {
   "cell_type": "code",
   "execution_count": 241,
   "metadata": {},
   "outputs": [],
   "source": [
    "doc = docs[8]"
   ]
  },
  {
   "cell_type": "code",
   "execution_count": 242,
   "metadata": {
    "scrolled": true
   },
   "outputs": [
    {
     "data": {
      "text/html": [
       "<div class=\"entities\" style=\"line-height: 2.5; direction: ltr\"></br></br></br>     DATE: [**2834-4-20**] 12:13 PM</br>     CHEST (PORTABLE AP)                                             Clip # [**Clip Number (Radiology) 9649**]</br>     Reason: \n",
       "<mark class=\"entity\" style=\"background: orange; padding: 0.45em 0.6em; margin: 0 0.25em; line-height: 1; border-radius: 0.35em;\">\n",
       "    infiltrate\n",
       "    <span style=\"font-size: 0.8em; font-weight: bold; line-height: 1; border-radius: 0.35em; text-transform: uppercase; vertical-align: middle; margin-left: 0.5rem\">EVIDENCE_OF_PNEUMONIA</span>\n",
       "</mark>\n",
       "                                                  </br>     ______________________________________________________________________________</br>     UNDERLYING MEDICAL CONDITION:</br>      85 year old woman with lethargy, rhonchi                                        </br>     REASON FOR THIS EXAMINATION:</br>      \n",
       "<mark class=\"entity\" style=\"background: orange; padding: 0.45em 0.6em; margin: 0 0.25em; line-height: 1; border-radius: 0.35em;\">\n",
       "    infiltrate\n",
       "    <span style=\"font-size: 0.8em; font-weight: bold; line-height: 1; border-radius: 0.35em; text-transform: uppercase; vertical-align: middle; margin-left: 0.5rem\">EVIDENCE_OF_PNEUMONIA</span>\n",
       "</mark>\n",
       "                                                                      </br>     ______________________________________________________________________________</br>                                     FINAL REPORT</br>     AP PORTABLE CHEST, [**2834-4-20**] AT 12:17 P.M.</br>     </br>     HISTORY:  Lethargy.</br>     </br>     COMPARISON:  [**2832-12-15**].</br>     </br>     FINDINGS:  Please note, the patient could not hold still for film per</br>     technologist.</br>     </br>     A pacemaker overlies the right perihilar region with two contiguous leads</br>     overlying the expected location of the right atrium and right ventricle.  Lung</br>     volumes are markedly diminished.  The patient's chin overlies the lung apices.</br>     The heart is massively enlarged but stable.  There is blunting of the right</br>     costophrenic angle likely due to a small effusion.  Left effusion also cannot</br>     be excluded.  There is retrocardiac opacity, likely atelectasis, although an</br>     early developing \n",
       "<mark class=\"entity\" style=\"background: orange; padding: 0.45em 0.6em; margin: 0 0.25em; line-height: 1; border-radius: 0.35em;\">\n",
       "    pneumonia\n",
       "    <span style=\"font-size: 0.8em; font-weight: bold; line-height: 1; border-radius: 0.35em; text-transform: uppercase; vertical-align: middle; margin-left: 0.5rem\">EVIDENCE_OF_PNEUMONIA</span>\n",
       "</mark>\n",
       " cannot be excluded.  No definite edema is seen.</br>     </br>     IMPRESSION:  Markedly limited examination due to multiple factors as above. No</br>     definite \n",
       "<mark class=\"entity\" style=\"background: orange; padding: 0.45em 0.6em; margin: 0 0.25em; line-height: 1; border-radius: 0.35em;\">\n",
       "    consolidation\n",
       "    <span style=\"font-size: 0.8em; font-weight: bold; line-height: 1; border-radius: 0.35em; text-transform: uppercase; vertical-align: middle; margin-left: 0.5rem\">EVIDENCE_OF_PNEUMONIA</span>\n",
       "</mark>\n",
       ", although there is minimal retrocardiac opacity which\n",
       "     may be atelectasis.  Right pleural effusion.  Question small pleural effusion.\n",
       "     Massive but stable cardiomegaly.\n",
       "\n",
       "</div>"
      ],
      "text/plain": [
       "<IPython.core.display.HTML object>"
      ]
     },
     "metadata": {},
     "output_type": "display_data"
    }
   ],
   "source": [
    "viz.visualize_targets(doc\n",
    "                     , colors ={\"EVIDENCE_OF_PNEUMONIA\": \"orange\",\n",
    "                                          \"DEFINITE_NEGATED_EXISTENCE\": \"blue\"})"
   ]
  },
  {
   "cell_type": "code",
   "execution_count": 190,
   "metadata": {},
   "outputs": [
    {
     "data": {
      "text/html": [
       "<svg xmlns=\"http://www.w3.org/2000/svg\" xmlns:xlink=\"http://www.w3.org/1999/xlink\" xml:lang=\"en\" id=\"0e17f77ac6994dcb90809fb271b4a2a4-0\" class=\"displacy\" width=\"400\" height=\"224.5\" direction=\"ltr\" style=\"max-width: none; height: 224.5px; color: #000000; background: #ffffff; font-family: Arial; direction: ltr\">\n",
       "<text class=\"displacy-token\" fill=\"currentColor\" text-anchor=\"middle\" y=\"134.5\">\n",
       "    <tspan class=\"displacy-word\" fill=\"currentColor\" x=\"50\">pneumonia</tspan>\n",
       "    <tspan class=\"displacy-tag\" dy=\"2em\" fill=\"currentColor\" x=\"50\">EVIDENCE_OF_PNEUMONIA</tspan>\n",
       "</text>\n",
       "\n",
       "<text class=\"displacy-token\" fill=\"currentColor\" text-anchor=\"middle\" y=\"134.5\">\n",
       "    <tspan class=\"displacy-word\" fill=\"currentColor\" x=\"225\">examination</tspan>\n",
       "    <tspan class=\"displacy-tag\" dy=\"2em\" fill=\"currentColor\" x=\"225\"></tspan>\n",
       "</text>\n",
       "\n",
       "<g class=\"displacy-arrow\">\n",
       "    <path class=\"displacy-arc\" id=\"arrow-0e17f77ac6994dcb90809fb271b4a2a4-0-0\" stroke-width=\"2px\" d=\"M70,89.5 C70,2.0 225.0,2.0 225.0,89.5\" fill=\"none\" stroke=\"currentColor\"/>\n",
       "    <text dy=\"1.25em\" style=\"font-size: 0.8em; letter-spacing: 1px\">\n",
       "        <textPath xlink:href=\"#arrow-0e17f77ac6994dcb90809fb271b4a2a4-0-0\" class=\"displacy-label\" startOffset=\"50%\" side=\"left\" fill=\"currentColor\" text-anchor=\"middle\">indication</textPath>\n",
       "    </text>\n",
       "    <path class=\"displacy-arrowhead\" d=\"M70,91.5 L62,79.5 78,79.5\" fill=\"currentColor\"/>\n",
       "</g>\n",
       "</svg>"
      ],
      "text/plain": [
       "<IPython.core.display.HTML object>"
      ]
     },
     "metadata": {},
     "output_type": "display_data"
    }
   ],
   "source": [
    "viz.visualize_modifiers(doc)"
   ]
  },
  {
   "cell_type": "code",
   "execution_count": null,
   "metadata": {},
   "outputs": [],
   "source": []
  }
 ],
 "metadata": {
  "kernelspec": {
   "display_name": "Python 3",
   "language": "python",
   "name": "python3"
  },
  "language_info": {
   "codemirror_mode": {
    "name": "ipython",
    "version": 3
   },
   "file_extension": ".py",
   "mimetype": "text/x-python",
   "name": "python",
   "nbconvert_exporter": "python",
   "pygments_lexer": "ipython3",
   "version": "3.7.3"
  }
 },
 "nbformat": 4,
 "nbformat_minor": 2
}

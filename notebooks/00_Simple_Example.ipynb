{
 "cells": [
  {
   "cell_type": "code",
   "execution_count": 1,
   "metadata": {},
   "outputs": [],
   "source": [
    "import spacy\n",
    "\n",
    "from cycontext import ConTextComponent, ConTextItem"
   ]
  },
  {
   "cell_type": "markdown",
   "metadata": {},
   "source": [
    "# Clinical Text and Target Concepts\n",
    "We'll start by defining a short, simple clinical texts for our use case. This text contains a target clinical concept: **\"pneumonia\"** and contextual information which needs to be extracted: **\"There is no evidence\"**."
   ]
  },
  {
   "cell_type": "code",
   "execution_count": 2,
   "metadata": {},
   "outputs": [],
   "source": [
    "nlp = spacy.load(\"en_core_web_sm\")"
   ]
  },
  {
   "cell_type": "code",
   "execution_count": 3,
   "metadata": {},
   "outputs": [],
   "source": [
    "text = \"There is no evidence of pneumonia.\""
   ]
  },
  {
   "cell_type": "code",
   "execution_count": 4,
   "metadata": {},
   "outputs": [],
   "source": [
    "doc = nlp(text)"
   ]
  },
  {
   "cell_type": "markdown",
   "metadata": {},
   "source": [
    "Target concepts should be stored as document spans in the attribute `Doc.ents`. For now, we'll manually define this span."
   ]
  },
  {
   "cell_type": "code",
   "execution_count": 5,
   "metadata": {},
   "outputs": [],
   "source": [
    "from spacy.tokens import Span"
   ]
  },
  {
   "cell_type": "code",
   "execution_count": 6,
   "metadata": {},
   "outputs": [],
   "source": [
    "doc.ents = (Span(doc, 5, 6, label=\"EVIDENCE_OF_PNEUMONIA\"),)"
   ]
  },
  {
   "cell_type": "code",
   "execution_count": 7,
   "metadata": {},
   "outputs": [
    {
     "data": {
      "text/plain": [
       "(pneumonia,)"
      ]
     },
     "execution_count": 7,
     "metadata": {},
     "output_type": "execute_result"
    }
   ],
   "source": [
    "doc.ents"
   ]
  },
  {
   "cell_type": "code",
   "execution_count": 13,
   "metadata": {},
   "outputs": [],
   "source": [
    "context = ConTextComponent(nlp, rules=\"default\")"
   ]
  },
  {
   "cell_type": "code",
   "execution_count": 14,
   "metadata": {},
   "outputs": [
    {
     "data": {
      "text/plain": [
       "[ConTextItem(literal='absence of', category='NEG', pattern=None, rule='FORWARD'),\n",
       " ConTextItem(literal='adequate to rule her out', category='NEG', pattern=None, rule='FORWARD'),\n",
       " ConTextItem(literal='adequate to rule him out', category='NEG', pattern=None, rule='FORWARD'),\n",
       " ConTextItem(literal='adequate to rule out', category='NEG', pattern=None, rule='FORWARD'),\n",
       " ConTextItem(literal='adequate to rule the patient out', category='NEG', pattern=None, rule='FORWARD'),\n",
       " ConTextItem(literal='although', category='NEG', pattern=None, rule='TERMINATE'),\n",
       " ConTextItem(literal='any other', category='NEG', pattern=None, rule='FORWARD'),\n",
       " ConTextItem(literal='apart from', category='NEG', pattern=None, rule='TERMINATE'),\n",
       " ConTextItem(literal='are negative', category='NEG', pattern=None, rule='BACKWARD'),\n",
       " ConTextItem(literal='are ruled out', category='NEG', pattern=None, rule='BACKWARD'),\n",
       " ConTextItem(literal='as a cause for', category='NEG', pattern=None, rule='TERMINATE'),\n",
       " ConTextItem(literal='as a cause of', category='NEG', pattern=None, rule='TERMINATE'),\n",
       " ConTextItem(literal='as a etiology for', category='NEG', pattern=None, rule='TERMINATE'),\n",
       " ConTextItem(literal='as a etiology of', category='NEG', pattern=None, rule='TERMINATE'),\n",
       " ConTextItem(literal='as a reason for', category='NEG', pattern=None, rule='TERMINATE'),\n",
       " ConTextItem(literal='as a reason of', category='NEG', pattern=None, rule='TERMINATE'),\n",
       " ConTextItem(literal='as a secondary cause for', category='NEG', pattern=None, rule='TERMINATE'),\n",
       " ConTextItem(literal='as a secondary cause of', category='NEG', pattern=None, rule='TERMINATE'),\n",
       " ConTextItem(literal='as a secondary etiology for', category='NEG', pattern=None, rule='TERMINATE'),\n",
       " ConTextItem(literal='as a secondary etiology of', category='NEG', pattern=None, rule='TERMINATE'),\n",
       " ConTextItem(literal='as a secondary origin for', category='NEG', pattern=None, rule='TERMINATE'),\n",
       " ConTextItem(literal='as a secondary origin of', category='NEG', pattern=None, rule='TERMINATE'),\n",
       " ConTextItem(literal='as a secondary reason for', category='NEG', pattern=None, rule='TERMINATE'),\n",
       " ConTextItem(literal='as a secondary reason of', category='NEG', pattern=None, rule='TERMINATE'),\n",
       " ConTextItem(literal='as a secondary source for', category='NEG', pattern=None, rule='TERMINATE'),\n",
       " ConTextItem(literal='as a secondary source of', category='NEG', pattern=None, rule='TERMINATE'),\n",
       " ConTextItem(literal='as a source for', category='NEG', pattern=None, rule='TERMINATE'),\n",
       " ConTextItem(literal='as a source of', category='NEG', pattern=None, rule='TERMINATE'),\n",
       " ConTextItem(literal='as an cause for', category='NEG', pattern=None, rule='TERMINATE'),\n",
       " ConTextItem(literal='as an cause of', category='NEG', pattern=None, rule='TERMINATE'),\n",
       " ConTextItem(literal='as an etiology for', category='NEG', pattern=None, rule='TERMINATE'),\n",
       " ConTextItem(literal='as an etiology of', category='NEG', pattern=None, rule='TERMINATE'),\n",
       " ConTextItem(literal='as an origin for', category='NEG', pattern=None, rule='TERMINATE'),\n",
       " ConTextItem(literal='as an origin of', category='NEG', pattern=None, rule='TERMINATE'),\n",
       " ConTextItem(literal='as an reason for', category='NEG', pattern=None, rule='TERMINATE'),\n",
       " ConTextItem(literal='as an reason of', category='NEG', pattern=None, rule='TERMINATE'),\n",
       " ConTextItem(literal='as an secondary cause for', category='NEG', pattern=None, rule='TERMINATE'),\n",
       " ConTextItem(literal='as an secondary cause of', category='NEG', pattern=None, rule='TERMINATE'),\n",
       " ConTextItem(literal='as an secondary etiology for', category='NEG', pattern=None, rule='TERMINATE'),\n",
       " ConTextItem(literal='as an secondary etiology of', category='NEG', pattern=None, rule='TERMINATE'),\n",
       " ConTextItem(literal='as an secondary origin for', category='NEG', pattern=None, rule='TERMINATE'),\n",
       " ConTextItem(literal='as an secondary origin of', category='NEG', pattern=None, rule='TERMINATE'),\n",
       " ConTextItem(literal='as an secondary reason for', category='NEG', pattern=None, rule='TERMINATE'),\n",
       " ConTextItem(literal='as an secondary reason of', category='NEG', pattern=None, rule='TERMINATE'),\n",
       " ConTextItem(literal='as an secondary source for', category='NEG', pattern=None, rule='TERMINATE'),\n",
       " ConTextItem(literal='as an secondary source of', category='NEG', pattern=None, rule='TERMINATE'),\n",
       " ConTextItem(literal='as an source for', category='NEG', pattern=None, rule='TERMINATE'),\n",
       " ConTextItem(literal='as an source of', category='NEG', pattern=None, rule='TERMINATE'),\n",
       " ConTextItem(literal='as has', category='NEG', pattern=None, rule='TERMINATE'),\n",
       " ConTextItem(literal='as needed', category='HYPO', pattern=None, rule='FORWARD'),\n",
       " ConTextItem(literal='as the cause for', category='NEG', pattern=None, rule='TERMINATE'),\n",
       " ConTextItem(literal='as the cause of', category='NEG', pattern=None, rule='TERMINATE'),\n",
       " ConTextItem(literal='as the etiology for', category='NEG', pattern=None, rule='TERMINATE'),\n",
       " ConTextItem(literal='as the etiology of', category='NEG', pattern=None, rule='TERMINATE'),\n",
       " ConTextItem(literal='as the origin for', category='NEG', pattern=None, rule='TERMINATE'),\n",
       " ConTextItem(literal='as the origin of', category='NEG', pattern=None, rule='TERMINATE'),\n",
       " ConTextItem(literal='as the reason for', category='NEG', pattern=None, rule='TERMINATE'),\n",
       " ConTextItem(literal='as the reason of', category='NEG', pattern=None, rule='TERMINATE'),\n",
       " ConTextItem(literal='as the secondary cause for', category='NEG', pattern=None, rule='TERMINATE'),\n",
       " ConTextItem(literal='as the secondary cause of', category='NEG', pattern=None, rule='TERMINATE'),\n",
       " ConTextItem(literal='as the secondary etiology for', category='NEG', pattern=None, rule='TERMINATE'),\n",
       " ConTextItem(literal='as the secondary etiology of', category='NEG', pattern=None, rule='TERMINATE'),\n",
       " ConTextItem(literal='as the secondary origin for', category='NEG', pattern=None, rule='TERMINATE'),\n",
       " ConTextItem(literal='as the secondary origin of', category='NEG', pattern=None, rule='TERMINATE'),\n",
       " ConTextItem(literal='as the secondary reason for', category='NEG', pattern=None, rule='TERMINATE'),\n",
       " ConTextItem(literal='as the secondary reason of', category='NEG', pattern=None, rule='TERMINATE'),\n",
       " ConTextItem(literal='as the secondary source for', category='NEG', pattern=None, rule='TERMINATE'),\n",
       " ConTextItem(literal='as the secondary source of', category='NEG', pattern=None, rule='TERMINATE'),\n",
       " ConTextItem(literal='as the source for', category='NEG', pattern=None, rule='TERMINATE'),\n",
       " ConTextItem(literal='as the source of', category='NEG', pattern=None, rule='TERMINATE'),\n",
       " ConTextItem(literal='as well as any', category='NEG', pattern=None, rule='FORWARD'),\n",
       " ConTextItem(literal='aside from', category='NEG', pattern=None, rule='TERMINATE'),\n",
       " ConTextItem(literal='aunt', category='EXP', pattern=None, rule='FORWARD'),\n",
       " ConTextItem(literal='aunt's', category='EXP', pattern=None, rule='FORWARD'),\n",
       " ConTextItem(literal='be ruled out', category='POSS', pattern=None, rule='BACKWARD'),\n",
       " ConTextItem(literal='be ruled out for', category='POSS', pattern=None, rule='FORWARD'),\n",
       " ConTextItem(literal='because', category='HYPO', pattern=None, rule='TERMINATE'),\n",
       " ConTextItem(literal='being ruled out', category='POSS', pattern=None, rule='BACKWARD'),\n",
       " ConTextItem(literal='brother', category='EXP', pattern=None, rule='FORWARD'),\n",
       " ConTextItem(literal='brother's', category='EXP', pattern=None, rule='FORWARD'),\n",
       " ConTextItem(literal='but', category='NEG', pattern=None, rule='TERMINATE'),\n",
       " ConTextItem(literal='can be ruled out', category='POSS', pattern=None, rule='BACKWARD'),\n",
       " ConTextItem(literal='can be ruled out for', category='POSS', pattern=None, rule='FORWARD'),\n",
       " ConTextItem(literal='can rule her out', category='NEG', pattern=None, rule='FORWARD'),\n",
       " ConTextItem(literal='can rule her out against', category='NEG', pattern=None, rule='FORWARD'),\n",
       " ConTextItem(literal='can rule her out for', category='NEG', pattern=None, rule='FORWARD'),\n",
       " ConTextItem(literal='can rule him out', category='NEG', pattern=None, rule='FORWARD'),\n",
       " ConTextItem(literal='can rule him out against', category='NEG', pattern=None, rule='FORWARD'),\n",
       " ConTextItem(literal='can rule him out for', category='NEG', pattern=None, rule='FORWARD'),\n",
       " ConTextItem(literal='can rule out', category='NEG', pattern=None, rule='FORWARD'),\n",
       " ConTextItem(literal='can rule out against', category='NEG', pattern=None, rule='FORWARD'),\n",
       " ConTextItem(literal='can rule out for', category='NEG', pattern=None, rule='FORWARD'),\n",
       " ConTextItem(literal='can rule the patient out', category='NEG', pattern=None, rule='FORWARD'),\n",
       " ConTextItem(literal='can rule the patinet out against', category='NEG', pattern=None, rule='FORWARD'),\n",
       " ConTextItem(literal='can rule the patinet out for', category='NEG', pattern=None, rule='FORWARD'),\n",
       " ConTextItem(literal='cannot', category='NEG', pattern=None, rule='FORWARD'),\n",
       " ConTextItem(literal='cause for', category='NEG', pattern=None, rule='TERMINATE'),\n",
       " ConTextItem(literal='cause of', category='NEG', pattern=None, rule='TERMINATE'),\n",
       " ConTextItem(literal='causes for', category='NEG', pattern=None, rule='TERMINATE'),\n",
       " ConTextItem(literal='causes of', category='NEG', pattern=None, rule='TERMINATE'),\n",
       " ConTextItem(literal='checked for', category='NEG', pattern=None, rule='FORWARD'),\n",
       " ConTextItem(literal='clear of', category='NEG', pattern=None, rule='FORWARD'),\n",
       " ConTextItem(literal='come back for', category='HYPO', pattern=None, rule='FORWARD'),\n",
       " ConTextItem(literal='come back to', category='HYPO', pattern=None, rule='FORWARD'),\n",
       " ConTextItem(literal='complains', category='HISTEXP', pattern=None, rule='TERMINATE'),\n",
       " ConTextItem(literal='concerned about', category='POSS', pattern=None, rule='FORWARD'),\n",
       " ConTextItem(literal='concerning for', category='POSS', pattern=None, rule='FORWARD'),\n",
       " ConTextItem(literal='could be ruled out', category='POSS', pattern=None, rule='BACKWARD'),\n",
       " ConTextItem(literal='could be ruled out for', category='POSS', pattern=None, rule='FORWARD'),\n",
       " ConTextItem(literal='currently', category='HISTEXP', pattern=None, rule='TERMINATE'),\n",
       " ConTextItem(literal='dad', category='EXP', pattern=None, rule='FORWARD'),\n",
       " ConTextItem(literal='dad's', category='EXP', pattern=None, rule='FORWARD'),\n",
       " ConTextItem(literal='daughter', category='EXP', pattern=None, rule='FORWARD'),\n",
       " ConTextItem(literal='declined', category='NEG', pattern=None, rule='FORWARD'),\n",
       " ConTextItem(literal='declines', category='NEG', pattern=None, rule='FORWARD'),\n",
       " ConTextItem(literal='denied', category='NEG', pattern=None, rule='FORWARD'),\n",
       " ConTextItem(literal='denies', category='NEG', pattern=None, rule='FORWARD'),\n",
       " ConTextItem(literal='denying', category='NEG', pattern=None, rule='FORWARD'),\n",
       " ConTextItem(literal='did not rule out', category='POSS', pattern=None, rule='BACKWARD'),\n",
       " ConTextItem(literal='did rule her out', category='NEG', pattern=None, rule='FORWARD'),\n",
       " ConTextItem(literal='did rule her out against', category='NEG', pattern=None, rule='FORWARD'),\n",
       " ConTextItem(literal='did rule her out for', category='NEG', pattern=None, rule='FORWARD'),\n",
       " ConTextItem(literal='did rule him out', category='NEG', pattern=None, rule='FORWARD'),\n",
       " ConTextItem(literal='did rule him out against', category='NEG', pattern=None, rule='FORWARD'),\n",
       " ConTextItem(literal='did rule him out for', category='NEG', pattern=None, rule='FORWARD'),\n",
       " ConTextItem(literal='did rule out', category='NEG', pattern=None, rule='FORWARD'),\n",
       " ConTextItem(literal='did rule out against', category='NEG', pattern=None, rule='FORWARD'),\n",
       " ConTextItem(literal='did rule out for', category='NEG', pattern=None, rule='FORWARD'),\n",
       " ConTextItem(literal='did rule the patient out', category='NEG', pattern=None, rule='FORWARD'),\n",
       " ConTextItem(literal='did rule the patient out against', category='NEG', pattern=None, rule='FORWARD'),\n",
       " ConTextItem(literal='did rule the patient out for', category='NEG', pattern=None, rule='FORWARD'),\n",
       " ConTextItem(literal='doesn't look like', category='NEG', pattern=None, rule='FORWARD'),\n",
       " ConTextItem(literal='doubt', category='POSS', pattern=None, rule='FORWARD'),\n",
       " ConTextItem(literal='ed', category='HIST', pattern=None, rule='TERMINATE'),\n",
       " ConTextItem(literal='emergency department', category='HIST', pattern=None, rule='TERMINATE'),\n",
       " ConTextItem(literal='etiology for', category='NEG', pattern=None, rule='TERMINATE'),\n",
       " ConTextItem(literal='etiology of', category='NEG', pattern=None, rule='TERMINATE'),\n",
       " ConTextItem(literal='evaluate for', category='NEG', pattern=None, rule='FORWARD'),\n",
       " ConTextItem(literal='except', category='NEG', pattern=None, rule='TERMINATE'),\n",
       " ConTextItem(literal='fails to reveal', category='NEG', pattern=None, rule='FORWARD'),\n",
       " ConTextItem(literal='family', category='EXP', pattern=None, rule='FORWARD'),\n",
       " ConTextItem(literal='fam hx', category='EXP', pattern=None, rule='FORWARD'),\n",
       " ConTextItem(literal='father', category='EXP', pattern=None, rule='FORWARD'),\n",
       " ConTextItem(literal='father's', category='EXP', pattern=None, rule='FORWARD'),\n",
       " ConTextItem(literal='free', category='NEG', pattern=None, rule='BACKWARD'),\n",
       " ConTextItem(literal='free of', category='NEG', pattern=None, rule='FORWARD'),\n",
       " ConTextItem(literal='grandfather', category='EXP', pattern=None, rule='FORWARD'),\n",
       " ConTextItem(literal='grandfather's', category='EXP', pattern=None, rule='FORWARD'),\n",
       " ConTextItem(literal='grandmother', category='EXP', pattern=None, rule='FORWARD'),\n",
       " ConTextItem(literal='grandmother's', category='EXP', pattern=None, rule='FORWARD'),\n",
       " ConTextItem(literal='has been negative', category='NEG', pattern=None, rule='BACKWARD'),\n",
       " ConTextItem(literal='has been ruled out', category='NEG', pattern=None, rule='BACKWARD'),\n",
       " ConTextItem(literal='have been ruled out', category='NEG', pattern=None, rule='BACKWARD'),\n",
       " ConTextItem(literal='her', category='HYPOEXP', pattern=None, rule='TERMINATE'),\n",
       " ConTextItem(literal='his', category='HYPOEXP', pattern=None, rule='TERMINATE'),\n",
       " ConTextItem(literal='history', category='HIST', pattern=None, rule='FORWARD'),\n",
       " ConTextItem(literal='however', category='NEG', pattern=None, rule='TERMINATE'),\n",
       " ConTextItem(literal='h/o', category='HIST', pattern=None, rule='FORWARD'),\n",
       " ConTextItem(literal='ho', category='HIST', pattern=None, rule='FORWARD'),\n",
       " ConTextItem(literal='hx', category='HIST', pattern=None, rule='FORWARD'),\n",
       " ConTextItem(literal='if', category='HYPO', pattern=None, rule='FORWARD'),\n",
       " ConTextItem(literal='inconsistent with', category='NEG', pattern=None, rule='FORWARD'),\n",
       " ConTextItem(literal='is not', category='NEG', pattern=None, rule='FORWARD'),\n",
       " ConTextItem(literal='is ruled out', category='NEG', pattern=None, rule='BACKWARD'),\n",
       " ConTextItem(literal='is to be ruled out', category='POSS', pattern=None, rule='BACKWARD'),\n",
       " ConTextItem(literal='is to be ruled out for', category='POSS', pattern=None, rule='FORWARD'),\n",
       " ConTextItem(literal='is negative', category='NEG', pattern=None, rule='BACKWARD'),\n",
       " ConTextItem(literal='is neg', category='NEG', pattern=None, rule='BACKWARD'),\n",
       " ConTextItem(literal='isn't', category='NEG', pattern=None, rule='FORWARD'),\n",
       " ConTextItem(literal='lack of', category='NEG', pattern=None, rule='FORWARD'),\n",
       " ConTextItem(literal='lacked', category='NEG', pattern=None, rule='FORWARD'),\n",
       " ConTextItem(literal='likely', category='POSS', pattern=None, rule='FORWARD'),\n",
       " ConTextItem(literal='may be ruled out', category='POSS', pattern=None, rule='BACKWARD'),\n",
       " ConTextItem(literal='may be ruled out for', category='POSS', pattern=None, rule='FORWARD'),\n",
       " ConTextItem(literal='might be', category='POSS', pattern=None, rule='FORWARD'),\n",
       " ConTextItem(literal='might be ruled out', category='POSS', pattern=None, rule='BACKWARD'),\n",
       " ConTextItem(literal='might be ruled out for', category='POSS', pattern=None, rule='FORWARD'),\n",
       " ConTextItem(literal='mom', category='EXP', pattern=None, rule='FORWARD'),\n",
       " ConTextItem(literal='mom's', category='EXP', pattern=None, rule='FORWARD'),\n",
       " ConTextItem(literal='mother', category='EXP', pattern=None, rule='FORWARD'),\n",
       " ConTextItem(literal='mother's', category='EXP', pattern=None, rule='FORWARD'),\n",
       " ConTextItem(literal='must be ruled out', category='POSS', pattern=None, rule='BACKWARD'),\n",
       " ConTextItem(literal='must be ruled out for', category='POSS', pattern=None, rule='FORWARD'),\n",
       " ConTextItem(literal='negative for', category='NEG', pattern=None, rule='FORWARD'),\n",
       " ConTextItem(literal='never developed', category='NEG', pattern=None, rule='FORWARD'),\n",
       " ConTextItem(literal='never had', category='NEG', pattern=None, rule='FORWARD'),\n",
       " ConTextItem(literal='nevertheless', category='NEG', pattern=None, rule='TERMINATE'),\n",
       " ConTextItem(literal='no abnormal', category='NEG', pattern=None, rule='FORWARD'),\n",
       " ConTextItem(literal='no cause of', category='NEG', pattern=None, rule='FORWARD'),\n",
       " ConTextItem(literal='no complaints of', category='NEG', pattern=None, rule='FORWARD'),\n",
       " ConTextItem(literal='no findings of', category='NEG', pattern=None, rule='FORWARD'),\n",
       " ConTextItem(literal='no findings to indicate', category='NEG', pattern=None, rule='FORWARD'),\n",
       " ConTextItem(literal='no history of', category='NEG', pattern=None, rule='FORWARD'),\n",
       " ConTextItem(literal='no longer present', category='NEG', pattern=None, rule='BACKWARD'),\n",
       " ConTextItem(literal='no mammographic evidence of', category='NEG', pattern=None, rule='FORWARD'),\n",
       " ConTextItem(literal='no new', category='NEG', pattern=None, rule='FORWARD'),\n",
       " ConTextItem(literal='no new evidence', category='NEG', pattern=None, rule='FORWARD'),\n",
       " ConTextItem(literal='no other evidence', category='NEG', pattern=None, rule='FORWARD'),\n",
       " ConTextItem(literal='no radiographic evidence of', category='NEG', pattern=None, rule='FORWARD'),\n",
       " ConTextItem(literal='no sign( of)?', category='NEG', pattern=None, rule='FORWARD'),\n",
       " ConTextItem(literal='no significant', category='NEG', pattern=None, rule='FORWARD'),\n",
       " ConTextItem(literal='no signs of', category='NEG', pattern=None, rule='FORWARD'),\n",
       " ConTextItem(literal='no suggestion of', category='NEG', pattern=None, rule='FORWARD'),\n",
       " ConTextItem(literal='no suspicious', category='NEG', pattern=None, rule='FORWARD'),\n",
       " ConTextItem(literal='non diagnostic', category='NEG', pattern=None, rule='BACKWARD'),\n",
       " ConTextItem(literal='not', category='NEG', pattern=None, rule='FORWARD'),\n",
       " ConTextItem(literal='not appear', category='NEG', pattern=None, rule='FORWARD'),\n",
       " ConTextItem(literal='not appreciate', category='NEG', pattern=None, rule='FORWARD'),\n",
       " ConTextItem(literal='not associated with', category='NEG', pattern=None, rule='FORWARD'),\n",
       " ConTextItem(literal='not been ruled out', category='POSS', pattern=None, rule='BACKWARD'),\n",
       " ConTextItem(literal='not complain of', category='NEG', pattern=None, rule='FORWARD'),\n",
       " ConTextItem(literal='not demonstrate', category='NEG', pattern=None, rule='FORWARD'),\n",
       " ConTextItem(literal='not exhibit', category='NEG', pattern=None, rule='FORWARD'),\n",
       " ConTextItem(literal='not feel', category='NEG', pattern=None, rule='FORWARD'),\n",
       " ConTextItem(literal='not had', category='NEG', pattern=None, rule='FORWARD'),\n",
       " ConTextItem(literal='not have', category='NEG', pattern=None, rule='FORWARD'),\n",
       " ConTextItem(literal='not have evidence of', category='NEG', pattern=None, rule='FORWARD'),\n",
       " ConTextItem(literal='not know of', category='NEG', pattern=None, rule='FORWARD'),\n",
       " ConTextItem(literal='not known to have', category='NEG', pattern=None, rule='FORWARD'),\n",
       " ConTextItem(literal='not reveal', category='NEG', pattern=None, rule='FORWARD'),\n",
       " ConTextItem(literal='not ruled out', category='POSS', pattern=None, rule='BACKWARD'),\n",
       " ConTextItem(literal='not see', category='NEG', pattern=None, rule='FORWARD'),\n",
       " ConTextItem(literal='not to be', category='NEG', pattern=None, rule='FORWARD'),\n",
       " ConTextItem(literal='noted', category='HISTEXP', pattern=None, rule='TERMINATE'),\n",
       " ConTextItem(literal='now resolved', category='NEG', pattern=None, rule='BACKWARD'),\n",
       " ConTextItem(literal='origin for', category='NEG', pattern=None, rule='TERMINATE'),\n",
       " ConTextItem(literal='origin of', category='NEG', pattern=None, rule='TERMINATE'),\n",
       " ConTextItem(literal='origins for', category='NEG', pattern=None, rule='TERMINATE'),\n",
       " ConTextItem(literal='origins of', category='NEG', pattern=None, rule='TERMINATE'),\n",
       " ConTextItem(literal='other possibilities of', category='NEG', pattern=None, rule='TERMINATE'),\n",
       " ConTextItem(literal='ought to be ruled out', category='POSS', pattern=None, rule='BACKWARD'),\n",
       " ConTextItem(literal='ought to be ruled out for', category='POSS', pattern=None, rule='FORWARD'),\n",
       " ConTextItem(literal='past history', category='HIST', pattern=None, rule='FORWARD'),\n",
       " ConTextItem(literal='past medical history', category='HIST', pattern=None, rule='FORWARD'),\n",
       " ConTextItem(literal='patient', category='HYPOEXP', pattern=None, rule='TERMINATE'),\n",
       " ConTextItem(literal='patient was not', category='NEG', pattern=None, rule='FORWARD'),\n",
       " ConTextItem(literal='patient's', category='HYPOEXP', pattern=None, rule='TERMINATE'),\n",
       " ConTextItem(literal='possible', category='POSS', pattern=None, rule='FORWARD'),\n",
       " ConTextItem(literal='poss', category='POSS', pattern=None, rule='FORWARD'),\n",
       " ConTextItem(literal='presenting', category='HISTEXP', pattern=None, rule='TERMINATE'),\n",
       " ConTextItem(literal='presents', category='HISTEXP', pattern=None, rule='TERMINATE'),\n",
       " ConTextItem(literal='probable', category='POSS', pattern=None, rule='FORWARD'),\n",
       " ConTextItem(literal='prophylaxis', category='NEG', pattern=None, rule='BACKWARD'),\n",
       " ConTextItem(literal='r/o', category='POSS', pattern=None, rule='FORWARD'),\n",
       " ConTextItem(literal='rather than', category='NEG', pattern=None, rule='FORWARD'),\n",
       " ConTextItem(literal='reason for', category='NEG', pattern=None, rule='TERMINATE'),\n",
       " ConTextItem(literal='reason of', category='NEG', pattern=None, rule='TERMINATE'),\n",
       " ConTextItem(literal='reasons for', category='NEG', pattern=None, rule='TERMINATE'),\n",
       " ConTextItem(literal='reasons of', category='NEG', pattern=None, rule='TERMINATE'),\n",
       " ConTextItem(literal='reported', category='HISTEXP', pattern=None, rule='TERMINATE'),\n",
       " ConTextItem(literal='reports', category='HISTEXP', pattern=None, rule='TERMINATE'),\n",
       " ConTextItem(literal='resolved', category='NEG', pattern=None, rule='FORWARD'),\n",
       " ConTextItem(literal='return', category='HYPO', pattern=None, rule='FORWARD'),\n",
       " ConTextItem(literal='ro', category='POSS', pattern=None, rule='FORWARD'),\n",
       " ConTextItem(literal='rule her out', category='POSS', pattern=None, rule='FORWARD'),\n",
       " ConTextItem(literal='rule her out for', category='POSS', pattern=None, rule='FORWARD'),\n",
       " ConTextItem(literal='rule him out', category='POSS', pattern=None, rule='FORWARD'),\n",
       " ConTextItem(literal='rule him out for', category='POSS', pattern=None, rule='FORWARD'),\n",
       " ConTextItem(literal='rule out', category='POSS', pattern=None, rule='FORWARD'),\n",
       " ConTextItem(literal='rule out for', category='POSS', pattern=None, rule='FORWARD'),\n",
       " ConTextItem(literal='rule the patient out', category='POSS', pattern=None, rule='FORWARD'),\n",
       " ConTextItem(literal='rule the patinet out for', category='POSS', pattern=None, rule='FORWARD'),\n",
       " ConTextItem(literal='ruled her out', category='NEG', pattern=None, rule='FORWARD'),\n",
       " ConTextItem(literal='ruled her out against', category='NEG', pattern=None, rule='FORWARD'),\n",
       " ConTextItem(literal='ruled her out for', category='NEG', pattern=None, rule='FORWARD'),\n",
       " ConTextItem(literal='ruled him out', category='NEG', pattern=None, rule='FORWARD'),\n",
       " ConTextItem(literal='ruled him out against', category='NEG', pattern=None, rule='FORWARD'),\n",
       " ConTextItem(literal='ruled him out for', category='NEG', pattern=None, rule='FORWARD'),\n",
       " ConTextItem(literal='ruled out', category='NEG', pattern=None, rule='FORWARD'),\n",
       " ConTextItem(literal='ruled out against', category='NEG', pattern=None, rule='FORWARD'),\n",
       " ConTextItem(literal='ruled out for', category='NEG', pattern=None, rule='FORWARD'),\n",
       " ConTextItem(literal='ruled the patient out', category='NEG', pattern=None, rule='FORWARD'),\n",
       " ConTextItem(literal='ruled the patient out against', category='NEG', pattern=None, rule='FORWARD'),\n",
       " ConTextItem(literal='ruled the patient out for', category='NEG', pattern=None, rule='FORWARD'),\n",
       " ConTextItem(literal='rules her out', category='NEG', pattern=None, rule='FORWARD'),\n",
       " ConTextItem(literal='rules her out for', category='NEG', pattern=None, rule='FORWARD'),\n",
       " ConTextItem(literal='rules him out', category='NEG', pattern=None, rule='FORWARD'),\n",
       " ConTextItem(literal='rules him out for', category='NEG', pattern=None, rule='FORWARD'),\n",
       " ConTextItem(literal='rules out', category='NEG', pattern=None, rule='FORWARD'),\n",
       " ConTextItem(literal='rules out for', category='NEG', pattern=None, rule='FORWARD'),\n",
       " ConTextItem(literal='rules the patient out', category='NEG', pattern=None, rule='FORWARD'),\n",
       " ConTextItem(literal='rules the patient out for', category='NEG', pattern=None, rule='FORWARD'),\n",
       " ConTextItem(literal='secondary', category='NEG', pattern=None, rule='TERMINATE'),\n",
       " ConTextItem(literal='secondary to', category='NEG', pattern=None, rule='TERMINATE'),\n",
       " ConTextItem(literal='should be ruled out', category='POSS', pattern=None, rule='BACKWARD'),\n",
       " ConTextItem(literal='should be ruled out for', category='POSS', pattern=None, rule='FORWARD'),\n",
       " ConTextItem(literal='should he', category='HYPO', pattern=None, rule='FORWARD'),\n",
       " ConTextItem(literal='should she', category='HYPO', pattern=None, rule='FORWARD'),\n",
       " ConTextItem(literal='should the patient', category='HYPO', pattern=None, rule='FORWARD'),\n",
       " ConTextItem(literal='should there', category='HYPO', pattern=None, rule='FORWARD'),\n",
       " ConTextItem(literal='since', category='HYPO', pattern=None, rule='TERMINATE'),\n",
       " ConTextItem(literal='sister', category='EXP', pattern=None, rule='FORWARD'),\n",
       " ConTextItem(literal='sister's', category='EXP', pattern=None, rule='FORWARD'),\n",
       " ConTextItem(literal='son', category='EXP', pattern=None, rule='FORWARD'),\n",
       " ConTextItem(literal='source for', category='NEG', pattern=None, rule='TERMINATE'),\n",
       " ConTextItem(literal='source of', category='NEG', pattern=None, rule='TERMINATE'),\n",
       " ConTextItem(literal='sources for', category='NEG', pattern=None, rule='TERMINATE'),\n",
       " ConTextItem(literal='sources of', category='NEG', pattern=None, rule='TERMINATE'),\n",
       " ConTextItem(literal='states', category='HISTEXP', pattern=None, rule='TERMINATE'),\n",
       " ConTextItem(literal='still', category='NEG', pattern=None, rule='TERMINATE'),\n",
       " ConTextItem(literal='sufficient to rule her out', category='NEG', pattern=None, rule='FORWARD'),\n",
       " ConTextItem(literal='sufficient to rule her out against', category='NEG', pattern=None, rule='FORWARD'),\n",
       " ConTextItem(literal='sufficient to rule her out for', category='NEG', pattern=None, rule='FORWARD'),\n",
       " ConTextItem(literal='sufficient to rule him out', category='NEG', pattern=None, rule='FORWARD'),\n",
       " ConTextItem(literal='sufficient to rule him out against', category='NEG', pattern=None, rule='FORWARD'),\n",
       " ConTextItem(literal='sufficient to rule him out for', category='NEG', pattern=None, rule='FORWARD'),\n",
       " ConTextItem(literal='sufficient to rule out', category='NEG', pattern=None, rule='FORWARD'),\n",
       " ConTextItem(literal='sufficient to rule out against', category='NEG', pattern=None, rule='FORWARD'),\n",
       " ConTextItem(literal='sufficient to rule out for', category='NEG', pattern=None, rule='FORWARD'),\n",
       " ConTextItem(literal='sufficient to rule the patient out', category='NEG', pattern=None, rule='FORWARD'),\n",
       " ConTextItem(literal='sufficient to rule the patient out against', category='NEG', pattern=None, rule='FORWARD'),\n",
       " ConTextItem(literal='sufficient to rule the patient out for', category='NEG', pattern=None, rule='FORWARD'),\n",
       " ConTextItem(literal='suggest(ive of)?', category='POSS', pattern=None, rule='FORWARD'),\n",
       " ConTextItem(literal='suspicious for', category='POSS', pattern=None, rule='FORWARD'),\n",
       " ConTextItem(literal='test for', category='NEG', pattern=None, rule='FORWARD'),\n",
       " ConTextItem(literal='though', category='NEG', pattern=None, rule='TERMINATE'),\n",
       " ConTextItem(literal='to exclude', category='NEG', pattern=None, rule='FORWARD'),\n",
       " ConTextItem(literal='today', category='HISTEXP', pattern=None, rule='TERMINATE'),\n",
       " ConTextItem(literal='trigger event for', category='NEG', pattern=None, rule='TERMINATE'),\n",
       " ConTextItem(literal='uncle', category='EXP', pattern=None, rule='FORWARD'),\n",
       " ConTextItem(literal='uncle's', category='EXP', pattern=None, rule='FORWARD'),\n",
       " ConTextItem(literal='unlikely', category='NEG', pattern=None, rule='BACKWARD'),\n",
       " ConTextItem(literal='unremarkable for', category='NEG', pattern=None, rule='FORWARD'),\n",
       " ConTextItem(literal='was found', category='HISTEXP', pattern=None, rule='TERMINATE'),\n",
       " ConTextItem(literal='was negative', category='NEG', pattern=None, rule='BACKWARD'),\n",
       " ConTextItem(literal='was not', category='NEG', pattern=None, rule='FORWARD'),\n",
       " ConTextItem(literal='was ruled out', category='NEG', pattern=None, rule='BACKWARD'),\n",
       " ConTextItem(literal='wasn't', category='NEG', pattern=None, rule='FORWARD'),\n",
       " ConTextItem(literal='what must be ruled out is', category='POSS', pattern=None, rule='FORWARD'),\n",
       " ConTextItem(literal='which', category='EXP', pattern=None, rule='TERMINATE'),\n",
       " ConTextItem(literal='who', category='HYPOEXP', pattern=None, rule='TERMINATE'),\n",
       " ConTextItem(literal='will be ruled out', category='POSS', pattern=None, rule='BACKWARD'),\n",
       " ConTextItem(literal='will be ruled out for', category='POSS', pattern=None, rule='FORWARD'),\n",
       " ConTextItem(literal='with no', category='NEG', pattern=None, rule='FORWARD'),\n",
       " ConTextItem(literal='without', category='NEG', pattern=None, rule='FORWARD'),\n",
       " ConTextItem(literal='without any evidence of', category='NEG', pattern=None, rule='FORWARD'),\n",
       " ConTextItem(literal='without evidence', category='NEG', pattern=None, rule='FORWARD'),\n",
       " ConTextItem(literal='without indication of', category='NEG', pattern=None, rule='FORWARD'),\n",
       " ConTextItem(literal='without sign of', category='NEG', pattern=None, rule='FORWARD'),\n",
       " ConTextItem(literal='worrisome for', category='POSS', pattern=None, rule='FORWARD'),\n",
       " ConTextItem(literal='worried about', category='POSS', pattern=None, rule='FORWARD'),\n",
       " ConTextItem(literal='yet', category='NEG', pattern=None, rule='TERMINATE')]"
      ]
     },
     "execution_count": 14,
     "metadata": {},
     "output_type": "execute_result"
    }
   ],
   "source": [
    "context.item_data"
   ]
  },
  {
   "cell_type": "markdown",
   "metadata": {},
   "source": [
    "# Applying ConText\n",
    "Once we've added the ConTextItems, we call the ConTextComponent object directly on a Doc."
   ]
  },
  {
   "cell_type": "code",
   "execution_count": 9,
   "metadata": {},
   "outputs": [
    {
     "data": {
      "text/plain": [
       "There is no evidence of pneumonia."
      ]
     },
     "execution_count": 9,
     "metadata": {},
     "output_type": "execute_result"
    }
   ],
   "source": [
    "context(doc)"
   ]
  },
  {
   "cell_type": "markdown",
   "metadata": {},
   "source": [
    "This adds the following attributes:\n",
    "- `Doc._.context_graph`: An object containing the targets, modifiers, and relationships between them\n",
    "- `Span._.modifiers`: A tuple added to each span which will contain the modifiers which modify each target entity\n",
    "- Additional ConText attributes (optional)"
   ]
  },
  {
   "cell_type": "markdown",
   "metadata": {},
   "source": [
    "## ConTextGraph\n",
    "This object contains the main findings of the ConText algorithm. It handles applying the modifiers to the sentences, defining their scopes, and identifying target concepts which they modify."
   ]
  },
  {
   "cell_type": "code",
   "execution_count": 11,
   "metadata": {},
   "outputs": [
    {
     "data": {
      "text/plain": [
       "<ConTextGraph> with 1 targets and 0 modifiers"
      ]
     },
     "execution_count": 11,
     "metadata": {},
     "output_type": "execute_result"
    }
   ],
   "source": [
    "doc._.context_graph"
   ]
  },
  {
   "cell_type": "markdown",
   "metadata": {},
   "source": [
    "### Modifiers\n",
    "The `modifiers` attribute is a list of `TagObject` objects, which are the result of a ConTextItem matching a span of text in `doc`. In this example, \"no evidence of\" and has a category of \"DEFINITE_NEGATED_EXISTENCE\", as defined by `context_item`."
   ]
  },
  {
   "cell_type": "code",
   "execution_count": 12,
   "metadata": {},
   "outputs": [
    {
     "data": {
      "text/plain": [
       "[]"
      ]
     },
     "execution_count": 12,
     "metadata": {},
     "output_type": "execute_result"
    }
   ],
   "source": [
    "doc._.context_graph.modifiers"
   ]
  },
  {
   "cell_type": "markdown",
   "metadata": {},
   "source": [
    "The `scope` object contains the span of text which is modified by the TagObject:"
   ]
  },
  {
   "cell_type": "code",
   "execution_count": 14,
   "metadata": {},
   "outputs": [
    {
     "data": {
      "text/plain": [
       "pneumonia."
      ]
     },
     "execution_count": 14,
     "metadata": {},
     "output_type": "execute_result"
    }
   ],
   "source": [
    "modifier = doc._.context_graph.modifiers[0]\n",
    "modifier.scope"
   ]
  },
  {
   "cell_type": "markdown",
   "metadata": {},
   "source": [
    "### Targets\n",
    "The `targets` attribute contains the list of entities in `doc.ents`:"
   ]
  },
  {
   "cell_type": "code",
   "execution_count": 15,
   "metadata": {},
   "outputs": [
    {
     "data": {
      "text/plain": [
       "(pneumonia,)"
      ]
     },
     "execution_count": 15,
     "metadata": {},
     "output_type": "execute_result"
    }
   ],
   "source": [
    "doc._.context_graph.targets"
   ]
  },
  {
   "cell_type": "markdown",
   "metadata": {},
   "source": [
    "### Edges\n",
    "This is the primary role of the ConText algorithm. Once modifiers and targets have been identified, any targets within the scope of a modifier are said to be **modified by** that modifier. In this example, this gives us the contextual semantic information that this entity is negated."
   ]
  },
  {
   "cell_type": "code",
   "execution_count": 16,
   "metadata": {},
   "outputs": [
    {
     "name": "stdout",
     "output_type": "stream",
     "text": [
      "[pneumonia] is modified by [<TagObject> [no evidence of, NEGATED_EXISTENCE]]\n"
     ]
    }
   ],
   "source": [
    "for target, modifier in doc._.context_graph.edges:\n",
    "    print(\"[{0}] is modified by [{1}]\".format(target, modifier))"
   ]
  },
  {
   "cell_type": "markdown",
   "metadata": {},
   "source": [
    "## Span._.modifiers\n",
    "These relationships are also stored as a list in the `target._.modifiers` attribute. This allows us to identify all modifiers for a target entity:"
   ]
  },
  {
   "cell_type": "code",
   "execution_count": 17,
   "metadata": {},
   "outputs": [
    {
     "name": "stdout",
     "output_type": "stream",
     "text": [
      "pneumonia is modified by [(<TagObject> [no evidence of, NEGATED_EXISTENCE],)]\n"
     ]
    }
   ],
   "source": [
    "for ent in doc.ents:\n",
    "    print(\"{0} is modified by [{1}]\".format(ent, ent._.modifiers))"
   ]
  },
  {
   "cell_type": "code",
   "execution_count": null,
   "metadata": {},
   "outputs": [],
   "source": []
  },
  {
   "cell_type": "markdown",
   "metadata": {},
   "source": [
    "# Additional Span attributes\n",
    "In addition to storing the results in the ConTextGraph, cycontext also sets several additional span-level attributes which contain the contextual information for that target. In the future this should be customizable, but this and similar attributes can also be set manually, as will be shown in a later notebook.\n",
    "\n",
    "- is_negated: True if a target is modified by 'NEGATED_EXISTENCE', default False\n",
    "- is_uncertain: True if a target is modified by 'POSSIBLE_EXISTENCE', default False\n",
    "- is_historical: True if a target is modified by 'HISTORICAL', default False\n",
    "- is_hypothetical: True if a target is modified by 'HYPOTHETICAL', default False\n",
    "- is_family: True if a target is modified by 'FAMILY', default False"
   ]
  },
  {
   "cell_type": "code",
   "execution_count": 18,
   "metadata": {},
   "outputs": [],
   "source": [
    "from spacy.tokens.span import Span"
   ]
  },
  {
   "cell_type": "code",
   "execution_count": 20,
   "metadata": {},
   "outputs": [
    {
     "name": "stdout",
     "output_type": "stream",
     "text": [
      "pneumonia\n",
      "is_negated:  True\n",
      "is_uncertain:  False\n",
      "is_historical:  False\n",
      "is_hypothetical:  False\n",
      "is_family:  False\n"
     ]
    }
   ],
   "source": [
    "for ent in doc.ents:\n",
    "    print(ent)\n",
    "    print(\"is_negated: \", ent._.is_negated)\n",
    "    print(\"is_uncertain: \", ent._.is_uncertain)\n",
    "    print(\"is_historical: \", ent._.is_historical)\n",
    "    print(\"is_hypothetical: \", ent._.is_hypothetical)\n",
    "    print(\"is_family: \", ent._.is_family)\n",
    "    "
   ]
  },
  {
   "cell_type": "markdown",
   "metadata": {},
   "source": [
    "These attributes can be left out by setting `set_attrs` to `False` when initializing the `ConTextComponent`."
   ]
  },
  {
   "cell_type": "code",
   "execution_count": null,
   "metadata": {},
   "outputs": [],
   "source": []
  },
  {
   "cell_type": "markdown",
   "metadata": {},
   "source": [
    "# Visualization\n",
    "When building or explaining a clinical NLP system, it can be especially helpful to view visual representations of the entities and modifiers. We can use [spaCy's visualizers](https://spacy.io/usage/visualizers) to display this information.\n",
    "\n",
    "The `visualize_ent` function displays targets and modifiers in a document in an NER-style form, highlighting the clinical entities and modifiers in a Doc:"
   ]
  },
  {
   "cell_type": "code",
   "execution_count": 21,
   "metadata": {},
   "outputs": [
    {
     "data": {
      "text/html": [
       "<div class=\"entities\" style=\"line-height: 2.5; direction: ltr\">There is \n",
       "<mark class=\"entity\" style=\"background: #ff7f0e; padding: 0.45em 0.6em; margin: 0 0.25em; line-height: 1; border-radius: 0.35em;\">\n",
       "    no evidence of\n",
       "    <span style=\"font-size: 0.8em; font-weight: bold; line-height: 1; border-radius: 0.35em; text-transform: uppercase; vertical-align: middle; margin-left: 0.5rem\">NEGATED_EXISTENCE</span>\n",
       "</mark>\n",
       " \n",
       "<mark class=\"entity\" style=\"background: #1f77b4; padding: 0.45em 0.6em; margin: 0 0.25em; line-height: 1; border-radius: 0.35em;\">\n",
       "    pneumonia\n",
       "    <span style=\"font-size: 0.8em; font-weight: bold; line-height: 1; border-radius: 0.35em; text-transform: uppercase; vertical-align: middle; margin-left: 0.5rem\">EVIDENCE_OF_PNEUMONIA</span>\n",
       "</mark>\n",
       ".</div>"
      ],
      "text/plain": [
       "<IPython.core.display.HTML object>"
      ]
     },
     "metadata": {},
     "output_type": "display_data"
    }
   ],
   "source": [
    "from cycontext import viz\n",
    "viz.visualize_ent(doc)"
   ]
  },
  {
   "cell_type": "markdown",
   "metadata": {},
   "source": [
    "The `visualize_dep` function uses a dependency-parse style graphic to show the relationships between targets and modifiers:"
   ]
  },
  {
   "cell_type": "code",
   "execution_count": 22,
   "metadata": {},
   "outputs": [
    {
     "data": {
      "text/html": [
       "<svg xmlns=\"http://www.w3.org/2000/svg\" xmlns:xlink=\"http://www.w3.org/1999/xlink\" xml:lang=\"en\" id=\"5c94fe48cf0f4cce9e3989e8f9d77cf4-0\" class=\"displacy\" width=\"925\" height=\"224.5\" direction=\"ltr\" style=\"max-width: none; height: 224.5px; color: #000000; background: #ffffff; font-family: Arial; direction: ltr\">\n",
       "<text class=\"displacy-token\" fill=\"currentColor\" text-anchor=\"middle\" y=\"134.5\">\n",
       "    <tspan class=\"displacy-word\" fill=\"currentColor\" x=\"50\">There</tspan>\n",
       "    <tspan class=\"displacy-tag\" dy=\"2em\" fill=\"currentColor\" x=\"50\"></tspan>\n",
       "</text>\n",
       "\n",
       "<text class=\"displacy-token\" fill=\"currentColor\" text-anchor=\"middle\" y=\"134.5\">\n",
       "    <tspan class=\"displacy-word\" fill=\"currentColor\" x=\"225\">is</tspan>\n",
       "    <tspan class=\"displacy-tag\" dy=\"2em\" fill=\"currentColor\" x=\"225\"></tspan>\n",
       "</text>\n",
       "\n",
       "<text class=\"displacy-token\" fill=\"currentColor\" text-anchor=\"middle\" y=\"134.5\">\n",
       "    <tspan class=\"displacy-word\" fill=\"currentColor\" x=\"400\">no evidence of</tspan>\n",
       "    <tspan class=\"displacy-tag\" dy=\"2em\" fill=\"currentColor\" x=\"400\"></tspan>\n",
       "</text>\n",
       "\n",
       "<text class=\"displacy-token\" fill=\"currentColor\" text-anchor=\"middle\" y=\"134.5\">\n",
       "    <tspan class=\"displacy-word\" fill=\"currentColor\" x=\"575\">pneumonia</tspan>\n",
       "    <tspan class=\"displacy-tag\" dy=\"2em\" fill=\"currentColor\" x=\"575\">EVIDENCE_OF_PNEUMONIA</tspan>\n",
       "</text>\n",
       "\n",
       "<text class=\"displacy-token\" fill=\"currentColor\" text-anchor=\"middle\" y=\"134.5\">\n",
       "    <tspan class=\"displacy-word\" fill=\"currentColor\" x=\"750\">.</tspan>\n",
       "    <tspan class=\"displacy-tag\" dy=\"2em\" fill=\"currentColor\" x=\"750\"></tspan>\n",
       "</text>\n",
       "\n",
       "<g class=\"displacy-arrow\">\n",
       "    <path class=\"displacy-arc\" id=\"arrow-5c94fe48cf0f4cce9e3989e8f9d77cf4-0-0\" stroke-width=\"2px\" d=\"M420,89.5 C420,2.0 575.0,2.0 575.0,89.5\" fill=\"none\" stroke=\"currentColor\"/>\n",
       "    <text dy=\"1.25em\" style=\"font-size: 0.8em; letter-spacing: 1px\">\n",
       "        <textPath xlink:href=\"#arrow-5c94fe48cf0f4cce9e3989e8f9d77cf4-0-0\" class=\"displacy-label\" startOffset=\"50%\" side=\"left\" fill=\"currentColor\" text-anchor=\"middle\">NEGATED_EXISTENCE</textPath>\n",
       "    </text>\n",
       "    <path class=\"displacy-arrowhead\" d=\"M575.0,91.5 L583.0,79.5 567.0,79.5\" fill=\"currentColor\"/>\n",
       "</g>\n",
       "</svg>"
      ],
      "text/plain": [
       "<IPython.core.display.HTML object>"
      ]
     },
     "metadata": {},
     "output_type": "display_data"
    }
   ],
   "source": [
    "viz.visualize_dep(doc)"
   ]
  },
  {
   "cell_type": "markdown",
   "metadata": {},
   "source": [
    "# Define ConTextItem\n",
    "In this sentence, **\"pneumonia\"** is negated. This negation is indicated by the contextual information. We can extract this by identifying the semantic modifier and relating it to the clinical entity.\n",
    "\n",
    "In cycontext, we define modifiers in the `ConTextItem` class. We'll explain the ConTextItem class in more detail in another notebook. For now, we'll define this simple item:"
   ]
  },
  {
   "cell_type": "code",
   "execution_count": 9,
   "metadata": {},
   "outputs": [],
   "source": [
    "context_item = ConTextItem(\"no evidence of\", \"NEGATED_EXISTENCE\", rule=\"FORWARD\")"
   ]
  },
  {
   "cell_type": "markdown",
   "metadata": {},
   "source": [
    "We then add this ItemData to the context object in a list."
   ]
  },
  {
   "cell_type": "code",
   "execution_count": 10,
   "metadata": {},
   "outputs": [],
   "source": [
    "context.add([context_item])"
   ]
  },
  {
   "cell_type": "markdown",
   "metadata": {},
   "source": [
    "# Next Steps\n",
    "In the next notebook, we'll see how to add ConText to a spaCy pipeline to process multiple documents with different targets and modifiers."
   ]
  },
  {
   "cell_type": "code",
   "execution_count": null,
   "metadata": {},
   "outputs": [],
   "source": []
  }
 ],
 "metadata": {
  "kernelspec": {
   "display_name": "Python 3",
   "language": "python",
   "name": "python3"
  },
  "language_info": {
   "codemirror_mode": {
    "name": "ipython",
    "version": 3
   },
   "file_extension": ".py",
   "mimetype": "text/x-python",
   "name": "python",
   "nbconvert_exporter": "python",
   "pygments_lexer": "ipython3",
   "version": "3.7.3"
  }
 },
 "nbformat": 4,
 "nbformat_minor": 2
}

{
 "cells": [
  {
   "cell_type": "code",
   "execution_count": 1,
   "metadata": {},
   "outputs": [],
   "source": [
    "import spacy\n",
    "\n",
    "from spacy.matcher import Matcher, PhraseMatcher\n",
    "from spacy.pipeline import EntityRuler"
   ]
  },
  {
   "cell_type": "markdown",
   "metadata": {},
   "source": [
    "# High-Level Process\n",
    "- Process document\n",
    "- Identify targets\n",
    "- Define modifiers (KB)\n",
    "- Mark items (modifiers)\n",
    "- Apply modifiers (build edges)\n",
    "- Add negated attributes"
   ]
  },
  {
   "cell_type": "markdown",
   "metadata": {},
   "source": [
    "# Define classes similar to pyConText"
   ]
  },
  {
   "cell_type": "code",
   "execution_count": 2,
   "metadata": {},
   "outputs": [],
   "source": [
    "class ItemData:\n",
    "    \"\"\"Defines a context item rule, such as a modifier.\"\"\"\n",
    "    def __init__(self, literal, category, regex=None, rule=\"bidirectional\"):\n",
    "        self.literal = literal\n",
    "        self.category = category\n",
    "        self.regex = regex\n",
    "        self.rule = rule.lower()\n",
    "        \n",
    "    def __repr__(self):\n",
    "        return f\"ItemData: [{self.literal}, {self.category}, {self.regex}, {self.rule}]\""
   ]
  },
  {
   "cell_type": "code",
   "execution_count": 3,
   "metadata": {},
   "outputs": [],
   "source": [
    "class TagObject:\n",
    "    \"\"\"A marked up modifier in the doc.\"\"\"\n",
    "    \n",
    "    def __init__(self, match_id, start, end, doc, _modifier_item_mapping):\n",
    "        self.match_id = match_id\n",
    "        self.start = start\n",
    "        self.end = end\n",
    "        self.doc = doc\n",
    "        self.item_data = _modifier_item_mapping[match_id]\n",
    "    \n",
    "        self._scope_start = None\n",
    "        self._scope_end = None\n",
    "        self.set_scope()\n",
    "    \n",
    "    @property\n",
    "    def span(self):\n",
    "        \"\"\"The spaCy Span object, which is a view of self.doc, covered by this match.\"\"\"\n",
    "        return self.doc[self.start: self.end]\n",
    "    \n",
    "    @property\n",
    "    def rule(self):\n",
    "        return self.item_data.rule\n",
    "    \n",
    "    @property\n",
    "    def category(self):\n",
    "        return self.item_data.category\n",
    "    \n",
    "    @property\n",
    "    def scope(self):\n",
    "        return self.doc[self._scope_start: self._scope_end]\n",
    "    \n",
    "    def set_scope(self):\n",
    "        \"\"\"Applies the rule of the ItemData which generated this TagObject\n",
    "        to define a scope in the sentence.\n",
    "        For example, if the rule is \"forward\", the scope will be [self.end: sentence.end].\n",
    "        If the rule is \"backward\", it will be [self.start: sentence.start].\n",
    "        \"\"\"\n",
    "        sent = self.doc[self.start].sent\n",
    "        \n",
    "        if self.rule.lower() == \"forward\":\n",
    "            self._scope_start, self._scope_end = self.end, sent.end\n",
    "        elif self.rule.lower() == \"backward\":\n",
    "            self._scope_start, self._scope_end = sent.start, self.start\n",
    "        else:\n",
    "            self._scope_start, self._scope_end = sent.start, sent.end\n",
    "            \n",
    "    def update_scope(self, span):\n",
    "        self._scope_start, self._scope_end = span.start, span.end\n",
    "        \n",
    "    def limit_scope(self, other):\n",
    "        \"\"\"If self and obj have the same category or if obj has a directionality of 'terminate',\n",
    "        use the span of obj to update the scope of self.\n",
    "        Returns True if obj modfified the scope of self\n",
    "        \"\"\"\n",
    "        if self.span.sent != other.span.sent:\n",
    "            return False\n",
    "        if self.rule.lower() == \"terminate\":\n",
    "            return False\n",
    "        if other.rule.lower() not in (\"terminate\", self.rule.lower()):\n",
    "            return False\n",
    "\n",
    "        orig_scope = self.scope\n",
    "\n",
    "        if (self.rule.lower() in (\"forward\", \"bidirectional\")):\n",
    "            if other > self:\n",
    "                self._scope_end = min(self._scope_end, other.start)\n",
    "        elif (self.rule.lower() in (\"backward\", \"bidirectional\")):\n",
    "            if other < self:\n",
    "                self._scope_start = max(self._scope_start, other.end)\n",
    "        if orig_scope != self.scope:\n",
    "            return True\n",
    "        else:\n",
    "            return False\n",
    "        \n",
    "    def modifies(self, target):\n",
    "        \"\"\"Returns True if the target is within the modifier scope.\"\"\"\n",
    "        if self.rule == \"terminate\":\n",
    "            return False\n",
    "        if self._scope_start <= target.start < self._scope_end:\n",
    "            return True\n",
    "        if self._scope_start <= target.end < self._scope_end:\n",
    "            return True\n",
    "        return False\n",
    "            \n",
    "    \n",
    "            \n",
    "    def __gt__(self, other): return self.span > other.span\n",
    "    def __ge__(self, other): return self.span >= other.span\n",
    "    def __lt(self, other): return self.span < other.span\n",
    "    def __lt(self, other): return self.span <= other.span\n",
    "    def __repr__(self):\n",
    "        return f\"<TagObject> [{self.span}, {self.category}]\""
   ]
  },
  {
   "cell_type": "markdown",
   "metadata": {},
   "source": [
    "# Wrap up in a Component"
   ]
  },
  {
   "cell_type": "code",
   "execution_count": 4,
   "metadata": {},
   "outputs": [],
   "source": [
    "from spacy.tokens import Doc, Span"
   ]
  },
  {
   "cell_type": "code",
   "execution_count": 5,
   "metadata": {},
   "outputs": [],
   "source": [
    "Span.set_extension(\"is_negated\", default=False, force=True)"
   ]
  },
  {
   "cell_type": "code",
   "execution_count": 6,
   "metadata": {},
   "outputs": [],
   "source": [
    "Doc.set_extension(\"context_edges\", default=(), force=True)"
   ]
  },
  {
   "cell_type": "code",
   "execution_count": 7,
   "metadata": {},
   "outputs": [],
   "source": [
    "class ConTextComponent:\n",
    "    name = \"context\"\n",
    "    \n",
    "    def __init__(self, item_data, nlp):\n",
    "        self.item_data = item_data\n",
    "        self.nlp = nlp\n",
    "        \n",
    "        self._modifier_item_mapping = dict()\n",
    "        self.phrase_matcher = PhraseMatcher(nlp.vocab)\n",
    "        for i, item in enumerate(item_data):\n",
    "            uid = self.nlp.vocab.strings[str(i)] # UID is the hash which we'll use to retrieve the ItemData from a spaCy match\n",
    "            self.phrase_matcher.add(str(i), \n",
    "                           None, \n",
    "                           nlp(item.literal)        )\n",
    "            self._modifier_item_mapping[uid] = item\n",
    "    \n",
    "    def update_scopes(self, marked_modifiers):\n",
    "        for i in range(len(marked_modifiers) - 1):\n",
    "            modifier1 = marked_modifiers[i]\n",
    "            for j in range(i+1, len(marked_modifiers)):\n",
    "                modifier2 = marked_modifiers[j]\n",
    "                # TODO: Add modifier -> modifier edges\n",
    "                modifier1.limit_scope(modifier2)\n",
    "                modifier2.limit_scope(modifier1)\n",
    "                \n",
    "    def apply_modifiers(self, marked_targets, marked_modifiers):\n",
    "        edges = []\n",
    "        for target in marked_targets:\n",
    "            for modifier in marked_modifiers:\n",
    "                if modifier.modifies(target):\n",
    "                    edges.append((target, modifier))\n",
    "        return edges\n",
    "        \n",
    "        \n",
    "    def __call__(self, doc):\n",
    "        targets = doc.ents\n",
    "        marked_modifiers = []\n",
    "        matches = self.phrase_matcher(doc)\n",
    "        for (match_id, start, end) in matches:\n",
    "            tag_object = TagObject(match_id, start, end, doc, self._modifier_item_mapping)\n",
    "            marked_modifiers.append(tag_object)\n",
    "        \n",
    "        self.update_scopes(marked_modifiers)\n",
    "        edges = self.apply_modifiers(targets, marked_modifiers)\n",
    "        doc._.context_edges = edges\n",
    "        \n",
    "        # Add negation attributes to entities\n",
    "        for target, modifier in edges:\n",
    "            if modifier.category.lower() == \"definite_negated_existence\":\n",
    "                target._.is_negated = True\n",
    "            else:\n",
    "                target._.is_negated = False\n",
    "        return doc"
   ]
  },
  {
   "cell_type": "markdown",
   "metadata": {},
   "source": [
    "# Add to model and process documents"
   ]
  },
  {
   "cell_type": "code",
   "execution_count": 8,
   "metadata": {},
   "outputs": [],
   "source": [
    "nlp = spacy.load(\"en_core_web_sm\")\n",
    "_ = nlp.remove_pipe(\"ner\")"
   ]
  },
  {
   "cell_type": "code",
   "execution_count": 9,
   "metadata": {},
   "outputs": [],
   "source": [
    "item_data = [ItemData(\"no evidence of\", category=\"DEFINITE_NEGATED_EXISTENCE\", rule=\"forward\"),\n",
    "                  ItemData(\"but\", category=\"TERMINATE\", rule=\"terminate\"),\n",
    "            ItemData(\"is ruled out\", category=\"DEFINITE_NEGATED_EXISTENCE\", rule=\"backward\")]"
   ]
  },
  {
   "cell_type": "code",
   "execution_count": 10,
   "metadata": {},
   "outputs": [],
   "source": [
    "context = ConTextComponent(item_data, nlp)"
   ]
  },
  {
   "cell_type": "code",
   "execution_count": 11,
   "metadata": {},
   "outputs": [],
   "source": [
    "# Use the EntityRuler class for rule-based NER\n",
    "ruler = EntityRuler(nlp, overwrite_ents=True)\n",
    "\n",
    "patterns = [\n",
    "    [{\"lower\": \"pneumonia\"}],\n",
    "    [{\"lower\": \"asthma\"}],\n",
    "    [{\"lower\": \"angina\"}],\n",
    "    [{\"lower\": \"chf\"}],\n",
    "    [{\"lower\": \"pe\"}],\n",
    "    [{\"lower\": {\"REGEX\": \"clot\"}}],\n",
    "    \n",
    "]\n",
    "\n",
    "patterns = [{\"label\": \"CONDITION\", \"pattern\": pattern} for pattern in patterns]\n",
    "\n",
    "ruler.add_patterns(patterns)"
   ]
  },
  {
   "cell_type": "code",
   "execution_count": 12,
   "metadata": {},
   "outputs": [],
   "source": [
    "nlp.add_pipe(ruler)"
   ]
  },
  {
   "cell_type": "code",
   "execution_count": 13,
   "metadata": {},
   "outputs": [],
   "source": [
    "nlp.add_pipe(context)"
   ]
  },
  {
   "cell_type": "code",
   "execution_count": 14,
   "metadata": {},
   "outputs": [],
   "source": [
    "sents = [\"There is no evidence of pneumonia or asthma but there is angina.\",\n",
    "        \"There is CHF.\",\n",
    "        \"PE is ruled out.\",\n",
    "        \"There is clotting but pe is ruled out.\"]"
   ]
  },
  {
   "cell_type": "code",
   "execution_count": 15,
   "metadata": {},
   "outputs": [],
   "source": [
    "docs = list(nlp.pipe(sents))"
   ]
  },
  {
   "cell_type": "code",
   "execution_count": 21,
   "metadata": {},
   "outputs": [
    {
     "name": "stdout",
     "output_type": "stream",
     "text": [
      "There is no evidence of pneumonia or asthma but there is angina.\n",
      "-\t pneumonia True\n",
      "-\t asthma True\n",
      "-\t angina False\n",
      "\n",
      "There is CHF.\n",
      "-\t CHF False\n",
      "\n",
      "PE is ruled out.\n",
      "-\t PE True\n",
      "\n",
      "There is clotting but pe is ruled out.\n",
      "-\t clotting False\n",
      "-\t pe True\n",
      "\n"
     ]
    }
   ],
   "source": [
    "for doc in docs:\n",
    "    print(doc)\n",
    "    for ent in doc.ents:\n",
    "        print(\"-\\t\", ent, ent._.is_negated)\n",
    "    print()"
   ]
  },
  {
   "cell_type": "code",
   "execution_count": 22,
   "metadata": {},
   "outputs": [
    {
     "name": "stdout",
     "output_type": "stream",
     "text": [
      "[(pneumonia, <TagObject> [no evidence of, DEFINITE_NEGATED_EXISTENCE]), (asthma, <TagObject> [no evidence of, DEFINITE_NEGATED_EXISTENCE])]\n",
      "[]\n",
      "[(PE, <TagObject> [is ruled out, DEFINITE_NEGATED_EXISTENCE])]\n",
      "[(pe, <TagObject> [is ruled out, DEFINITE_NEGATED_EXISTENCE])]\n"
     ]
    }
   ],
   "source": [
    "for doc in docs:\n",
    "    print(doc._.context_edges)"
   ]
  },
  {
   "cell_type": "markdown",
   "metadata": {},
   "source": [
    "# Visualize results"
   ]
  },
  {
   "cell_type": "code",
   "execution_count": 23,
   "metadata": {},
   "outputs": [],
   "source": [
    "from spacy import displacy"
   ]
  },
  {
   "cell_type": "markdown",
   "metadata": {},
   "source": [
    "### Entities"
   ]
  },
  {
   "cell_type": "code",
   "execution_count": 24,
   "metadata": {},
   "outputs": [],
   "source": [
    "def visualize_targets(doc):\n",
    "    ents_data = []\n",
    "    modifier_start_chars = set()\n",
    "    for target in doc.ents:\n",
    "        ents_data.append({\"start\": target.start_char, \"end\":  target.end_char, \"label\": target.label_})\n",
    "    for _, modifier in doc._.context_edges:\n",
    "        if modifier.span.start_char not in modifier_start_chars:\n",
    "            ents_data.append({\"start\": modifier.span.start_char, \"end\": modifier.span.end_char, \"label\": modifier.category})\n",
    "            modifier_start_chars.add(modifier.span.start_char)\n",
    "    ents_data = sorted(ents_data, key=lambda x: x[\"start\"])\n",
    "\n",
    "    viz_data = [{\"text\": doc.text,\n",
    "                \"ents\": ents_data,\n",
    "                }]\n",
    "    options = {\"colors\": {\"CONDITION\": \"orange\", \"DEFINITE_NEGATED_EXISTENCE\": \"#a2bde8\"},\n",
    "              }\n",
    "    displacy.render(viz_data, style=\"ent\", manual=True, options=options)"
   ]
  },
  {
   "cell_type": "code",
   "execution_count": 25,
   "metadata": {},
   "outputs": [
    {
     "data": {
      "text/html": [
       "<div class=\"entities\" style=\"line-height: 2.5; direction: ltr\">There is \n",
       "<mark class=\"entity\" style=\"background: #a2bde8; padding: 0.45em 0.6em; margin: 0 0.25em; line-height: 1; border-radius: 0.35em;\">\n",
       "    no evidence of\n",
       "    <span style=\"font-size: 0.8em; font-weight: bold; line-height: 1; border-radius: 0.35em; text-transform: uppercase; vertical-align: middle; margin-left: 0.5rem\">DEFINITE_NEGATED_EXISTENCE</span>\n",
       "</mark>\n",
       " \n",
       "<mark class=\"entity\" style=\"background: orange; padding: 0.45em 0.6em; margin: 0 0.25em; line-height: 1; border-radius: 0.35em;\">\n",
       "    pneumonia\n",
       "    <span style=\"font-size: 0.8em; font-weight: bold; line-height: 1; border-radius: 0.35em; text-transform: uppercase; vertical-align: middle; margin-left: 0.5rem\">CONDITION</span>\n",
       "</mark>\n",
       " or \n",
       "<mark class=\"entity\" style=\"background: orange; padding: 0.45em 0.6em; margin: 0 0.25em; line-height: 1; border-radius: 0.35em;\">\n",
       "    asthma\n",
       "    <span style=\"font-size: 0.8em; font-weight: bold; line-height: 1; border-radius: 0.35em; text-transform: uppercase; vertical-align: middle; margin-left: 0.5rem\">CONDITION</span>\n",
       "</mark>\n",
       " but there is \n",
       "<mark class=\"entity\" style=\"background: orange; padding: 0.45em 0.6em; margin: 0 0.25em; line-height: 1; border-radius: 0.35em;\">\n",
       "    angina\n",
       "    <span style=\"font-size: 0.8em; font-weight: bold; line-height: 1; border-radius: 0.35em; text-transform: uppercase; vertical-align: middle; margin-left: 0.5rem\">CONDITION</span>\n",
       "</mark>\n",
       ".</div>"
      ],
      "text/plain": [
       "<IPython.core.display.HTML object>"
      ]
     },
     "metadata": {},
     "output_type": "display_data"
    }
   ],
   "source": [
    "visualize_targets(docs[0])"
   ]
  },
  {
   "cell_type": "markdown",
   "metadata": {},
   "source": [
    "### Relationships"
   ]
  },
  {
   "cell_type": "code",
   "execution_count": 26,
   "metadata": {},
   "outputs": [],
   "source": [
    "def visualize_modifiers(doc):\n",
    "    dep_data = {\"words\": [],\n",
    "               \"arcs\": []}\n",
    "    dep_data[\"words\"] = [{\"text\": token.text, \"tag\": \"\"} for token in doc]\n",
    "    for target, modifier in doc._.context_edges:\n",
    "        if modifier.category.lower() == \"definite_negated_existence\":\n",
    "            dep_data[\"arcs\"].append(\n",
    "                {\n",
    "                    \"start\": min(target.start, modifier.start),\n",
    "                    \"end\": max(target.start, modifier.start),\n",
    "                    \"label\": modifier.category,\n",
    "                    \"dir\": \"right\" if target > modifier.span else \"left\"\n",
    "                }\n",
    "            )\n",
    "    displacy.render(dep_data, manual=True)"
   ]
  },
  {
   "cell_type": "code",
   "execution_count": 27,
   "metadata": {},
   "outputs": [
    {
     "data": {
      "text/html": [
       "<svg xmlns=\"http://www.w3.org/2000/svg\" xmlns:xlink=\"http://www.w3.org/1999/xlink\" xml:lang=\"en\" id=\"ec02c095feb4423aaea36e1e510655e5-0\" class=\"displacy\" width=\"2325\" height=\"312.0\" direction=\"ltr\" style=\"max-width: none; height: 312.0px; color: #000000; background: #ffffff; font-family: Arial; direction: ltr\">\n",
       "<text class=\"displacy-token\" fill=\"currentColor\" text-anchor=\"middle\" y=\"222.0\">\n",
       "    <tspan class=\"displacy-word\" fill=\"currentColor\" x=\"50\">There</tspan>\n",
       "    <tspan class=\"displacy-tag\" dy=\"2em\" fill=\"currentColor\" x=\"50\"></tspan>\n",
       "</text>\n",
       "\n",
       "<text class=\"displacy-token\" fill=\"currentColor\" text-anchor=\"middle\" y=\"222.0\">\n",
       "    <tspan class=\"displacy-word\" fill=\"currentColor\" x=\"225\">is</tspan>\n",
       "    <tspan class=\"displacy-tag\" dy=\"2em\" fill=\"currentColor\" x=\"225\"></tspan>\n",
       "</text>\n",
       "\n",
       "<text class=\"displacy-token\" fill=\"currentColor\" text-anchor=\"middle\" y=\"222.0\">\n",
       "    <tspan class=\"displacy-word\" fill=\"currentColor\" x=\"400\">no</tspan>\n",
       "    <tspan class=\"displacy-tag\" dy=\"2em\" fill=\"currentColor\" x=\"400\"></tspan>\n",
       "</text>\n",
       "\n",
       "<text class=\"displacy-token\" fill=\"currentColor\" text-anchor=\"middle\" y=\"222.0\">\n",
       "    <tspan class=\"displacy-word\" fill=\"currentColor\" x=\"575\">evidence</tspan>\n",
       "    <tspan class=\"displacy-tag\" dy=\"2em\" fill=\"currentColor\" x=\"575\"></tspan>\n",
       "</text>\n",
       "\n",
       "<text class=\"displacy-token\" fill=\"currentColor\" text-anchor=\"middle\" y=\"222.0\">\n",
       "    <tspan class=\"displacy-word\" fill=\"currentColor\" x=\"750\">of</tspan>\n",
       "    <tspan class=\"displacy-tag\" dy=\"2em\" fill=\"currentColor\" x=\"750\"></tspan>\n",
       "</text>\n",
       "\n",
       "<text class=\"displacy-token\" fill=\"currentColor\" text-anchor=\"middle\" y=\"222.0\">\n",
       "    <tspan class=\"displacy-word\" fill=\"currentColor\" x=\"925\">pneumonia</tspan>\n",
       "    <tspan class=\"displacy-tag\" dy=\"2em\" fill=\"currentColor\" x=\"925\"></tspan>\n",
       "</text>\n",
       "\n",
       "<text class=\"displacy-token\" fill=\"currentColor\" text-anchor=\"middle\" y=\"222.0\">\n",
       "    <tspan class=\"displacy-word\" fill=\"currentColor\" x=\"1100\">or</tspan>\n",
       "    <tspan class=\"displacy-tag\" dy=\"2em\" fill=\"currentColor\" x=\"1100\"></tspan>\n",
       "</text>\n",
       "\n",
       "<text class=\"displacy-token\" fill=\"currentColor\" text-anchor=\"middle\" y=\"222.0\">\n",
       "    <tspan class=\"displacy-word\" fill=\"currentColor\" x=\"1275\">asthma</tspan>\n",
       "    <tspan class=\"displacy-tag\" dy=\"2em\" fill=\"currentColor\" x=\"1275\"></tspan>\n",
       "</text>\n",
       "\n",
       "<text class=\"displacy-token\" fill=\"currentColor\" text-anchor=\"middle\" y=\"222.0\">\n",
       "    <tspan class=\"displacy-word\" fill=\"currentColor\" x=\"1450\">but</tspan>\n",
       "    <tspan class=\"displacy-tag\" dy=\"2em\" fill=\"currentColor\" x=\"1450\"></tspan>\n",
       "</text>\n",
       "\n",
       "<text class=\"displacy-token\" fill=\"currentColor\" text-anchor=\"middle\" y=\"222.0\">\n",
       "    <tspan class=\"displacy-word\" fill=\"currentColor\" x=\"1625\">there</tspan>\n",
       "    <tspan class=\"displacy-tag\" dy=\"2em\" fill=\"currentColor\" x=\"1625\"></tspan>\n",
       "</text>\n",
       "\n",
       "<text class=\"displacy-token\" fill=\"currentColor\" text-anchor=\"middle\" y=\"222.0\">\n",
       "    <tspan class=\"displacy-word\" fill=\"currentColor\" x=\"1800\">is</tspan>\n",
       "    <tspan class=\"displacy-tag\" dy=\"2em\" fill=\"currentColor\" x=\"1800\"></tspan>\n",
       "</text>\n",
       "\n",
       "<text class=\"displacy-token\" fill=\"currentColor\" text-anchor=\"middle\" y=\"222.0\">\n",
       "    <tspan class=\"displacy-word\" fill=\"currentColor\" x=\"1975\">angina</tspan>\n",
       "    <tspan class=\"displacy-tag\" dy=\"2em\" fill=\"currentColor\" x=\"1975\"></tspan>\n",
       "</text>\n",
       "\n",
       "<text class=\"displacy-token\" fill=\"currentColor\" text-anchor=\"middle\" y=\"222.0\">\n",
       "    <tspan class=\"displacy-word\" fill=\"currentColor\" x=\"2150\">.</tspan>\n",
       "    <tspan class=\"displacy-tag\" dy=\"2em\" fill=\"currentColor\" x=\"2150\"></tspan>\n",
       "</text>\n",
       "\n",
       "<g class=\"displacy-arrow\">\n",
       "    <path class=\"displacy-arc\" id=\"arrow-ec02c095feb4423aaea36e1e510655e5-0-0\" stroke-width=\"2px\" d=\"M420,177.0 C420,89.5 920.0,89.5 920.0,177.0\" fill=\"none\" stroke=\"currentColor\"/>\n",
       "    <text dy=\"1.25em\" style=\"font-size: 0.8em; letter-spacing: 1px\">\n",
       "        <textPath xlink:href=\"#arrow-ec02c095feb4423aaea36e1e510655e5-0-0\" class=\"displacy-label\" startOffset=\"50%\" side=\"left\" fill=\"currentColor\" text-anchor=\"middle\">DEFINITE_NEGATED_EXISTENCE</textPath>\n",
       "    </text>\n",
       "    <path class=\"displacy-arrowhead\" d=\"M920.0,179.0 L928.0,167.0 912.0,167.0\" fill=\"currentColor\"/>\n",
       "</g>\n",
       "\n",
       "<g class=\"displacy-arrow\">\n",
       "    <path class=\"displacy-arc\" id=\"arrow-ec02c095feb4423aaea36e1e510655e5-0-1\" stroke-width=\"2px\" d=\"M420,177.0 C420,2.0 1275.0,2.0 1275.0,177.0\" fill=\"none\" stroke=\"currentColor\"/>\n",
       "    <text dy=\"1.25em\" style=\"font-size: 0.8em; letter-spacing: 1px\">\n",
       "        <textPath xlink:href=\"#arrow-ec02c095feb4423aaea36e1e510655e5-0-1\" class=\"displacy-label\" startOffset=\"50%\" side=\"left\" fill=\"currentColor\" text-anchor=\"middle\">DEFINITE_NEGATED_EXISTENCE</textPath>\n",
       "    </text>\n",
       "    <path class=\"displacy-arrowhead\" d=\"M1275.0,179.0 L1283.0,167.0 1267.0,167.0\" fill=\"currentColor\"/>\n",
       "</g>\n",
       "</svg>"
      ],
      "text/plain": [
       "<IPython.core.display.HTML object>"
      ]
     },
     "metadata": {},
     "output_type": "display_data"
    }
   ],
   "source": [
    "visualize_modifiers(docs[0])"
   ]
  },
  {
   "cell_type": "code",
   "execution_count": null,
   "metadata": {},
   "outputs": [],
   "source": []
  }
 ],
 "metadata": {
  "kernelspec": {
   "display_name": "Python 3",
   "language": "python",
   "name": "python3"
  },
  "language_info": {
   "codemirror_mode": {
    "name": "ipython",
    "version": 3
   },
   "file_extension": ".py",
   "mimetype": "text/x-python",
   "name": "python",
   "nbconvert_exporter": "python",
   "pygments_lexer": "ipython3",
   "version": "3.7.3"
  }
 },
 "nbformat": 4,
 "nbformat_minor": 2
}

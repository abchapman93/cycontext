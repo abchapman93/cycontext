{
 "cells": [
  {
   "cell_type": "code",
   "execution_count": 1,
   "metadata": {},
   "outputs": [],
   "source": [
    "import os, sys, glob\n",
    "import spacy\n",
    "import pandas as pd\n",
    "\n",
    "from spacy.pipeline import EntityRuler"
   ]
  },
  {
   "cell_type": "code",
   "execution_count": 2,
   "metadata": {},
   "outputs": [],
   "source": [
    "sys.path.append('..')"
   ]
  },
  {
   "cell_type": "code",
   "execution_count": 3,
   "metadata": {},
   "outputs": [],
   "source": [
    "from cycontext.item_data import ItemData\n",
    "from cycontext.tag_object import TagObject\n",
    "from cycontext.context_component import ConTextComponent"
   ]
  },
  {
   "cell_type": "code",
   "execution_count": 4,
   "metadata": {},
   "outputs": [],
   "source": [
    "%load_ext autoreload\n",
    "%autoreload 2"
   ]
  },
  {
   "cell_type": "code",
   "execution_count": 5,
   "metadata": {},
   "outputs": [],
   "source": [
    "nlp = spacy.load(\"en_core_web_sm\")\n",
    "_ = nlp.remove_pipe(\"ner\")"
   ]
  },
  {
   "cell_type": "markdown",
   "metadata": {},
   "source": [
    "# Overview\n",
    "- Read in data\n",
    "- Read in modifiers"
   ]
  },
  {
   "cell_type": "markdown",
   "metadata": {},
   "source": [
    "# I. Read in Knowledge Base"
   ]
  },
  {
   "cell_type": "markdown",
   "metadata": {},
   "source": [
    "## I.I Targets"
   ]
  },
  {
   "cell_type": "code",
   "execution_count": 6,
   "metadata": {},
   "outputs": [],
   "source": [
    "targets_filepath = os.path.join(\".\", \"pneumonia\", \"kb\", \"pneumonia_targets.tsv\")\n",
    "targets_df = pd.read_csv(targets_filepath, sep=\"\\t\")"
   ]
  },
  {
   "cell_type": "code",
   "execution_count": 7,
   "metadata": {},
   "outputs": [
    {
     "data": {
      "text/html": [
       "<div>\n",
       "<style scoped>\n",
       "    .dataframe tbody tr th:only-of-type {\n",
       "        vertical-align: middle;\n",
       "    }\n",
       "\n",
       "    .dataframe tbody tr th {\n",
       "        vertical-align: top;\n",
       "    }\n",
       "\n",
       "    .dataframe thead th {\n",
       "        text-align: right;\n",
       "    }\n",
       "</style>\n",
       "<table border=\"1\" class=\"dataframe\">\n",
       "  <thead>\n",
       "    <tr style=\"text-align: right;\">\n",
       "      <th></th>\n",
       "      <th>Lex</th>\n",
       "      <th>Type</th>\n",
       "      <th>Regex</th>\n",
       "      <th>Direction</th>\n",
       "      <th>Codes</th>\n",
       "    </tr>\n",
       "  </thead>\n",
       "  <tbody>\n",
       "    <tr>\n",
       "      <th>0</th>\n",
       "      <td>pneumonia</td>\n",
       "      <td>EVIDENCE_OF_PNEUMONIA</td>\n",
       "      <td>pneumonias?</td>\n",
       "      <td>NaN</td>\n",
       "      <td>NaN</td>\n",
       "    </tr>\n",
       "    <tr>\n",
       "      <th>1</th>\n",
       "      <td>pneumonia</td>\n",
       "      <td>EVIDENCE_OF_PNEUMONIA</td>\n",
       "      <td>pna</td>\n",
       "      <td>NaN</td>\n",
       "      <td>NaN</td>\n",
       "    </tr>\n",
       "    <tr>\n",
       "      <th>2</th>\n",
       "      <td>consolidation</td>\n",
       "      <td>EVIDENCE_OF_PNEUMONIA</td>\n",
       "      <td>NaN</td>\n",
       "      <td>NaN</td>\n",
       "      <td>NaN</td>\n",
       "    </tr>\n",
       "    <tr>\n",
       "      <th>3</th>\n",
       "      <td>infiltrate</td>\n",
       "      <td>EVIDENCE_OF_PNEUMONIA</td>\n",
       "      <td>infiltrat(e|es|ion)</td>\n",
       "      <td>NaN</td>\n",
       "      <td>NaN</td>\n",
       "    </tr>\n",
       "    <tr>\n",
       "      <th>4</th>\n",
       "      <td>effusion</td>\n",
       "      <td>EVIDENCE_OF_PNEUMONIA</td>\n",
       "      <td>effusion</td>\n",
       "      <td>NaN</td>\n",
       "      <td>NaN</td>\n",
       "    </tr>\n",
       "  </tbody>\n",
       "</table>\n",
       "</div>"
      ],
      "text/plain": [
       "             Lex                   Type                Regex  Direction  Codes\n",
       "0      pneumonia  EVIDENCE_OF_PNEUMONIA          pneumonias?        NaN    NaN\n",
       "1      pneumonia  EVIDENCE_OF_PNEUMONIA                  pna        NaN    NaN\n",
       "2  consolidation  EVIDENCE_OF_PNEUMONIA                  NaN        NaN    NaN\n",
       "3     infiltrate  EVIDENCE_OF_PNEUMONIA  infiltrat(e|es|ion)        NaN    NaN\n",
       "4       effusion  EVIDENCE_OF_PNEUMONIA             effusion        NaN    NaN"
      ]
     },
     "execution_count": 7,
     "metadata": {},
     "output_type": "execute_result"
    }
   ],
   "source": [
    "targets_df.head()"
   ]
  },
  {
   "cell_type": "code",
   "execution_count": null,
   "metadata": {},
   "outputs": [],
   "source": []
  },
  {
   "cell_type": "code",
   "execution_count": 8,
   "metadata": {},
   "outputs": [],
   "source": [
    "target_patterns = []\n",
    "for i, row in targets_df.fillna('').iterrows():\n",
    "    literal = row[\"Lex\"]\n",
    "    category = row[\"Type\"]\n",
    "    regex = row[\"Regex\"]\n",
    "    \n",
    "    if regex == '':\n",
    "        pattern = [{\"LOWER\": literal}]\n",
    "    else:\n",
    "        pattern = [{\"LOWER\": {\"REGEX\": regex}}]\n",
    "    target_patterns.append({\"label\": category, \"pattern\": pattern})\n"
   ]
  },
  {
   "cell_type": "code",
   "execution_count": 9,
   "metadata": {},
   "outputs": [],
   "source": [
    "# Use the EntityRuler class for rule-based NER\n",
    "ruler = EntityRuler(nlp, overwrite_ents=True)\n",
    "ruler.add_patterns(target_patterns)"
   ]
  },
  {
   "cell_type": "code",
   "execution_count": 10,
   "metadata": {},
   "outputs": [],
   "source": [
    "try:\n",
    "    _ = nlp.remove_pipe(\"entity_ruler\")\n",
    "except:\n",
    "    pass\n",
    "nlp.add_pipe(ruler)"
   ]
  },
  {
   "cell_type": "markdown",
   "metadata": {},
   "source": [
    "## I.II Modifiers"
   ]
  },
  {
   "cell_type": "code",
   "execution_count": 11,
   "metadata": {},
   "outputs": [],
   "source": [
    "filepath = os.path.join(\".\", \"pneumonia\", \"kb\", \"pneumonia_modifiers.json\")"
   ]
  },
  {
   "cell_type": "code",
   "execution_count": 12,
   "metadata": {},
   "outputs": [],
   "source": [
    "import json\n",
    "with open(filepath) as f:\n",
    "    modifier_data = json.load(f)"
   ]
  },
  {
   "cell_type": "code",
   "execution_count": 13,
   "metadata": {},
   "outputs": [
    {
     "data": {
      "text/plain": [
       "[{'literal': 'are ruled out',\n",
       "  'category': 'DEFINITE_NEGATED_EXISTENCE',\n",
       "  'pattern': None,\n",
       "  'rule': 'backward'},\n",
       " {'literal': 'be ruled out',\n",
       "  'category': 'INDICATION',\n",
       "  'pattern': None,\n",
       "  'rule': 'backward'},\n",
       " {'literal': 'being ruled out',\n",
       "  'category': 'INDICATION',\n",
       "  'pattern': None,\n",
       "  'rule': 'backward'},\n",
       " {'literal': 'can be ruled out',\n",
       "  'category': 'DEFINITE_NEGATED_EXISTENCE',\n",
       "  'pattern': None,\n",
       "  'rule': 'backward'},\n",
       " {'literal': 'cannot be excluded',\n",
       "  'category': 'AMBIVALENT_EXISTENCE',\n",
       "  'pattern': None,\n",
       "  'rule': 'backward'},\n",
       " {'literal': 'cannot totally be excluded',\n",
       "  'category': 'PROBABLE_NEGATED_EXISTENCE',\n",
       "  'pattern': None,\n",
       "  'rule': 'backward'},\n",
       " {'literal': 'could be ruled out',\n",
       "  'category': 'DEFINITE_NEGATED_EXISTENCE',\n",
       "  'pattern': None,\n",
       "  'rule': 'backward'},\n",
       " {'literal': 'examination',\n",
       "  'category': 'INDICATION',\n",
       "  'pattern': [{'LOWER': {'REGEX': '(examination|exam|study)'}}],\n",
       "  'rule': 'backward'},\n",
       " {'literal': 'free',\n",
       "  'category': 'DEFINITE_NEGATED_EXISTENCE',\n",
       "  'pattern': None,\n",
       "  'rule': 'backward'},\n",
       " {'literal': 'has been ruled out',\n",
       "  'category': 'DEFINITE_NEGATED_EXISTENCE',\n",
       "  'pattern': None,\n",
       "  'rule': 'backward'}]"
      ]
     },
     "execution_count": 13,
     "metadata": {},
     "output_type": "execute_result"
    }
   ],
   "source": [
    "modifier_data[\"patterns\"][:10]"
   ]
  },
  {
   "cell_type": "code",
   "execution_count": 14,
   "metadata": {},
   "outputs": [],
   "source": [
    "item_data = []\n",
    "for data in modifier_data[\"patterns\"]:\n",
    "    item = ItemData(**data)\n",
    "    item_data.append(item)"
   ]
  },
  {
   "cell_type": "code",
   "execution_count": 15,
   "metadata": {
    "scrolled": true
   },
   "outputs": [
    {
     "data": {
      "text/plain": [
       "[ItemData: [are ruled out, definite_negated_existence, None, backward],\n",
       " ItemData: [be ruled out, indication, None, backward],\n",
       " ItemData: [being ruled out, indication, None, backward],\n",
       " ItemData: [can be ruled out, definite_negated_existence, None, backward],\n",
       " ItemData: [cannot be excluded, ambivalent_existence, None, backward],\n",
       " ItemData: [cannot totally be excluded, probable_negated_existence, None, backward],\n",
       " ItemData: [could be ruled out, definite_negated_existence, None, backward],\n",
       " ItemData: [examination, indication, [{'LOWER': {'REGEX': '(examination|exam|study)'}}], backward],\n",
       " ItemData: [free, definite_negated_existence, None, backward],\n",
       " ItemData: [has been ruled out, definite_negated_existence, None, backward]]"
      ]
     },
     "execution_count": 15,
     "metadata": {},
     "output_type": "execute_result"
    }
   ],
   "source": [
    "item_data[:10]"
   ]
  },
  {
   "cell_type": "markdown",
   "metadata": {},
   "source": [
    "# II. Read Data"
   ]
  },
  {
   "cell_type": "code",
   "execution_count": 16,
   "metadata": {},
   "outputs": [],
   "source": [
    "txt_files = glob.glob(os.path.join(\".\", \"pneumonia\", \"training_v2\", \"*.txt\"))"
   ]
  },
  {
   "cell_type": "code",
   "execution_count": 17,
   "metadata": {},
   "outputs": [],
   "source": [
    "texts = []\n",
    "for file in txt_files:\n",
    "    texts.append(open(file).read())"
   ]
  },
  {
   "cell_type": "code",
   "execution_count": null,
   "metadata": {},
   "outputs": [],
   "source": []
  },
  {
   "cell_type": "markdown",
   "metadata": {},
   "source": [
    "# III. Process with NLP"
   ]
  },
  {
   "cell_type": "markdown",
   "metadata": {},
   "source": [
    "## III.II Add ConText"
   ]
  },
  {
   "cell_type": "code",
   "execution_count": 18,
   "metadata": {},
   "outputs": [],
   "source": [
    "context = ConTextComponent(item_data, nlp)"
   ]
  },
  {
   "cell_type": "code",
   "execution_count": 19,
   "metadata": {},
   "outputs": [],
   "source": [
    "try:\n",
    "    nlp.add_pipe(context, last=True)\n",
    "except:\n",
    "    nlp.remove_pipe(\"context\")\n",
    "    nlp.add_pipe(context, last=True)"
   ]
  },
  {
   "cell_type": "markdown",
   "metadata": {},
   "source": [
    "### III.I Custom sentence segmentation\n",
    "The spaCy default works poorly with MIMIC data. Should eventually replace with PyRUSH."
   ]
  },
  {
   "cell_type": "code",
   "execution_count": 20,
   "metadata": {},
   "outputs": [],
   "source": [
    "from nltk.tokenize import PunktSentenceTokenizer"
   ]
  },
  {
   "cell_type": "code",
   "execution_count": 21,
   "metadata": {},
   "outputs": [],
   "source": [
    "class SentenceTokenizer:\n",
    "    \n",
    "    def __init__(self):\n",
    "        self.tokenizer = PunktSentenceTokenizer()\n",
    "        \n",
    "    def __call__(self, doc):\n",
    "        sent_spans = self.tokenizer.span_tokenize(doc.text)\n",
    "        for token in doc:\n",
    "            token.is_sent_start = False\n",
    "        for (start, end) in sent_spans:\n",
    "            sent = doc.char_span(start, end)\n",
    "            sent[0].is_sent_start = True\n",
    "        return doc"
   ]
  },
  {
   "cell_type": "code",
   "execution_count": 22,
   "metadata": {},
   "outputs": [],
   "source": [
    "sent_tokenizer = SentenceTokenizer()"
   ]
  },
  {
   "cell_type": "code",
   "execution_count": 23,
   "metadata": {},
   "outputs": [],
   "source": [
    "try:\n",
    "    nlp.remove_pipe('set_custom_boundaries')\n",
    "except:\n",
    "    pass\n",
    "nlp.add_pipe(sent_tokenizer, before=\"parser\")"
   ]
  },
  {
   "cell_type": "code",
   "execution_count": 24,
   "metadata": {
    "scrolled": true
   },
   "outputs": [],
   "source": [
    "doc = nlp(texts[12])"
   ]
  },
  {
   "cell_type": "markdown",
   "metadata": {},
   "source": [
    "## 3.3 Process documents"
   ]
  },
  {
   "cell_type": "code",
   "execution_count": 25,
   "metadata": {},
   "outputs": [
    {
     "data": {
      "text/plain": [
       "[('tagger', <spacy.pipeline.pipes.Tagger at 0x110279cf8>),\n",
       " ('SentenceTokenizer', <__main__.SentenceTokenizer at 0x116595400>),\n",
       " ('parser', <spacy.pipeline.pipes.DependencyParser at 0x110408a68>),\n",
       " ('entity_ruler', <spacy.pipeline.entityruler.EntityRuler at 0x11258b198>),\n",
       " ('context', <cycontext.context_component.ConTextComponent at 0x1164d60f0>)]"
      ]
     },
     "execution_count": 25,
     "metadata": {},
     "output_type": "execute_result"
    }
   ],
   "source": [
    "nlp.pipeline"
   ]
  },
  {
   "cell_type": "code",
   "execution_count": 26,
   "metadata": {},
   "outputs": [],
   "source": [
    "docs = list(nlp.pipe(texts))"
   ]
  },
  {
   "cell_type": "markdown",
   "metadata": {},
   "source": [
    "# Visualization"
   ]
  },
  {
   "cell_type": "code",
   "execution_count": 27,
   "metadata": {},
   "outputs": [],
   "source": [
    "from cycontext import viz"
   ]
  },
  {
   "cell_type": "code",
   "execution_count": 28,
   "metadata": {},
   "outputs": [],
   "source": [
    "from spacy import displacy"
   ]
  },
  {
   "cell_type": "code",
   "execution_count": 29,
   "metadata": {},
   "outputs": [],
   "source": [
    "doc = docs[41]"
   ]
  },
  {
   "cell_type": "code",
   "execution_count": 30,
   "metadata": {},
   "outputs": [
    {
     "data": {
      "text/plain": [
       "[(infiltrate, <TagObject> [Reason, indication]),\n",
       " (PNA, <TagObject> [Reason, indication]),\n",
       " (infiltrate, <TagObject> [REASON FOR THIS EXAMINATION, indication]),\n",
       " (pneumonia, <TagObject> [consistent with, definite_existence])]"
      ]
     },
     "execution_count": 30,
     "metadata": {},
     "output_type": "execute_result"
    }
   ],
   "source": [
    "doc._.context_graph.edges"
   ]
  },
  {
   "cell_type": "code",
   "execution_count": 31,
   "metadata": {
    "scrolled": false
   },
   "outputs": [
    {
     "data": {
      "text/html": [
       "<div class=\"entities\" style=\"line-height: 2.5; direction: ltr\"></br></br></br>     DATE: [**2621-6-11**] 7:45 PM</br>     CHEST (PORTABLE AP)                                             Clip # [**Clip Number (Radiology) 6386**]</br>     \n",
       "<mark class=\"entity\" style=\"background: #ddd; padding: 0.45em 0.6em; margin: 0 0.25em; line-height: 1; border-radius: 0.35em;\">\n",
       "    Reason\n",
       "    <span style=\"font-size: 0.8em; font-weight: bold; line-height: 1; border-radius: 0.35em; text-transform: uppercase; vertical-align: middle; margin-left: 0.5rem\">indication</span>\n",
       "</mark>\n",
       ": evalaute for \n",
       "<mark class=\"entity\" style=\"background: orange; padding: 0.45em 0.6em; margin: 0 0.25em; line-height: 1; border-radius: 0.35em;\">\n",
       "    infiltrate\n",
       "    <span style=\"font-size: 0.8em; font-weight: bold; line-height: 1; border-radius: 0.35em; text-transform: uppercase; vertical-align: middle; margin-left: 0.5rem\">EVIDENCE_OF_PNEUMONIA</span>\n",
       "</mark>\n",
       ", line placement                     </br>     Admitting Diagnosis: FAILURE TO WEAN</br>     ______________________________________________________________________________</br>     UNDERLYING MEDICAL CONDITION:</br>      67 year old woman with \n",
       "<mark class=\"entity\" style=\"background: orange; padding: 0.45em 0.6em; margin: 0 0.25em; line-height: 1; border-radius: 0.35em;\">\n",
       "    PNA\n",
       "    <span style=\"font-size: 0.8em; font-weight: bold; line-height: 1; border-radius: 0.35em; text-transform: uppercase; vertical-align: middle; margin-left: 0.5rem\">EVIDENCE_OF_PNEUMONIA</span>\n",
       "</mark>\n",
       ", transferred from OSH for failure to wean.           </br>     \n",
       "<mark class=\"entity\" style=\"background: #ddd; padding: 0.45em 0.6em; margin: 0 0.25em; line-height: 1; border-radius: 0.35em;\">\n",
       "    REASON FOR THIS EXAMINATION\n",
       "    <span style=\"font-size: 0.8em; font-weight: bold; line-height: 1; border-radius: 0.35em; text-transform: uppercase; vertical-align: middle; margin-left: 0.5rem\">indication</span>\n",
       "</mark>\n",
       ":</br>      evalaute for \n",
       "<mark class=\"entity\" style=\"background: orange; padding: 0.45em 0.6em; margin: 0 0.25em; line-height: 1; border-radius: 0.35em;\">\n",
       "    infiltrate\n",
       "    <span style=\"font-size: 0.8em; font-weight: bold; line-height: 1; border-radius: 0.35em; text-transform: uppercase; vertical-align: middle; margin-left: 0.5rem\">EVIDENCE_OF_PNEUMONIA</span>\n",
       "</mark>\n",
       ", line placement                                         </br>     ______________________________________________________________________________</br>                                     FINAL REPORT</br>     INDICATIONS:  Line placement. </br>     </br>     PORTABLE AP CHEST:  No prior studies are available for comparison.</br>     </br>     There is placement of ET tube, with the distal tip about 2.5 cm above the</br>     carina.  Also noted is a right subclavian central line, with the tip in the</br>     distal SVC.  There is no evidence of pneumothorax.  There is \n",
       "<mark class=\"entity\" style=\"background: orange; padding: 0.45em 0.6em; margin: 0 0.25em; line-height: 1; border-radius: 0.35em;\">\n",
       "    opacity\n",
       "    <span style=\"font-size: 0.8em; font-weight: bold; line-height: 1; border-radius: 0.35em; text-transform: uppercase; vertical-align: middle; margin-left: 0.5rem\">EVIDENCE_OF_PNEUMONIA</span>\n",
       "</mark>\n",
       " in the</br>     right upper lobe with right minor fissure slightly elevated, consistent with a</br>     slight volume loss of the right upper lobe.  Also noted is  mild prominence of</br>     pulmonary vasculature along with some upper zone redistribution.  There are</br>     bilateral pleural \n",
       "<mark class=\"entity\" style=\"background: orange; padding: 0.45em 0.6em; margin: 0 0.25em; line-height: 1; border-radius: 0.35em;\">\n",
       "    effusions\n",
       "    <span style=\"font-size: 0.8em; font-weight: bold; line-height: 1; border-radius: 0.35em; text-transform: uppercase; vertical-align: middle; margin-left: 0.5rem\">EVIDENCE_OF_PNEUMONIA</span>\n",
       "</mark>\n",
       " noted.  The right and the left hemidiaphragms are</br>     not well visualized which most likely represents atelectasis at the bases</br>     bilaterally. The heart is upper limits of normal in size. Visualized osseous</br>     structures appear unremarkable.</br>     </br>     IMPRESSION:</br>     </br>     1.  Findings \n",
       "<mark class=\"entity\" style=\"background: #ddd; padding: 0.45em 0.6em; margin: 0 0.25em; line-height: 1; border-radius: 0.35em;\">\n",
       "    consistent with\n",
       "    <span style=\"font-size: 0.8em; font-weight: bold; line-height: 1; border-radius: 0.35em; text-transform: uppercase; vertical-align: middle; margin-left: 0.5rem\">definite_existence</span>\n",
       "</mark>\n",
       " right upper lobe \n",
       "<mark class=\"entity\" style=\"background: orange; padding: 0.45em 0.6em; margin: 0 0.25em; line-height: 1; border-radius: 0.35em;\">\n",
       "    pneumonia\n",
       "    <span style=\"font-size: 0.8em; font-weight: bold; line-height: 1; border-radius: 0.35em; text-transform: uppercase; vertical-align: middle; margin-left: 0.5rem\">EVIDENCE_OF_PNEUMONIA</span>\n",
       "</mark>\n",
       " with mild component</br>     of volume loss. Follow up study is recommended to ensure resolution and to</br>     exclude an obstructing lesion.</br>     </br>     2.  Mild CHF with bilateral small pleural \n",
       "<mark class=\"entity\" style=\"background: orange; padding: 0.45em 0.6em; margin: 0 0.25em; line-height: 1; border-radius: 0.35em;\">\n",
       "    effusions\n",
       "    <span style=\"font-size: 0.8em; font-weight: bold; line-height: 1; border-radius: 0.35em; text-transform: uppercase; vertical-align: middle; margin-left: 0.5rem\">EVIDENCE_OF_PNEUMONIA</span>\n",
       "</mark>\n",
       " noted.\n",
       "     \n",
       "     3.  Placement of ET tube and right subclavian central line, both of which are\n",
       "     in good position. No evidence of pneumothorax.\n",
       "     \n",
       "     \n",
       "     \n",
       "\n",
       "</div>"
      ],
      "text/plain": [
       "<IPython.core.display.HTML object>"
      ]
     },
     "metadata": {},
     "output_type": "display_data"
    }
   ],
   "source": [
    "viz.visualize_targets(doc\n",
    "                     , colors ={\"EVIDENCE_OF_PNEUMONIA\": \"orange\",\n",
    "                                          \"DEFINITE_NEGATED_EXISTENCE\": \"blue\",\n",
    "                               \"indication\": \"yellow\"})"
   ]
  },
  {
   "cell_type": "code",
   "execution_count": 32,
   "metadata": {},
   "outputs": [],
   "source": [
    "doc = nlp(\"Evaluate for pneumonia and effusion\")"
   ]
  },
  {
   "cell_type": "code",
   "execution_count": 33,
   "metadata": {},
   "outputs": [],
   "source": [
    "# doc = nlp(list(doc.sents)[-3].text)"
   ]
  },
  {
   "cell_type": "code",
   "execution_count": 34,
   "metadata": {},
   "outputs": [
    {
     "data": {
      "text/plain": [
       "[<TagObject> [Evaluate for, indication]]"
      ]
     },
     "execution_count": 34,
     "metadata": {},
     "output_type": "execute_result"
    }
   ],
   "source": [
    "doc._.context_graph.modifiers"
   ]
  },
  {
   "cell_type": "code",
   "execution_count": 35,
   "metadata": {},
   "outputs": [
    {
     "data": {
      "text/plain": [
       "[(pneumonia, <TagObject> [Evaluate for, indication]),\n",
       " (effusion, <TagObject> [Evaluate for, indication])]"
      ]
     },
     "execution_count": 35,
     "metadata": {},
     "output_type": "execute_result"
    }
   ],
   "source": [
    "doc._.context_graph.edges"
   ]
  },
  {
   "cell_type": "code",
   "execution_count": 36,
   "metadata": {},
   "outputs": [
    {
     "data": {
      "text/html": [
       "<svg xmlns=\"http://www.w3.org/2000/svg\" xmlns:xlink=\"http://www.w3.org/1999/xlink\" xml:lang=\"en\" id=\"a972cbeea4294bc68ce232549774fb1e-0\" class=\"displacy\" width=\"925\" height=\"312.0\" direction=\"ltr\" style=\"max-width: none; height: 312.0px; color: #000000; background: #ffffff; font-family: Arial; direction: ltr\">\n",
       "<text class=\"displacy-token\" fill=\"currentColor\" text-anchor=\"middle\" y=\"222.0\">\n",
       "    <tspan class=\"displacy-word\" fill=\"currentColor\" x=\"50\">Evaluate</tspan>\n",
       "    <tspan class=\"displacy-tag\" dy=\"2em\" fill=\"currentColor\" x=\"50\"></tspan>\n",
       "</text>\n",
       "\n",
       "<text class=\"displacy-token\" fill=\"currentColor\" text-anchor=\"middle\" y=\"222.0\">\n",
       "    <tspan class=\"displacy-word\" fill=\"currentColor\" x=\"225\">for</tspan>\n",
       "    <tspan class=\"displacy-tag\" dy=\"2em\" fill=\"currentColor\" x=\"225\"></tspan>\n",
       "</text>\n",
       "\n",
       "<text class=\"displacy-token\" fill=\"currentColor\" text-anchor=\"middle\" y=\"222.0\">\n",
       "    <tspan class=\"displacy-word\" fill=\"currentColor\" x=\"400\">pneumonia</tspan>\n",
       "    <tspan class=\"displacy-tag\" dy=\"2em\" fill=\"currentColor\" x=\"400\">EVIDENCE_OF_PNEUMONIA</tspan>\n",
       "</text>\n",
       "\n",
       "<text class=\"displacy-token\" fill=\"currentColor\" text-anchor=\"middle\" y=\"222.0\">\n",
       "    <tspan class=\"displacy-word\" fill=\"currentColor\" x=\"575\">and</tspan>\n",
       "    <tspan class=\"displacy-tag\" dy=\"2em\" fill=\"currentColor\" x=\"575\"></tspan>\n",
       "</text>\n",
       "\n",
       "<text class=\"displacy-token\" fill=\"currentColor\" text-anchor=\"middle\" y=\"222.0\">\n",
       "    <tspan class=\"displacy-word\" fill=\"currentColor\" x=\"750\">effusion</tspan>\n",
       "    <tspan class=\"displacy-tag\" dy=\"2em\" fill=\"currentColor\" x=\"750\">EVIDENCE_OF_PNEUMONIA</tspan>\n",
       "</text>\n",
       "\n",
       "<g class=\"displacy-arrow\">\n",
       "    <path class=\"displacy-arc\" id=\"arrow-a972cbeea4294bc68ce232549774fb1e-0-0\" stroke-width=\"2px\" d=\"M70,177.0 C70,89.5 395.0,89.5 395.0,177.0\" fill=\"none\" stroke=\"currentColor\"/>\n",
       "    <text dy=\"1.25em\" style=\"font-size: 0.8em; letter-spacing: 1px\">\n",
       "        <textPath xlink:href=\"#arrow-a972cbeea4294bc68ce232549774fb1e-0-0\" class=\"displacy-label\" startOffset=\"50%\" side=\"left\" fill=\"currentColor\" text-anchor=\"middle\">indication</textPath>\n",
       "    </text>\n",
       "    <path class=\"displacy-arrowhead\" d=\"M395.0,179.0 L403.0,167.0 387.0,167.0\" fill=\"currentColor\"/>\n",
       "</g>\n",
       "\n",
       "<g class=\"displacy-arrow\">\n",
       "    <path class=\"displacy-arc\" id=\"arrow-a972cbeea4294bc68ce232549774fb1e-0-1\" stroke-width=\"2px\" d=\"M70,177.0 C70,2.0 750.0,2.0 750.0,177.0\" fill=\"none\" stroke=\"currentColor\"/>\n",
       "    <text dy=\"1.25em\" style=\"font-size: 0.8em; letter-spacing: 1px\">\n",
       "        <textPath xlink:href=\"#arrow-a972cbeea4294bc68ce232549774fb1e-0-1\" class=\"displacy-label\" startOffset=\"50%\" side=\"left\" fill=\"currentColor\" text-anchor=\"middle\">indication</textPath>\n",
       "    </text>\n",
       "    <path class=\"displacy-arrowhead\" d=\"M750.0,179.0 L758.0,167.0 742.0,167.0\" fill=\"currentColor\"/>\n",
       "</g>\n",
       "</svg>"
      ],
      "text/plain": [
       "<IPython.core.display.HTML object>"
      ]
     },
     "metadata": {},
     "output_type": "display_data"
    }
   ],
   "source": [
    "viz.visualize_modifiers(doc)"
   ]
  },
  {
   "cell_type": "code",
   "execution_count": null,
   "metadata": {},
   "outputs": [],
   "source": []
  }
 ],
 "metadata": {
  "kernelspec": {
   "display_name": "Python 3",
   "language": "python",
   "name": "python3"
  },
  "language_info": {
   "codemirror_mode": {
    "name": "ipython",
    "version": 3
   },
   "file_extension": ".py",
   "mimetype": "text/x-python",
   "name": "python",
   "nbconvert_exporter": "python",
   "pygments_lexer": "ipython3",
   "version": "3.7.3"
  }
 },
 "nbformat": 4,
 "nbformat_minor": 2
}

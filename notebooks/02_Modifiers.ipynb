{
 "cells": [
  {
   "cell_type": "markdown",
   "metadata": {},
   "source": [
    "# Overview\n",
    "\n",
    "\n",
    "In this notebook, we'll dive deeper into the `ConTextItem` and `TagObject` classes which represent the modifiers in a document."
   ]
  },
  {
   "cell_type": "code",
   "execution_count": 1,
   "metadata": {},
   "outputs": [],
   "source": [
    "import spacy\n",
    "\n",
    "from cycontext import ConTextItem, ConTextComponent"
   ]
  },
  {
   "cell_type": "code",
   "execution_count": 2,
   "metadata": {},
   "outputs": [],
   "source": [
    "nlp = spacy.load(\"en_core_web_sm\")"
   ]
  },
  {
   "cell_type": "markdown",
   "metadata": {},
   "source": [
    "# Modifiers\n",
    "## ConTextItem\n",
    "The knowledge base of cycontext is defined by ConTextItem objects. A ConTextItem is instantiated with the following parameters:\n",
    "\n",
    "- **literal**: An exact phrase which represents a concept. If no rule is provided, this phrase will be lower-cased and matched against the lower-case clinical document\n",
    "- **category**: The semantic class of a modifier, such as **\"DEFINITE_NEGATED_EXISTENCE\"** or **\"HISTORICAL\"**\n",
    "- **rule**: The directionality of a modifier. Either **\"FORWARD\"**, **\"BACKWARD\"**, **\"BIDIRECTIONAL\"**, or **\"TERMINATE\"**\n",
    "- **pattern** (opt): A list defining a spaCy matching rule\n",
    "- **metadata** (opt): An optional dict of additional data to store with the ConTextItem, such as SNOMED codes or custom attributes.\n",
    "\n",
    "## TagObject\n",
    "\n",
    "When a ConTextItem is matched to a string of text, it generates a `TagObject` which is stored in `doc._.context_graph.modifiers`. If it modifies any targets, these relationships can be found as tuples in `doc._.context_graph.edges`. The TagObject also contains a reference to the original ConTextItem.\n",
    "\n",
    "In addition to the attributes of the original ItemData such as **literal** and **category**, a TagObject contains the following attributes:\n",
    "- **span**: The spaCy Span of the matched text\n",
    "- **scope**: The spaCy Span of the Doc which is within the TagObject's scope. Any targets in this scope will be modified by the TagObject\n",
    "- **start**: Start index\n",
    "- **end**: End index (non-inclusive)"
   ]
  },
  {
   "cell_type": "markdown",
   "metadata": {},
   "source": [
    "# Examples"
   ]
  },
  {
   "cell_type": "markdown",
   "metadata": {},
   "source": [
    "## Example 1: Basic Usage\n",
    "This example demonstrates the objects and attributes described above."
   ]
  },
  {
   "cell_type": "code",
   "execution_count": 3,
   "metadata": {},
   "outputs": [],
   "source": [
    "item_data = [ConTextItem(literal=\"no evidence of\", category=\"DEFINITE_NEGATED_EXISTENCE\", rule=\"forward\")]"
   ]
  },
  {
   "cell_type": "code",
   "execution_count": 4,
   "metadata": {},
   "outputs": [],
   "source": [
    "context = ConTextComponent(nlp)\n",
    "\n",
    "context.add(item_data)"
   ]
  },
  {
   "cell_type": "code",
   "execution_count": 5,
   "metadata": {},
   "outputs": [
    {
     "data": {
      "text/plain": [
       "There is no evidence of pneumonia."
      ]
     },
     "execution_count": 5,
     "metadata": {},
     "output_type": "execute_result"
    }
   ],
   "source": [
    "doc = nlp(\"There is no evidence of pneumonia.\")\n",
    "\n",
    "context(doc)"
   ]
  },
  {
   "cell_type": "code",
   "execution_count": 6,
   "metadata": {},
   "outputs": [
    {
     "data": {
      "text/plain": [
       "[<TagObject> [no evidence of, DEFINITE_NEGATED_EXISTENCE]]"
      ]
     },
     "execution_count": 6,
     "metadata": {},
     "output_type": "execute_result"
    }
   ],
   "source": [
    "doc._.context_graph.modifiers"
   ]
  },
  {
   "cell_type": "code",
   "execution_count": 7,
   "metadata": {},
   "outputs": [],
   "source": [
    "tag_object = doc._.context_graph.modifiers[0]"
   ]
  },
  {
   "cell_type": "code",
   "execution_count": 8,
   "metadata": {},
   "outputs": [
    {
     "name": "stdout",
     "output_type": "stream",
     "text": [
      "no evidence of\n",
      "2 5\n"
     ]
    }
   ],
   "source": [
    "print(tag_object.span)\n",
    "print(tag_object.start, tag_object.end)"
   ]
  },
  {
   "cell_type": "code",
   "execution_count": 9,
   "metadata": {},
   "outputs": [
    {
     "name": "stdout",
     "output_type": "stream",
     "text": [
      "pneumonia.\n"
     ]
    }
   ],
   "source": [
    "print(tag_object.scope)"
   ]
  },
  {
   "cell_type": "code",
   "execution_count": 10,
   "metadata": {},
   "outputs": [
    {
     "name": "stdout",
     "output_type": "stream",
     "text": [
      "DEFINITE_NEGATED_EXISTENCE , FORWARD\n"
     ]
    }
   ],
   "source": [
    "print(tag_object.category, \",\", tag_object.rule)\n"
   ]
  },
  {
   "cell_type": "code",
   "execution_count": 11,
   "metadata": {},
   "outputs": [
    {
     "data": {
      "text/plain": [
       "['__class__',\n",
       " '__delattr__',\n",
       " '__dict__',\n",
       " '__dir__',\n",
       " '__doc__',\n",
       " '__eq__',\n",
       " '__format__',\n",
       " '__ge__',\n",
       " '__getattribute__',\n",
       " '__gt__',\n",
       " '__hash__',\n",
       " '__init__',\n",
       " '__init_subclass__',\n",
       " '__le__',\n",
       " '__lt__',\n",
       " '__module__',\n",
       " '__ne__',\n",
       " '__new__',\n",
       " '__reduce__',\n",
       " '__reduce_ex__',\n",
       " '__repr__',\n",
       " '__setattr__',\n",
       " '__sizeof__',\n",
       " '__str__',\n",
       " '__subclasshook__',\n",
       " '__weakref__',\n",
       " '_scope_end',\n",
       " '_scope_start',\n",
       " 'category',\n",
       " 'context_item',\n",
       " 'doc',\n",
       " 'end',\n",
       " 'limit_scope',\n",
       " 'modifies',\n",
       " 'overlaps',\n",
       " 'rule',\n",
       " 'scope',\n",
       " 'set_scope',\n",
       " 'span',\n",
       " 'start',\n",
       " 'update_scope']"
      ]
     },
     "execution_count": 11,
     "metadata": {},
     "output_type": "execute_result"
    }
   ],
   "source": [
    "dir(tag_object)"
   ]
  },
  {
   "cell_type": "code",
   "execution_count": 12,
   "metadata": {},
   "outputs": [
    {
     "name": "stdout",
     "output_type": "stream",
     "text": [
      "ConTextItem(literal='no evidence of', category='DEFINITE_NEGATED_EXISTENCE', pattern=None, rule='FORWARD')\n"
     ]
    }
   ],
   "source": [
    "# The reference to the original ConTextItem\n",
    "print(tag_object.context_item)\n",
    "assert tag_object.context_item is item_data[0]"
   ]
  },
  {
   "cell_type": "markdown",
   "metadata": {},
   "source": [
    "## Example 2: Pattern-matching\n",
    "In this example, we'll use a matching pattern to generate a more flexible matching criteria to match multiple texts with a single ConTextItem. If only `literal` is supplied, the exact phrase is matched in lower case. spaCy offers powerful rule-based matching which operates on each token in a Doc. Matching patterns can use the text, regular expression patterns, linguistic attributes such as part of speech, and operators such as **\"?\"** (0 or 1) or **\"*\"** (0 or more) to match sequences of text. \n",
    "\n",
    "For more detailed information, see spaCy's documentation on rule-based matching: https://spacy.io/usage/rule-based-matching.\n",
    "\n",
    "The ConTextItem below has the same literal, categorym, and rule as our previous example, but it also includes a pattern which allows the tokens \"evidence\" and \"of\" to be optional. This will then match both \"no evidence of\" and \"no\" and assign both spans of text to be negation modifiers."
   ]
  },
  {
   "cell_type": "code",
   "execution_count": 13,
   "metadata": {},
   "outputs": [],
   "source": [
    "item_data = [ConTextItem(literal=\"no evidence of\", \n",
    "                         category=\"DEFINITE_NEGATED_EXISTENCE\", \n",
    "                         rule=\"forward\", \n",
    "                         pattern=[{\"LOWER\": \"no\"}, \n",
    "                                  {\"LOWER\": \"evidence\", \"OP\": \"?\"},\n",
    "                                  {\"LOWER\": \"of\", \"OP\": \"?\"},\n",
    "                                 ]\n",
    "                        )]"
   ]
  },
  {
   "cell_type": "code",
   "execution_count": 14,
   "metadata": {},
   "outputs": [],
   "source": [
    "context = ConTextComponent(nlp)\n",
    "context.add(item_data)"
   ]
  },
  {
   "cell_type": "code",
   "execution_count": 15,
   "metadata": {},
   "outputs": [],
   "source": [
    "texts = [\"THERE IS NO EVIDENCE OF PNEUMONIA.\",\n",
    "        \"There is no CHF.\"]"
   ]
  },
  {
   "cell_type": "code",
   "execution_count": 16,
   "metadata": {},
   "outputs": [],
   "source": [
    "docs = list(nlp.pipe(texts))\n",
    "for doc in docs:\n",
    "    context(doc)"
   ]
  },
  {
   "cell_type": "code",
   "execution_count": 17,
   "metadata": {},
   "outputs": [
    {
     "name": "stdout",
     "output_type": "stream",
     "text": [
      "[<TagObject> [NO EVIDENCE OF, DEFINITE_NEGATED_EXISTENCE]]\n",
      "[<TagObject> [no, DEFINITE_NEGATED_EXISTENCE]]\n"
     ]
    }
   ],
   "source": [
    "for doc in docs:\n",
    "    print(doc._.context_graph.modifiers)"
   ]
  },
  {
   "cell_type": "markdown",
   "metadata": {},
   "source": [
    "Under the hood, these matches are generated using two of spaCy's rule-based matching classes: \n",
    "- **[PhraseMatcher](https://spacy.io/api/phrasematcher)** for literals\n",
    "- **[Matcher](https://spacy.io/api/matcher)** for patterns"
   ]
  },
  {
   "cell_type": "code",
   "execution_count": 18,
   "metadata": {},
   "outputs": [
    {
     "data": {
      "text/plain": [
       "<spacy.matcher.matcher.Matcher at 0x10fa4d8c8>"
      ]
     },
     "execution_count": 18,
     "metadata": {},
     "output_type": "execute_result"
    }
   ],
   "source": [
    "context.matcher"
   ]
  },
  {
   "cell_type": "code",
   "execution_count": 19,
   "metadata": {},
   "outputs": [
    {
     "data": {
      "text/plain": [
       "<spacy.matcher.phrasematcher.PhraseMatcher at 0x111cbe748>"
      ]
     },
     "execution_count": 19,
     "metadata": {},
     "output_type": "execute_result"
    }
   ],
   "source": [
    "context.phrase_matcher"
   ]
  },
  {
   "cell_type": "code",
   "execution_count": null,
   "metadata": {},
   "outputs": [],
   "source": []
  },
  {
   "cell_type": "markdown",
   "metadata": {},
   "source": [
    "## Example 3: Direction\n",
    "The `rule` attribute defines which direction modifiers should operate. If **\"forward\"**, the modifier will modify all targets *after* the TagObject in the sentence. If **\"backward\"**, it will match all targets *before*. If **\"bidirectional\"** it will look both ahead and behind.\n",
    "\n",
    "The scope of a modifier is bounded to be within the same sentence, so no modifier will affect targets in other sentences. This can be problematic in poorly split documents, but it prevents all targets in a document from being incorrectly modified by a ConText item. A scope is also defined by any termination points, which will be shown in the next example."
   ]
  },
  {
   "cell_type": "code",
   "execution_count": 20,
   "metadata": {},
   "outputs": [],
   "source": [
    "item_data = [ConTextItem(\"no evidence of\", \"DEFINITE_NEGATED_EXISTENCE\", \"FORWARD\"),\n",
    "            ConTextItem(\"is ruled out\", \"DEFINITE_NEGATED_EXISTENCE\", \"BACKWARD\"),\n",
    "             ConTextItem(\"unlikely\", \"DEFINITE_NEGATED_EXISTENCE\", \"BIDIRECTIONAL\"),\n",
    "            ]"
   ]
  },
  {
   "cell_type": "code",
   "execution_count": 21,
   "metadata": {},
   "outputs": [],
   "source": [
    "texts = [\"No evidence of pneumonia.\",\n",
    "        \"PE is ruled out\",\n",
    "        \"unlikely to be malignant\", \n",
    "        \"malignancy unlikely\"]"
   ]
  },
  {
   "cell_type": "code",
   "execution_count": 22,
   "metadata": {},
   "outputs": [],
   "source": [
    "docs = nlp.pipe(texts)"
   ]
  },
  {
   "cell_type": "code",
   "execution_count": 23,
   "metadata": {},
   "outputs": [],
   "source": [
    "context = ConTextComponent(nlp)\n",
    "context.add(item_data)"
   ]
  },
  {
   "cell_type": "code",
   "execution_count": 24,
   "metadata": {},
   "outputs": [
    {
     "name": "stdout",
     "output_type": "stream",
     "text": [
      "No evidence of pneumonia.\n",
      "<TagObject> [No evidence of, DEFINITE_NEGATED_EXISTENCE]\n",
      "FORWARD\n",
      "\n",
      "PE is ruled out\n",
      "<TagObject> [is ruled out, DEFINITE_NEGATED_EXISTENCE]\n",
      "BACKWARD\n",
      "\n",
      "unlikely to be malignant\n",
      "<TagObject> [unlikely, DEFINITE_NEGATED_EXISTENCE]\n",
      "BIDIRECTIONAL\n",
      "\n",
      "malignancy unlikely\n",
      "<TagObject> [unlikely, DEFINITE_NEGATED_EXISTENCE]\n",
      "BIDIRECTIONAL\n",
      "\n"
     ]
    }
   ],
   "source": [
    "for doc in docs:\n",
    "    context(doc)\n",
    "    modifier = doc._.context_graph.modifiers[0]\n",
    "    print(doc)\n",
    "    print(modifier)\n",
    "    print(modifier.rule)\n",
    "    print()"
   ]
  },
  {
   "cell_type": "code",
   "execution_count": null,
   "metadata": {},
   "outputs": [],
   "source": []
  },
  {
   "cell_type": "markdown",
   "metadata": {},
   "source": [
    "## Example 4: Termination points\n",
    "As said before, the scope of a modifier is originally set to the entire sentence either before after a TagObject, as defined by the ItemData's `rule` attribute. However, the scope can be modified by **termination points**, which is another TagObject with the rule **\"TERMINATE\"**. For example, in \"There is no evidence of pneumonia but there is CHF\", the negation modifier should modify \"pneumonia\" but not \"CHF\". This can be achieved by defining a ConTextItem to terminate at the word \"but\"."
   ]
  },
  {
   "cell_type": "code",
   "execution_count": 25,
   "metadata": {},
   "outputs": [],
   "source": [
    "text = \"There is no evidence of pneumonia but there is CHF\""
   ]
  },
  {
   "cell_type": "code",
   "execution_count": 26,
   "metadata": {},
   "outputs": [],
   "source": [
    "item_data1 = [ConTextItem(\"no evidence of\", \"DEFINITE_NEGATED_EXISTENCE\", \"FORWARD\")]"
   ]
  },
  {
   "cell_type": "code",
   "execution_count": 27,
   "metadata": {},
   "outputs": [],
   "source": [
    "context = ConTextComponent(nlp, prune=False)\n",
    "context.add(item_data1)"
   ]
  },
  {
   "cell_type": "code",
   "execution_count": 28,
   "metadata": {},
   "outputs": [
    {
     "data": {
      "text/plain": [
       "There is no evidence of pneumonia but there is CHF"
      ]
     },
     "execution_count": 28,
     "metadata": {},
     "output_type": "execute_result"
    }
   ],
   "source": [
    "doc = nlp(text)\n",
    "context(doc)"
   ]
  },
  {
   "cell_type": "code",
   "execution_count": 29,
   "metadata": {},
   "outputs": [
    {
     "data": {
      "text/plain": [
       "<TagObject> [no evidence of, DEFINITE_NEGATED_EXISTENCE]"
      ]
     },
     "execution_count": 29,
     "metadata": {},
     "output_type": "execute_result"
    }
   ],
   "source": [
    "tag_object = doc._.context_graph.modifiers[0]\n",
    "tag_object"
   ]
  },
  {
   "cell_type": "code",
   "execution_count": 30,
   "metadata": {},
   "outputs": [
    {
     "data": {
      "text/plain": [
       "pneumonia but there is CHF"
      ]
     },
     "execution_count": 30,
     "metadata": {},
     "output_type": "execute_result"
    }
   ],
   "source": [
    "# The scope includes both \"pneumonia\" and \"CHF\", so both would be negated\n",
    "tag_object.scope"
   ]
  },
  {
   "cell_type": "code",
   "execution_count": 31,
   "metadata": {},
   "outputs": [],
   "source": [
    "# Now add an additional ConTextItem with \"TERMINATE\"\n",
    "item_data2 = [ConTextItem(\"but\", \"CONJ\", \"TERMINATE\")]"
   ]
  },
  {
   "cell_type": "code",
   "execution_count": 32,
   "metadata": {},
   "outputs": [],
   "source": [
    "context.add(item_data2)"
   ]
  },
  {
   "cell_type": "code",
   "execution_count": 33,
   "metadata": {},
   "outputs": [
    {
     "data": {
      "text/plain": [
       "There is no evidence of pneumonia but there is CHF"
      ]
     },
     "execution_count": 33,
     "metadata": {},
     "output_type": "execute_result"
    }
   ],
   "source": [
    "doc = nlp(text)\n",
    "context(doc)"
   ]
  },
  {
   "cell_type": "code",
   "execution_count": 34,
   "metadata": {},
   "outputs": [
    {
     "data": {
      "text/plain": [
       "<TagObject> [no evidence of, DEFINITE_NEGATED_EXISTENCE]"
      ]
     },
     "execution_count": 34,
     "metadata": {},
     "output_type": "execute_result"
    }
   ],
   "source": [
    "tag_object = doc._.context_graph.modifiers[0]\n",
    "tag_object"
   ]
  },
  {
   "cell_type": "code",
   "execution_count": 35,
   "metadata": {},
   "outputs": [
    {
     "data": {
      "text/plain": [
       "pneumonia"
      ]
     },
     "execution_count": 35,
     "metadata": {},
     "output_type": "execute_result"
    }
   ],
   "source": [
    "# The scope now only encompasses \"pneumonia\"\n",
    "tag_object.scope"
   ]
  },
  {
   "cell_type": "code",
   "execution_count": null,
   "metadata": {},
   "outputs": [],
   "source": []
  },
  {
   "cell_type": "markdown",
   "metadata": {},
   "source": [
    "## Example 5: Pruned modifiers\n",
    "If two ConTextItems result in TagObjects where one is the substring of another, the modifiers will be pruned to keep **only** the larger span. For example, **\"no history of\"** is a negation modifier, while **\"history of\"** is a historical modifier. Both match the text \"no history of afib\", but only \"no history of\" should ultimately modify \"afib\".\n",
    "\n",
    "By default, prune is set to `True`, but can be set to `False` when initiating the context component, as shown below."
   ]
  },
  {
   "cell_type": "code",
   "execution_count": 36,
   "metadata": {},
   "outputs": [],
   "source": [
    "item_data = [ConTextItem(\"no history of\", \"DEFINITE_NEGATED_EXISTENCE\", \"FORWARD\"),\n",
    "            ConTextItem(\"history\", \"HISTORICAL\", \"FORWARD\"),\n",
    "            ]"
   ]
  },
  {
   "cell_type": "code",
   "execution_count": 37,
   "metadata": {},
   "outputs": [],
   "source": [
    "text = \"no history of\""
   ]
  },
  {
   "cell_type": "code",
   "execution_count": 38,
   "metadata": {},
   "outputs": [],
   "source": [
    "context = ConTextComponent(nlp, prune=False)\n",
    "context.add(item_data)"
   ]
  },
  {
   "cell_type": "code",
   "execution_count": 39,
   "metadata": {},
   "outputs": [
    {
     "data": {
      "text/plain": [
       "no history of"
      ]
     },
     "execution_count": 39,
     "metadata": {},
     "output_type": "execute_result"
    }
   ],
   "source": [
    "doc = nlp(text)\n",
    "context(doc)"
   ]
  },
  {
   "cell_type": "code",
   "execution_count": 40,
   "metadata": {},
   "outputs": [
    {
     "data": {
      "text/plain": [
       "[<TagObject> [no history of, DEFINITE_NEGATED_EXISTENCE],\n",
       " <TagObject> [history, HISTORICAL]]"
      ]
     },
     "execution_count": 40,
     "metadata": {},
     "output_type": "execute_result"
    }
   ],
   "source": [
    "doc._.context_graph.modifiers"
   ]
  },
  {
   "cell_type": "code",
   "execution_count": 41,
   "metadata": {},
   "outputs": [],
   "source": [
    "# Now set prune to True\n",
    "context = ConTextComponent(nlp, prune=True)\n",
    "context.add(item_data)"
   ]
  },
  {
   "cell_type": "code",
   "execution_count": 42,
   "metadata": {},
   "outputs": [
    {
     "data": {
      "text/plain": [
       "no history of"
      ]
     },
     "execution_count": 42,
     "metadata": {},
     "output_type": "execute_result"
    }
   ],
   "source": [
    "doc = nlp(text)\n",
    "context(doc)"
   ]
  },
  {
   "cell_type": "code",
   "execution_count": 43,
   "metadata": {},
   "outputs": [
    {
     "data": {
      "text/plain": [
       "[<TagObject> [no history of, DEFINITE_NEGATED_EXISTENCE]]"
      ]
     },
     "execution_count": 43,
     "metadata": {},
     "output_type": "execute_result"
    }
   ],
   "source": [
    "# Only one modifier is left\n",
    "doc._.context_graph.modifiers"
   ]
  },
  {
   "cell_type": "code",
   "execution_count": null,
   "metadata": {},
   "outputs": [],
   "source": []
  },
  {
   "cell_type": "markdown",
   "metadata": {},
   "source": [
    "# Setting additional Span attributes\n",
    "As seen in an earlier notebook, cycontext registers two new attributes for target Spans: `is_experienced` and `is_current`. These values are set to default values of True and changed if a target is modified by certain modifiers. This logic is set in the variable `DEFAULT_ATTRS`. This is a dictionary which maps modifier category names to the attribute name/value pair which should be set if a target is modified by that modifier type."
   ]
  },
  {
   "cell_type": "code",
   "execution_count": 44,
   "metadata": {},
   "outputs": [],
   "source": [
    "from cycontext.context_component import DEFAULT_ATTRS"
   ]
  },
  {
   "cell_type": "code",
   "execution_count": 45,
   "metadata": {},
   "outputs": [
    {
     "data": {
      "text/plain": [
       "{'DEFINITE_NEGATED_EXISTENCE': ('is_experienced', False),\n",
       " 'FAMILY_HISTORY': ('is_experienced', False),\n",
       " 'INDICATION': ('is_experienced', False),\n",
       " 'HISTORICAL': ('is_current', False)}"
      ]
     },
     "execution_count": 45,
     "metadata": {},
     "output_type": "execute_result"
    }
   ],
   "source": [
    "DEFAULT_ATTRS"
   ]
  },
  {
   "cell_type": "markdown",
   "metadata": {},
   "source": [
    "This logic can be defined by creating a dictionary with the same structure as DEFAULT_ATTRS and passing that in as the `add_attrs` parameter. If setting your own extensions, you must first call `Span.set_extension` on each of the extensions. \n",
    "\n",
    "If more complex logic is required, custom attributes can also be set manually outside of the ConTextComponent, for example as a post-processing step."
   ]
  },
  {
   "cell_type": "code",
   "execution_count": 46,
   "metadata": {},
   "outputs": [],
   "source": [
    "from spacy.tokens import Span"
   ]
  },
  {
   "cell_type": "code",
   "execution_count": 47,
   "metadata": {},
   "outputs": [],
   "source": [
    "# Define modifiers and Span attributes\n",
    "custom_attrs = {'DEFINITE_NEGATED_EXISTENCE': ('is_negated', True),\n",
    " 'FAMILY_HISTORY': ('is_family_history', True),\n",
    "}"
   ]
  },
  {
   "cell_type": "code",
   "execution_count": 48,
   "metadata": {},
   "outputs": [],
   "source": [
    "# Register extensions\n",
    "Span.set_extension(\"is_negated\", default=False)\n",
    "Span.set_extension(\"is_family_history\", default=False)"
   ]
  },
  {
   "cell_type": "code",
   "execution_count": 49,
   "metadata": {},
   "outputs": [
    {
     "data": {
      "text/plain": [
       "{'DEFINITE_NEGATED_EXISTENCE': ('is_negated', True),\n",
       " 'FAMILY_HISTORY': ('is_family_history', True)}"
      ]
     },
     "execution_count": 49,
     "metadata": {},
     "output_type": "execute_result"
    }
   ],
   "source": [
    "context = ConTextComponent(nlp, add_attrs=custom_attrs)\n",
    "context.context_attributes_mapping"
   ]
  },
  {
   "cell_type": "code",
   "execution_count": 50,
   "metadata": {},
   "outputs": [],
   "source": [
    "item_data = [ConTextItem(\"no evidence of\", \"DEFINITE_NEGATED_EXISTENCE\", \"FORWARD\"),\n",
    "            ConTextItem(\"family history\", \"FAMILY_HISTORY\", \"FORWARD\"),\n",
    "            ]\n",
    "\n",
    "context.add(item_data)"
   ]
  },
  {
   "cell_type": "code",
   "execution_count": 51,
   "metadata": {},
   "outputs": [
    {
     "data": {
      "text/plain": [
       "(pneumonia, diabetes)"
      ]
     },
     "execution_count": 51,
     "metadata": {},
     "output_type": "execute_result"
    }
   ],
   "source": [
    "doc = nlp(\"There is no evidence of pneumonia. Family history of diabetes.\")\n",
    "\n",
    "doc.ents = doc[5:6], doc[-2:-1]\n",
    "\n",
    "doc.ents"
   ]
  },
  {
   "cell_type": "code",
   "execution_count": 52,
   "metadata": {},
   "outputs": [
    {
     "data": {
      "text/plain": [
       "There is no evidence of pneumonia. Family history of diabetes."
      ]
     },
     "execution_count": 52,
     "metadata": {},
     "output_type": "execute_result"
    }
   ],
   "source": [
    "context(doc)"
   ]
  },
  {
   "cell_type": "markdown",
   "metadata": {},
   "source": [
    "The new attributes are now available in `ent._`:"
   ]
  },
  {
   "cell_type": "code",
   "execution_count": 53,
   "metadata": {},
   "outputs": [
    {
     "name": "stdout",
     "output_type": "stream",
     "text": [
      "pneumonia\n",
      "is_negated:  True\n",
      "is_family_history:  False\n",
      "\n",
      "diabetes\n",
      "is_negated:  False\n",
      "is_family_history:  True\n",
      "\n"
     ]
    }
   ],
   "source": [
    "for ent in doc.ents:\n",
    "    print(ent)\n",
    "    print(\"is_negated: \", ent._.is_negated)\n",
    "    print(\"is_family_history: \", ent._.is_family_history)\n",
    "    print()"
   ]
  },
  {
   "cell_type": "code",
   "execution_count": null,
   "metadata": {},
   "outputs": [],
   "source": []
  },
  {
   "cell_type": "markdown",
   "metadata": {},
   "source": [
    "# Reading and Writing a Knowledge Base\n",
    "ConTextItems can be saved as JSON and read in, which allows a knowledge base to be reused and scaled. This can be done by the `ConTextItem.from_json` method:"
   ]
  },
  {
   "cell_type": "code",
   "execution_count": 54,
   "metadata": {},
   "outputs": [],
   "source": [
    "json_filepath = \"../kb/pneumonia_modifiers.json\""
   ]
  },
  {
   "cell_type": "code",
   "execution_count": 55,
   "metadata": {},
   "outputs": [],
   "source": [
    "item_data = ConTextItem.from_json(json_filepath)"
   ]
  },
  {
   "cell_type": "code",
   "execution_count": 56,
   "metadata": {},
   "outputs": [
    {
     "name": "stdout",
     "output_type": "stream",
     "text": [
      "ConTextItem(literal='are ruled out', category='DEFINITE_NEGATED_EXISTENCE', pattern=None, rule='BACKWARD')\n",
      "ConTextItem(literal='be ruled out', category='INDICATION', pattern=None, rule='BACKWARD')\n",
      "ConTextItem(literal='being ruled out', category='INDICATION', pattern=None, rule='BACKWARD')\n",
      "ConTextItem(literal='can be ruled out', category='DEFINITE_NEGATED_EXISTENCE', pattern=None, rule='BACKWARD')\n",
      "ConTextItem(literal='cannot be excluded', category='AMBIVALENT_EXISTENCE', pattern=None, rule='BACKWARD')\n",
      "ConTextItem(literal='cannot totally be excluded', category='PROBABLE_NEGATED_EXISTENCE', pattern=None, rule='BACKWARD')\n",
      "ConTextItem(literal='could be ruled out', category='DEFINITE_NEGATED_EXISTENCE', pattern=None, rule='BACKWARD')\n",
      "ConTextItem(literal='examination', category='INDICATION', pattern=[{'LOWER': {'REGEX': '(examination|exam|study)'}}], rule='BACKWARD')\n",
      "ConTextItem(literal='free', category='DEFINITE_NEGATED_EXISTENCE', pattern=None, rule='BACKWARD')\n",
      "ConTextItem(literal='has been ruled out', category='DEFINITE_NEGATED_EXISTENCE', pattern=None, rule='BACKWARD')\n"
     ]
    }
   ],
   "source": [
    "for item in item_data[:10]:\n",
    "    print(item)"
   ]
  },
  {
   "cell_type": "code",
   "execution_count": 57,
   "metadata": {},
   "outputs": [
    {
     "data": {
      "text/plain": [
       "{'metadata': None,\n",
       " 'literal': 'has been ruled out',\n",
       " 'category': 'DEFINITE_NEGATED_EXISTENCE',\n",
       " 'pattern': None,\n",
       " 'rule': 'BACKWARD'}"
      ]
     },
     "execution_count": 57,
     "metadata": {},
     "output_type": "execute_result"
    }
   ],
   "source": [
    "item.to_dict()"
   ]
  },
  {
   "cell_type": "markdown",
   "metadata": {},
   "source": [
    "The items can also be saved as JSON by using the `ConTextItem.to_json` method:"
   ]
  },
  {
   "cell_type": "code",
   "execution_count": 58,
   "metadata": {},
   "outputs": [],
   "source": [
    "ConTextItem.to_json(item_data[:2], \"2_modifiers.json\")"
   ]
  },
  {
   "cell_type": "code",
   "execution_count": 59,
   "metadata": {
    "scrolled": true
   },
   "outputs": [
    {
     "name": "stdout",
     "output_type": "stream",
     "text": [
      "{'item_data': [{'metadata': None, 'literal': 'are ruled out', 'category': 'DEFINITE_NEGATED_EXISTENCE', 'pattern': None, 'rule': 'BACKWARD'}, {'metadata': None, 'literal': 'be ruled out', 'category': 'INDICATION', 'pattern': None, 'rule': 'BACKWARD'}]}\n"
     ]
    }
   ],
   "source": [
    "import json\n",
    "with open(\"2_modifiers.json\") as f:\n",
    "    print(json.load(f))"
   ]
  },
  {
   "cell_type": "code",
   "execution_count": null,
   "metadata": {},
   "outputs": [],
   "source": []
  }
 ],
 "metadata": {
  "kernelspec": {
   "display_name": "Python 3",
   "language": "python",
   "name": "python3"
  },
  "language_info": {
   "codemirror_mode": {
    "name": "ipython",
    "version": 3
   },
   "file_extension": ".py",
   "mimetype": "text/x-python",
   "name": "python",
   "nbconvert_exporter": "python",
   "pygments_lexer": "ipython3",
   "version": "3.7.3"
  }
 },
 "nbformat": 4,
 "nbformat_minor": 2
}
